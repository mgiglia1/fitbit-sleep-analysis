{
 "cells": [
  {
   "cell_type": "code",
   "execution_count": 129,
   "metadata": {},
   "outputs": [],
   "source": [
    "import pandas as pd\n",
    "import time\n",
    "import datetime\n",
    "import pytz\n",
    "import matplotlib.pyplot as plt\n",
    "import seaborn as sns"
   ]
  },
  {
   "cell_type": "code",
   "execution_count": 30,
   "metadata": {},
   "outputs": [
    {
     "data": {
      "text/html": [
       "<div>\n",
       "<style scoped>\n",
       "    .dataframe tbody tr th:only-of-type {\n",
       "        vertical-align: middle;\n",
       "    }\n",
       "\n",
       "    .dataframe tbody tr th {\n",
       "        vertical-align: top;\n",
       "    }\n",
       "\n",
       "    .dataframe thead th {\n",
       "        text-align: right;\n",
       "    }\n",
       "</style>\n",
       "<table border=\"1\" class=\"dataframe\">\n",
       "  <thead>\n",
       "    <tr style=\"text-align: right;\">\n",
       "      <th></th>\n",
       "      <th>phone_number</th>\n",
       "      <th>ts</th>\n",
       "      <th>level</th>\n",
       "    </tr>\n",
       "  </thead>\n",
       "  <tbody>\n",
       "    <tr>\n",
       "      <td>490688</td>\n",
       "      <td>4087479586</td>\n",
       "      <td>1534809602</td>\n",
       "      <td>15</td>\n",
       "    </tr>\n",
       "    <tr>\n",
       "      <td>596588</td>\n",
       "      <td>5038942805</td>\n",
       "      <td>1534809604</td>\n",
       "      <td>29</td>\n",
       "    </tr>\n",
       "    <tr>\n",
       "      <td>1105468</td>\n",
       "      <td>7738700842</td>\n",
       "      <td>1534809605</td>\n",
       "      <td>43</td>\n",
       "    </tr>\n",
       "    <tr>\n",
       "      <td>61454</td>\n",
       "      <td>2149062229</td>\n",
       "      <td>1534809606</td>\n",
       "      <td>79</td>\n",
       "    </tr>\n",
       "    <tr>\n",
       "      <td>648413</td>\n",
       "      <td>5105087332</td>\n",
       "      <td>1534809607</td>\n",
       "      <td>84</td>\n",
       "    </tr>\n",
       "    <tr>\n",
       "      <td>...</td>\n",
       "      <td>...</td>\n",
       "      <td>...</td>\n",
       "      <td>...</td>\n",
       "    </tr>\n",
       "    <tr>\n",
       "      <td>750055</td>\n",
       "      <td>5743390378</td>\n",
       "      <td>1542823154</td>\n",
       "      <td>30</td>\n",
       "    </tr>\n",
       "    <tr>\n",
       "      <td>750056</td>\n",
       "      <td>5743390378</td>\n",
       "      <td>1542823215</td>\n",
       "      <td>31</td>\n",
       "    </tr>\n",
       "    <tr>\n",
       "      <td>750057</td>\n",
       "      <td>5743390378</td>\n",
       "      <td>1542823277</td>\n",
       "      <td>32</td>\n",
       "    </tr>\n",
       "    <tr>\n",
       "      <td>750058</td>\n",
       "      <td>5743390378</td>\n",
       "      <td>1542823338</td>\n",
       "      <td>33</td>\n",
       "    </tr>\n",
       "    <tr>\n",
       "      <td>750059</td>\n",
       "      <td>5743390378</td>\n",
       "      <td>1542823378</td>\n",
       "      <td>34</td>\n",
       "    </tr>\n",
       "  </tbody>\n",
       "</table>\n",
       "<p>1461804 rows × 3 columns</p>\n",
       "</div>"
      ],
      "text/plain": [
       "         phone_number          ts  level\n",
       "490688     4087479586  1534809602     15\n",
       "596588     5038942805  1534809604     29\n",
       "1105468    7738700842  1534809605     43\n",
       "61454      2149062229  1534809606     79\n",
       "648413     5105087332  1534809607     84\n",
       "...               ...         ...    ...\n",
       "750055     5743390378  1542823154     30\n",
       "750056     5743390378  1542823215     31\n",
       "750057     5743390378  1542823277     32\n",
       "750058     5743390378  1542823338     33\n",
       "750059     5743390378  1542823378     34\n",
       "\n",
       "[1461804 rows x 3 columns]"
      ]
     },
     "execution_count": 30,
     "metadata": {},
     "output_type": "execute_result"
    }
   ],
   "source": [
    "batt = pd.read_csv(\"allbatterylevels_limited.csv\")\n",
    "batt.sort_values('ts')"
   ]
  },
  {
   "cell_type": "code",
   "execution_count": 31,
   "metadata": {},
   "outputs": [],
   "source": [
    "#batt['ts_hr'] = round(batt['ts']/100,0)\n",
    "#batt.astype({'ts': 'int32'}).dtypes\n",
    "#batt['ts'] = int(batt['ts'])\n",
    "#batt['datetime'] = time.strftime(\"%a, %d %b %Y %H:%M:%S\", time.localtime(batt['ts']))"
   ]
  },
  {
   "cell_type": "code",
   "execution_count": 107,
   "metadata": {},
   "outputs": [],
   "source": [
    "batt['dayofweek'] = round((batt['ts'] - 86400) % (86400*7) / 86400,0)\n",
    "batt['dayofweek'] = batt['dayofweek'].astype(int)"
   ]
  },
  {
   "cell_type": "code",
   "execution_count": 108,
   "metadata": {},
   "outputs": [
    {
     "data": {
      "text/html": [
       "<div>\n",
       "<style scoped>\n",
       "    .dataframe tbody tr th:only-of-type {\n",
       "        vertical-align: middle;\n",
       "    }\n",
       "\n",
       "    .dataframe tbody tr th {\n",
       "        vertical-align: top;\n",
       "    }\n",
       "\n",
       "    .dataframe thead th {\n",
       "        text-align: right;\n",
       "    }\n",
       "</style>\n",
       "<table border=\"1\" class=\"dataframe\">\n",
       "  <thead>\n",
       "    <tr style=\"text-align: right;\">\n",
       "      <th></th>\n",
       "      <th>phone_number</th>\n",
       "      <th>ts</th>\n",
       "      <th>level</th>\n",
       "      <th>mod</th>\n",
       "      <th>dayofweek</th>\n",
       "    </tr>\n",
       "  </thead>\n",
       "  <tbody>\n",
       "    <tr>\n",
       "      <td>0</td>\n",
       "      <td>2018159770</td>\n",
       "      <td>1534913282</td>\n",
       "      <td>81</td>\n",
       "      <td>535682</td>\n",
       "      <td>5</td>\n",
       "    </tr>\n",
       "    <tr>\n",
       "      <td>1</td>\n",
       "      <td>2018159770</td>\n",
       "      <td>1534913877</td>\n",
       "      <td>80</td>\n",
       "      <td>536277</td>\n",
       "      <td>5</td>\n",
       "    </tr>\n",
       "    <tr>\n",
       "      <td>2</td>\n",
       "      <td>2018159770</td>\n",
       "      <td>1534915206</td>\n",
       "      <td>79</td>\n",
       "      <td>537606</td>\n",
       "      <td>5</td>\n",
       "    </tr>\n",
       "    <tr>\n",
       "      <td>3</td>\n",
       "      <td>2018159770</td>\n",
       "      <td>1534917026</td>\n",
       "      <td>78</td>\n",
       "      <td>539426</td>\n",
       "      <td>5</td>\n",
       "    </tr>\n",
       "    <tr>\n",
       "      <td>4</td>\n",
       "      <td>2018159770</td>\n",
       "      <td>1534918867</td>\n",
       "      <td>77</td>\n",
       "      <td>541267</td>\n",
       "      <td>5</td>\n",
       "    </tr>\n",
       "    <tr>\n",
       "      <td>...</td>\n",
       "      <td>...</td>\n",
       "      <td>...</td>\n",
       "      <td>...</td>\n",
       "      <td>...</td>\n",
       "      <td>...</td>\n",
       "    </tr>\n",
       "    <tr>\n",
       "      <td>1461799</td>\n",
       "      <td>9897454601</td>\n",
       "      <td>1541473163</td>\n",
       "      <td>24</td>\n",
       "      <td>442763</td>\n",
       "      <td>4</td>\n",
       "    </tr>\n",
       "    <tr>\n",
       "      <td>1461800</td>\n",
       "      <td>9897454601</td>\n",
       "      <td>1541473225</td>\n",
       "      <td>25</td>\n",
       "      <td>442825</td>\n",
       "      <td>4</td>\n",
       "    </tr>\n",
       "    <tr>\n",
       "      <td>1461801</td>\n",
       "      <td>9897454601</td>\n",
       "      <td>1541473286</td>\n",
       "      <td>26</td>\n",
       "      <td>442886</td>\n",
       "      <td>4</td>\n",
       "    </tr>\n",
       "    <tr>\n",
       "      <td>1461802</td>\n",
       "      <td>9897454601</td>\n",
       "      <td>1541473348</td>\n",
       "      <td>27</td>\n",
       "      <td>442948</td>\n",
       "      <td>4</td>\n",
       "    </tr>\n",
       "    <tr>\n",
       "      <td>1461803</td>\n",
       "      <td>9897454601</td>\n",
       "      <td>1541473430</td>\n",
       "      <td>28</td>\n",
       "      <td>443030</td>\n",
       "      <td>4</td>\n",
       "    </tr>\n",
       "  </tbody>\n",
       "</table>\n",
       "<p>1461804 rows × 5 columns</p>\n",
       "</div>"
      ],
      "text/plain": [
       "         phone_number          ts  level     mod  dayofweek\n",
       "0          2018159770  1534913282     81  535682          5\n",
       "1          2018159770  1534913877     80  536277          5\n",
       "2          2018159770  1534915206     79  537606          5\n",
       "3          2018159770  1534917026     78  539426          5\n",
       "4          2018159770  1534918867     77  541267          5\n",
       "...               ...         ...    ...     ...        ...\n",
       "1461799    9897454601  1541473163     24  442763          4\n",
       "1461800    9897454601  1541473225     25  442825          4\n",
       "1461801    9897454601  1541473286     26  442886          4\n",
       "1461802    9897454601  1541473348     27  442948          4\n",
       "1461803    9897454601  1541473430     28  443030          4\n",
       "\n",
       "[1461804 rows x 5 columns]"
      ]
     },
     "execution_count": 108,
     "metadata": {},
     "output_type": "execute_result"
    }
   ],
   "source": [
    "batt.dayofweek.replace(0, 7,inplace=True)\n",
    "batt"
   ]
  },
  {
   "cell_type": "code",
   "execution_count": 122,
   "metadata": {
    "scrolled": true
   },
   "outputs": [
    {
     "data": {
      "text/html": [
       "<div>\n",
       "<style scoped>\n",
       "    .dataframe tbody tr th:only-of-type {\n",
       "        vertical-align: middle;\n",
       "    }\n",
       "\n",
       "    .dataframe tbody tr th {\n",
       "        vertical-align: top;\n",
       "    }\n",
       "\n",
       "    .dataframe thead th {\n",
       "        text-align: right;\n",
       "    }\n",
       "</style>\n",
       "<table border=\"1\" class=\"dataframe\">\n",
       "  <thead>\n",
       "    <tr style=\"text-align: right;\">\n",
       "      <th></th>\n",
       "      <th>dayofweek</th>\n",
       "      <th>level</th>\n",
       "      <th>ts</th>\n",
       "    </tr>\n",
       "  </thead>\n",
       "  <tbody>\n",
       "    <tr>\n",
       "      <td>0</td>\n",
       "      <td>1</td>\n",
       "      <td>0</td>\n",
       "      <td>118</td>\n",
       "    </tr>\n",
       "    <tr>\n",
       "      <td>1</td>\n",
       "      <td>1</td>\n",
       "      <td>1</td>\n",
       "      <td>222</td>\n",
       "    </tr>\n",
       "    <tr>\n",
       "      <td>2</td>\n",
       "      <td>1</td>\n",
       "      <td>2</td>\n",
       "      <td>298</td>\n",
       "    </tr>\n",
       "    <tr>\n",
       "      <td>3</td>\n",
       "      <td>1</td>\n",
       "      <td>3</td>\n",
       "      <td>374</td>\n",
       "    </tr>\n",
       "    <tr>\n",
       "      <td>4</td>\n",
       "      <td>1</td>\n",
       "      <td>4</td>\n",
       "      <td>450</td>\n",
       "    </tr>\n",
       "    <tr>\n",
       "      <td>...</td>\n",
       "      <td>...</td>\n",
       "      <td>...</td>\n",
       "      <td>...</td>\n",
       "    </tr>\n",
       "    <tr>\n",
       "      <td>702</td>\n",
       "      <td>7</td>\n",
       "      <td>96</td>\n",
       "      <td>1883</td>\n",
       "    </tr>\n",
       "    <tr>\n",
       "      <td>703</td>\n",
       "      <td>7</td>\n",
       "      <td>97</td>\n",
       "      <td>1790</td>\n",
       "    </tr>\n",
       "    <tr>\n",
       "      <td>704</td>\n",
       "      <td>7</td>\n",
       "      <td>98</td>\n",
       "      <td>1698</td>\n",
       "    </tr>\n",
       "    <tr>\n",
       "      <td>705</td>\n",
       "      <td>7</td>\n",
       "      <td>99</td>\n",
       "      <td>1580</td>\n",
       "    </tr>\n",
       "    <tr>\n",
       "      <td>706</td>\n",
       "      <td>7</td>\n",
       "      <td>100</td>\n",
       "      <td>734</td>\n",
       "    </tr>\n",
       "  </tbody>\n",
       "</table>\n",
       "<p>707 rows × 3 columns</p>\n",
       "</div>"
      ],
      "text/plain": [
       "     dayofweek  level    ts\n",
       "0            1      0   118\n",
       "1            1      1   222\n",
       "2            1      2   298\n",
       "3            1      3   374\n",
       "4            1      4   450\n",
       "..         ...    ...   ...\n",
       "702          7     96  1883\n",
       "703          7     97  1790\n",
       "704          7     98  1698\n",
       "705          7     99  1580\n",
       "706          7    100   734\n",
       "\n",
       "[707 rows x 3 columns]"
      ]
     },
     "execution_count": 122,
     "metadata": {},
     "output_type": "execute_result"
    }
   ],
   "source": [
    "grouped = batt[['dayofweek','level', 'ts']].groupby(['dayofweek', 'level'], as_index = False).count()\n",
    "grouped"
   ]
  },
  {
   "cell_type": "code",
   "execution_count": 134,
   "metadata": {},
   "outputs": [
    {
     "data": {
      "image/png": "[encoded data removed]",
      "text/plain": [
       "<Figure size 432x288 with 1 Axes>"
      ]
     },
     "metadata": {
      "needs_background": "light"
     },
     "output_type": "display_data"
    },
    {
     "data": {
      "image/png": "[encoded data removed]",
      "text/plain": [
       "<Figure size 432x288 with 1 Axes>"
      ]
     },
     "metadata": {
      "needs_background": "light"
     },
     "output_type": "display_data"
    },
    {
     "data": {
      "image/png": "[encoded data removed]",
      "text/plain": [
       "<Figure size 432x288 with 1 Axes>"
      ]
     },
     "metadata": {
      "needs_background": "light"
     },
     "output_type": "display_data"
    },
    {
     "data": {
      "image/png": "[encoded data removed]",
      "text/plain": [
       "<Figure size 432x288 with 1 Axes>"
      ]
     },
     "metadata": {
      "needs_background": "light"
     },
     "output_type": "display_data"
    },
    {
     "data": {
      "image/png": "[encoded data removed]",
      "text/plain": [
       "<Figure size 432x288 with 1 Axes>"
      ]
     },
     "metadata": {
      "needs_background": "light"
     },
     "output_type": "display_data"
    },
    {
     "data": {
      "image/png": "[encoded data removed]",
      "text/plain": [
       "<Figure size 432x288 with 1 Axes>"
      ]
     },
     "metadata": {
      "needs_background": "light"
     },
     "output_type": "display_data"
    },
    {
     "data": {
      "image/png": "[encoded data removed]",
      "text/plain": [
       "<Figure size 432x288 with 1 Axes>"
      ]
     },
     "metadata": {
      "needs_background": "light"
     },
     "output_type": "display_data"
    }
   ],
   "source": [
    "for i in range(1,8):\n",
    "    x = grouped[grouped['dayofweek'] == i].level\n",
    "    y = grouped[grouped['dayofweek']== i].ts\n",
    "    plt.figure()\n",
    "    plt.bar(x,y)"
   ]
  },
  {
   "cell_type": "code",
   "execution_count": 78,
   "metadata": {},
   "outputs": [
    {
     "data": {
      "text/plain": [
       "datetime.datetime(2019, 12, 4, 5, 2, 20, tzinfo=datetime.timezone.utc)"
      ]
     },
     "execution_count": 78,
     "metadata": {},
     "output_type": "execute_result"
    }
   ],
   "source": [
    "a = datetime.datetime.utcfromtimestamp(1575435740).replace(tzinfo=datetime.timezone.utc)\n",
    "a"
   ]
  },
  {
   "cell_type": "code",
   "execution_count": 95,
   "metadata": {},
   "outputs": [
    {
     "data": {
      "text/plain": [
       "'Wed 04 Dec 2019 00:02:20'"
      ]
     },
     "execution_count": 95,
     "metadata": {},
     "output_type": "execute_result"
    }
   ],
   "source": [
    "b = time.strftime(\"%a %d %b %Y %H:%M:%S\", time.localtime(1575435740))\n",
    "b"
   ]
  },
  {
   "cell_type": "code",
   "execution_count": 85,
   "metadata": {},
   "outputs": [
    {
     "data": {
      "text/plain": [
       "5"
      ]
     },
     "execution_count": 85,
     "metadata": {},
     "output_type": "execute_result"
    }
   ],
   "source": [
    "a.hour"
   ]
  },
  {
   "cell_type": "code",
   "execution_count": 100,
   "metadata": {},
   "outputs": [
    {
     "data": {
      "text/plain": [
       "'00:02:20'"
      ]
     },
     "execution_count": 100,
     "metadata": {},
     "output_type": "execute_result"
    }
   ],
   "source": [
    "b.split()[4]"
   ]
  },
  {
   "cell_type": "code",
   "execution_count": null,
   "metadata": {},
   "outputs": [],
   "source": []
  }
 ],
 "metadata": {
  "kernelspec": {
   "display_name": "Python 3",
   "language": "python",
   "name": "python3"
  },
  "language_info": {
   "codemirror_mode": {
    "name": "ipython",
    "version": 3
   },
   "file_extension": ".py",
   "mimetype": "text/x-python",
   "name": "python",
   "nbconvert_exporter": "python",
   "pygments_lexer": "ipython3",
   "version": "3.7.4"
  }
 },
 "nbformat": 4,
 "nbformat_minor": 2
}
