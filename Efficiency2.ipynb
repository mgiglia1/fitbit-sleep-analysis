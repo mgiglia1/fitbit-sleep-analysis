{
 "cells": [
  {
   "cell_type": "code",
   "execution_count": 130,
   "metadata": {},
   "outputs": [],
   "source": [
    "import pandas as pd\n",
    "import matplotlib.pyplot as plt\n",
    "import numpy as np\n",
    "%matplotlib inline\n",
    "import statsmodels.api as sm # import statsmodels \n",
    "from sklearn import linear_model\n",
    "from scipy import stats\n",
    "import seaborn as sns\n",
    "from scipy.stats import ttest_1samp"
   ]
  },
  {
   "cell_type": "code",
   "execution_count": 131,
   "metadata": {},
   "outputs": [],
   "source": [
    "df = pd.read_csv('full.csv')\n",
    "df = df[df['isMainSleep'] == 1]\n",
    "df['week_start'] = pd.to_datetime(df['dataDate']).dt.to_period('W').apply(lambda r: r.start_time)"
   ]
  },
  {
   "cell_type": "code",
   "execution_count": 132,
   "metadata": {},
   "outputs": [
    {
     "data": {
      "text/html": [
       "<div>\n",
       "<style scoped>\n",
       "    .dataframe tbody tr th:only-of-type {\n",
       "        vertical-align: middle;\n",
       "    }\n",
       "\n",
       "    .dataframe tbody tr th {\n",
       "        vertical-align: top;\n",
       "    }\n",
       "\n",
       "    .dataframe thead th {\n",
       "        text-align: right;\n",
       "    }\n",
       "</style>\n",
       "<table border=\"1\" class=\"dataframe\">\n",
       "  <thead>\n",
       "    <tr style=\"text-align: right;\">\n",
       "      <th></th>\n",
       "      <th>participID</th>\n",
       "      <th>dataDate</th>\n",
       "      <th>efficiency</th>\n",
       "      <th>week_start</th>\n",
       "    </tr>\n",
       "  </thead>\n",
       "  <tbody>\n",
       "    <tr>\n",
       "      <td>0</td>\n",
       "      <td>3LZGLG</td>\n",
       "      <td>2015-08-25</td>\n",
       "      <td>97</td>\n",
       "      <td>2015-08-24</td>\n",
       "    </tr>\n",
       "    <tr>\n",
       "      <td>1</td>\n",
       "      <td>3LZGLG</td>\n",
       "      <td>2015-08-26</td>\n",
       "      <td>96</td>\n",
       "      <td>2015-08-24</td>\n",
       "    </tr>\n",
       "    <tr>\n",
       "      <td>2</td>\n",
       "      <td>3LZGLG</td>\n",
       "      <td>2015-08-27</td>\n",
       "      <td>95</td>\n",
       "      <td>2015-08-24</td>\n",
       "    </tr>\n",
       "    <tr>\n",
       "      <td>3</td>\n",
       "      <td>3LZGLG</td>\n",
       "      <td>2015-08-28</td>\n",
       "      <td>97</td>\n",
       "      <td>2015-08-24</td>\n",
       "    </tr>\n",
       "    <tr>\n",
       "      <td>4</td>\n",
       "      <td>3LZGLG</td>\n",
       "      <td>2015-08-29</td>\n",
       "      <td>90</td>\n",
       "      <td>2015-08-24</td>\n",
       "    </tr>\n",
       "    <tr>\n",
       "      <td>...</td>\n",
       "      <td>...</td>\n",
       "      <td>...</td>\n",
       "      <td>...</td>\n",
       "      <td>...</td>\n",
       "    </tr>\n",
       "    <tr>\n",
       "      <td>39459</td>\n",
       "      <td>4GM577</td>\n",
       "      <td>2016-05-02</td>\n",
       "      <td>91</td>\n",
       "      <td>2016-05-02</td>\n",
       "    </tr>\n",
       "    <tr>\n",
       "      <td>39460</td>\n",
       "      <td>4GM577</td>\n",
       "      <td>2016-05-03</td>\n",
       "      <td>91</td>\n",
       "      <td>2016-05-02</td>\n",
       "    </tr>\n",
       "    <tr>\n",
       "      <td>39461</td>\n",
       "      <td>4GM577</td>\n",
       "      <td>2016-05-04</td>\n",
       "      <td>89</td>\n",
       "      <td>2016-05-02</td>\n",
       "    </tr>\n",
       "    <tr>\n",
       "      <td>39462</td>\n",
       "      <td>4GM577</td>\n",
       "      <td>2016-05-05</td>\n",
       "      <td>93</td>\n",
       "      <td>2016-05-02</td>\n",
       "    </tr>\n",
       "    <tr>\n",
       "      <td>39463</td>\n",
       "      <td>4GM577</td>\n",
       "      <td>2016-05-06</td>\n",
       "      <td>96</td>\n",
       "      <td>2016-05-02</td>\n",
       "    </tr>\n",
       "  </tbody>\n",
       "</table>\n",
       "<p>33339 rows × 4 columns</p>\n",
       "</div>"
      ],
      "text/plain": [
       "      participID    dataDate  efficiency week_start\n",
       "0         3LZGLG  2015-08-25          97 2015-08-24\n",
       "1         3LZGLG  2015-08-26          96 2015-08-24\n",
       "2         3LZGLG  2015-08-27          95 2015-08-24\n",
       "3         3LZGLG  2015-08-28          97 2015-08-24\n",
       "4         3LZGLG  2015-08-29          90 2015-08-24\n",
       "...          ...         ...         ...        ...\n",
       "39459     4GM577  2016-05-02          91 2016-05-02\n",
       "39460     4GM577  2016-05-03          91 2016-05-02\n",
       "39461     4GM577  2016-05-04          89 2016-05-02\n",
       "39462     4GM577  2016-05-05          93 2016-05-02\n",
       "39463     4GM577  2016-05-06          96 2016-05-02\n",
       "\n",
       "[33339 rows x 4 columns]"
      ]
     },
     "execution_count": 132,
     "metadata": {},
     "output_type": "execute_result"
    }
   ],
   "source": [
    "eff = df[['participID', 'dataDate', 'efficiency', 'week_start']]\n",
    "eff\n"
   ]
  },
  {
   "cell_type": "code",
   "execution_count": 133,
   "metadata": {},
   "outputs": [
    {
     "data": {
      "text/html": [
       "<div>\n",
       "<style scoped>\n",
       "    .dataframe tbody tr th:only-of-type {\n",
       "        vertical-align: middle;\n",
       "    }\n",
       "\n",
       "    .dataframe tbody tr th {\n",
       "        vertical-align: top;\n",
       "    }\n",
       "\n",
       "    .dataframe thead th {\n",
       "        text-align: right;\n",
       "    }\n",
       "</style>\n",
       "<table border=\"1\" class=\"dataframe\">\n",
       "  <thead>\n",
       "    <tr style=\"text-align: right;\">\n",
       "      <th></th>\n",
       "      <th>participID</th>\n",
       "      <th>week_start</th>\n",
       "      <th>efficiency</th>\n",
       "    </tr>\n",
       "  </thead>\n",
       "  <tbody>\n",
       "    <tr>\n",
       "      <td>0</td>\n",
       "      <td>3LZGLG</td>\n",
       "      <td>2015-08-24</td>\n",
       "      <td>95.500000</td>\n",
       "    </tr>\n",
       "    <tr>\n",
       "      <td>1</td>\n",
       "      <td>3LZGLG</td>\n",
       "      <td>2015-08-31</td>\n",
       "      <td>96.142857</td>\n",
       "    </tr>\n",
       "    <tr>\n",
       "      <td>2</td>\n",
       "      <td>3LZGLG</td>\n",
       "      <td>2015-09-07</td>\n",
       "      <td>97.142857</td>\n",
       "    </tr>\n",
       "    <tr>\n",
       "      <td>3</td>\n",
       "      <td>3LZGLG</td>\n",
       "      <td>2015-09-14</td>\n",
       "      <td>95.428571</td>\n",
       "    </tr>\n",
       "    <tr>\n",
       "      <td>4</td>\n",
       "      <td>3LZGLG</td>\n",
       "      <td>2015-09-21</td>\n",
       "      <td>96.714286</td>\n",
       "    </tr>\n",
       "  </tbody>\n",
       "</table>\n",
       "</div>"
      ],
      "text/plain": [
       "  participID week_start  efficiency\n",
       "0     3LZGLG 2015-08-24   95.500000\n",
       "1     3LZGLG 2015-08-31   96.142857\n",
       "2     3LZGLG 2015-09-07   97.142857\n",
       "3     3LZGLG 2015-09-14   95.428571\n",
       "4     3LZGLG 2015-09-21   96.714286"
      ]
     },
     "execution_count": 133,
     "metadata": {},
     "output_type": "execute_result"
    }
   ],
   "source": [
    "eff = eff.groupby(['participID', 'week_start'], as_index=False).mean()\n",
    "eff.head()"
   ]
  },
  {
   "cell_type": "code",
   "execution_count": 134,
   "metadata": {},
   "outputs": [
    {
     "data": {
      "text/html": [
       "<div>\n",
       "<style scoped>\n",
       "    .dataframe tbody tr th:only-of-type {\n",
       "        vertical-align: middle;\n",
       "    }\n",
       "\n",
       "    .dataframe tbody tr th {\n",
       "        vertical-align: top;\n",
       "    }\n",
       "\n",
       "    .dataframe thead th {\n",
       "        text-align: right;\n",
       "    }\n",
       "</style>\n",
       "<table border=\"1\" class=\"dataframe\">\n",
       "  <thead>\n",
       "    <tr style=\"text-align: right;\">\n",
       "      <th>week_start</th>\n",
       "      <th>2015-08-24</th>\n",
       "      <th>2015-08-31</th>\n",
       "      <th>2015-09-07</th>\n",
       "      <th>2015-09-14</th>\n",
       "      <th>2015-09-21</th>\n",
       "      <th>2015-09-28</th>\n",
       "      <th>2015-10-05</th>\n",
       "      <th>2015-10-12</th>\n",
       "      <th>2015-10-19</th>\n",
       "      <th>2015-10-26</th>\n",
       "      <th>...</th>\n",
       "      <th>2016-02-29</th>\n",
       "      <th>2016-03-07</th>\n",
       "      <th>2016-03-14</th>\n",
       "      <th>2016-03-21</th>\n",
       "      <th>2016-03-28</th>\n",
       "      <th>2016-04-04</th>\n",
       "      <th>2016-04-11</th>\n",
       "      <th>2016-04-18</th>\n",
       "      <th>2016-04-25</th>\n",
       "      <th>2016-05-02</th>\n",
       "    </tr>\n",
       "    <tr>\n",
       "      <th>participID</th>\n",
       "      <th></th>\n",
       "      <th></th>\n",
       "      <th></th>\n",
       "      <th></th>\n",
       "      <th></th>\n",
       "      <th></th>\n",
       "      <th></th>\n",
       "      <th></th>\n",
       "      <th></th>\n",
       "      <th></th>\n",
       "      <th></th>\n",
       "      <th></th>\n",
       "      <th></th>\n",
       "      <th></th>\n",
       "      <th></th>\n",
       "      <th></th>\n",
       "      <th></th>\n",
       "      <th></th>\n",
       "      <th></th>\n",
       "      <th></th>\n",
       "      <th></th>\n",
       "    </tr>\n",
       "  </thead>\n",
       "  <tbody>\n",
       "    <tr>\n",
       "      <td>3LZGLG</td>\n",
       "      <td>95.50</td>\n",
       "      <td>96.142857</td>\n",
       "      <td>97.142857</td>\n",
       "      <td>95.428571</td>\n",
       "      <td>96.714286</td>\n",
       "      <td>95.714286</td>\n",
       "      <td>95.000000</td>\n",
       "      <td>95.428571</td>\n",
       "      <td>96.00</td>\n",
       "      <td>92.857143</td>\n",
       "      <td>...</td>\n",
       "      <td>97.285714</td>\n",
       "      <td>95.666667</td>\n",
       "      <td>94.000000</td>\n",
       "      <td>95.142857</td>\n",
       "      <td>92.571429</td>\n",
       "      <td>94.857143</td>\n",
       "      <td>95.428571</td>\n",
       "      <td>93.571429</td>\n",
       "      <td>92.714286</td>\n",
       "      <td>94.00</td>\n",
       "    </tr>\n",
       "    <tr>\n",
       "      <td>3LZJFK</td>\n",
       "      <td>94.20</td>\n",
       "      <td>95.142857</td>\n",
       "      <td>95.571429</td>\n",
       "      <td>92.600000</td>\n",
       "      <td>95.142857</td>\n",
       "      <td>93.714286</td>\n",
       "      <td>93.000000</td>\n",
       "      <td>94.000000</td>\n",
       "      <td>92.00</td>\n",
       "      <td>95.166667</td>\n",
       "      <td>...</td>\n",
       "      <td>96.000000</td>\n",
       "      <td>95.142857</td>\n",
       "      <td>94.833333</td>\n",
       "      <td>95.428571</td>\n",
       "      <td>94.571429</td>\n",
       "      <td>94.000000</td>\n",
       "      <td>96.000000</td>\n",
       "      <td>93.857143</td>\n",
       "      <td>93.333333</td>\n",
       "      <td>NaN</td>\n",
       "    </tr>\n",
       "    <tr>\n",
       "      <td>3LZRZQ</td>\n",
       "      <td>NaN</td>\n",
       "      <td>96.000000</td>\n",
       "      <td>94.000000</td>\n",
       "      <td>95.000000</td>\n",
       "      <td>93.285714</td>\n",
       "      <td>92.571429</td>\n",
       "      <td>93.571429</td>\n",
       "      <td>92.142857</td>\n",
       "      <td>94.25</td>\n",
       "      <td>92.142857</td>\n",
       "      <td>...</td>\n",
       "      <td>95.200000</td>\n",
       "      <td>94.000000</td>\n",
       "      <td>94.571429</td>\n",
       "      <td>96.333333</td>\n",
       "      <td>94.428571</td>\n",
       "      <td>95.333333</td>\n",
       "      <td>96.571429</td>\n",
       "      <td>94.857143</td>\n",
       "      <td>95.857143</td>\n",
       "      <td>94.40</td>\n",
       "    </tr>\n",
       "    <tr>\n",
       "      <td>3M29ZH</td>\n",
       "      <td>98.00</td>\n",
       "      <td>97.142857</td>\n",
       "      <td>98.400000</td>\n",
       "      <td>97.000000</td>\n",
       "      <td>97.666667</td>\n",
       "      <td>81.500000</td>\n",
       "      <td>97.750000</td>\n",
       "      <td>97.833333</td>\n",
       "      <td>97.60</td>\n",
       "      <td>95.500000</td>\n",
       "      <td>...</td>\n",
       "      <td>98.400000</td>\n",
       "      <td>98.750000</td>\n",
       "      <td>97.600000</td>\n",
       "      <td>97.000000</td>\n",
       "      <td>99.200000</td>\n",
       "      <td>98.500000</td>\n",
       "      <td>98.750000</td>\n",
       "      <td>98.142857</td>\n",
       "      <td>97.800000</td>\n",
       "      <td>97.75</td>\n",
       "    </tr>\n",
       "    <tr>\n",
       "      <td>3M2QNS</td>\n",
       "      <td>94.25</td>\n",
       "      <td>93.166667</td>\n",
       "      <td>94.500000</td>\n",
       "      <td>91.857143</td>\n",
       "      <td>92.600000</td>\n",
       "      <td>92.000000</td>\n",
       "      <td>91.600000</td>\n",
       "      <td>90.571429</td>\n",
       "      <td>86.50</td>\n",
       "      <td>90.833333</td>\n",
       "      <td>...</td>\n",
       "      <td>93.833333</td>\n",
       "      <td>92.800000</td>\n",
       "      <td>93.285714</td>\n",
       "      <td>94.428571</td>\n",
       "      <td>94.000000</td>\n",
       "      <td>92.500000</td>\n",
       "      <td>93.250000</td>\n",
       "      <td>94.142857</td>\n",
       "      <td>93.800000</td>\n",
       "      <td>93.50</td>\n",
       "    </tr>\n",
       "  </tbody>\n",
       "</table>\n",
       "<p>5 rows × 37 columns</p>\n",
       "</div>"
      ],
      "text/plain": [
       "week_start  2015-08-24  2015-08-31  2015-09-07  2015-09-14  2015-09-21  \\\n",
       "participID                                                               \n",
       "3LZGLG           95.50   96.142857   97.142857   95.428571   96.714286   \n",
       "3LZJFK           94.20   95.142857   95.571429   92.600000   95.142857   \n",
       "3LZRZQ             NaN   96.000000   94.000000   95.000000   93.285714   \n",
       "3M29ZH           98.00   97.142857   98.400000   97.000000   97.666667   \n",
       "3M2QNS           94.25   93.166667   94.500000   91.857143   92.600000   \n",
       "\n",
       "week_start  2015-09-28  2015-10-05  2015-10-12  2015-10-19  2015-10-26  ...  \\\n",
       "participID                                                              ...   \n",
       "3LZGLG       95.714286   95.000000   95.428571       96.00   92.857143  ...   \n",
       "3LZJFK       93.714286   93.000000   94.000000       92.00   95.166667  ...   \n",
       "3LZRZQ       92.571429   93.571429   92.142857       94.25   92.142857  ...   \n",
       "3M29ZH       81.500000   97.750000   97.833333       97.60   95.500000  ...   \n",
       "3M2QNS       92.000000   91.600000   90.571429       86.50   90.833333  ...   \n",
       "\n",
       "week_start  2016-02-29  2016-03-07  2016-03-14  2016-03-21  2016-03-28  \\\n",
       "participID                                                               \n",
       "3LZGLG       97.285714   95.666667   94.000000   95.142857   92.571429   \n",
       "3LZJFK       96.000000   95.142857   94.833333   95.428571   94.571429   \n",
       "3LZRZQ       95.200000   94.000000   94.571429   96.333333   94.428571   \n",
       "3M29ZH       98.400000   98.750000   97.600000   97.000000   99.200000   \n",
       "3M2QNS       93.833333   92.800000   93.285714   94.428571   94.000000   \n",
       "\n",
       "week_start  2016-04-04  2016-04-11  2016-04-18  2016-04-25  2016-05-02  \n",
       "participID                                                              \n",
       "3LZGLG       94.857143   95.428571   93.571429   92.714286       94.00  \n",
       "3LZJFK       94.000000   96.000000   93.857143   93.333333         NaN  \n",
       "3LZRZQ       95.333333   96.571429   94.857143   95.857143       94.40  \n",
       "3M29ZH       98.500000   98.750000   98.142857   97.800000       97.75  \n",
       "3M2QNS       92.500000   93.250000   94.142857   93.800000       93.50  \n",
       "\n",
       "[5 rows x 37 columns]"
      ]
     },
     "execution_count": 134,
     "metadata": {},
     "output_type": "execute_result"
    }
   ],
   "source": [
    "pivot = eff.pivot(index='participID', columns='week_start', values='efficiency')\n",
    "pivot.head()"
   ]
  },
  {
   "cell_type": "code",
   "execution_count": 135,
   "metadata": {},
   "outputs": [],
   "source": [
    "pivot_drop = pivot.dropna()\n",
    "#68 participants who had at least one night of data from all 37 weeks "
   ]
  },
  {
   "cell_type": "code",
   "execution_count": 136,
   "metadata": {},
   "outputs": [],
   "source": [
    "pdrop= pivot_drop[(np.abs(stats.zscore(pivot_drop)) < 3).all(axis=1)]"
   ]
  },
  {
   "cell_type": "code",
   "execution_count": 155,
   "metadata": {},
   "outputs": [
    {
     "data": {
      "text/plain": [
       "['2015-08-24',\n",
       " '2015-08-31',\n",
       " '2015-09-07',\n",
       " '2015-09-14',\n",
       " '2015-09-21',\n",
       " '2015-09-28',\n",
       " '2015-10-05',\n",
       " '2015-10-12',\n",
       " '2015-10-19',\n",
       " '2015-10-26',\n",
       " '2015-11-02',\n",
       " '2015-11-09',\n",
       " '2015-11-16',\n",
       " '2015-11-23',\n",
       " '2015-11-30',\n",
       " '2015-12-07',\n",
       " '2015-12-14',\n",
       " '2015-12-21',\n",
       " '2015-12-28',\n",
       " '2016-01-04',\n",
       " '2016-01-11',\n",
       " '2016-01-18',\n",
       " '2016-01-25',\n",
       " '2016-02-01',\n",
       " '2016-02-08',\n",
       " '2016-02-15',\n",
       " '2016-02-22',\n",
       " '2016-02-29',\n",
       " '2016-03-07',\n",
       " '2016-03-14',\n",
       " '2016-03-21',\n",
       " '2016-03-28',\n",
       " '2016-04-04',\n",
       " '2016-04-11',\n",
       " '2016-04-18',\n",
       " '2016-04-25',\n",
       " '2016-05-02']"
      ]
     },
     "execution_count": 155,
     "metadata": {},
     "output_type": "execute_result"
    }
   ],
   "source": [
    "ww"
   ]
  },
  {
   "cell_type": "code",
   "execution_count": 173,
   "metadata": {
    "scrolled": false
   },
   "outputs": [
    {
     "data": {
      "image/png": "[encoded data removed]",
      "text/plain": [
       "<Figure size 864x360 with 1 Axes>"
      ]
     },
     "metadata": {
      "needs_background": "light"
     },
     "output_type": "display_data"
    }
   ],
   "source": [
    "pdrop.boxplot(figsize=(12,5), fontsize=12);\n",
    "plt.xticks(range(1, len(ww)+1),ww, fontsize=12);\n",
    "plt.xticks(rotation=90);\n",
    "plt.title('Distribution of Sleep Efficiency By Week', fontsize=18, fontweight='bold');\n",
    "plt.ylabel('Sleep Efficiency (%)', fontsize=14);\n",
    "plt.xlabel('Week', fontsize=14);\n",
    "plt.savefig('Figure2', dpi=300, bbox_inches='tight')"
   ]
  },
  {
   "cell_type": "code",
   "execution_count": 138,
   "metadata": {},
   "outputs": [],
   "source": [
    "def paired_t_test(before, after):\n",
    "    ttest,pval = stats.ttest_rel(before, after)\n",
    "    #print(pval)\n",
    "    if pval<0.10:\n",
    "        print(\"reject null hypothesis\")\n",
    "    #else:\n",
    "    #    print(\"accept null hypothesis\")"
   ]
  },
  {
   "cell_type": "code",
   "execution_count": 139,
   "metadata": {},
   "outputs": [],
   "source": [
    "pd_flat = pdrop.reset_index()"
   ]
  },
  {
   "cell_type": "code",
   "execution_count": 140,
   "metadata": {},
   "outputs": [
    {
     "name": "stdout",
     "output_type": "stream",
     "text": [
      "2015-08-31 00:00:00\n",
      "2015-09-07 00:00:00\n",
      "2015-09-14 00:00:00\n",
      "2015-09-21 00:00:00\n",
      "2015-09-28 00:00:00\n",
      "2015-10-05 00:00:00\n",
      "2015-10-12 00:00:00\n",
      "2015-10-19 00:00:00\n",
      "reject null hypothesis\n",
      "2015-10-26 00:00:00\n",
      "2015-11-02 00:00:00\n",
      "2015-11-09 00:00:00\n",
      "2015-11-16 00:00:00\n",
      "2015-11-23 00:00:00\n",
      "2015-11-30 00:00:00\n",
      "2015-12-07 00:00:00\n",
      "2015-12-14 00:00:00\n",
      "2015-12-21 00:00:00\n",
      "2015-12-28 00:00:00\n",
      "2016-01-04 00:00:00\n",
      "2016-01-11 00:00:00\n",
      "2016-01-18 00:00:00\n",
      "reject null hypothesis\n",
      "2016-01-25 00:00:00\n",
      "2016-02-01 00:00:00\n",
      "2016-02-08 00:00:00\n",
      "2016-02-15 00:00:00\n",
      "2016-02-22 00:00:00\n",
      "2016-02-29 00:00:00\n",
      "2016-03-07 00:00:00\n",
      "2016-03-14 00:00:00\n",
      "reject null hypothesis\n",
      "2016-03-21 00:00:00\n",
      "2016-03-28 00:00:00\n",
      "2016-04-04 00:00:00\n",
      "2016-04-11 00:00:00\n",
      "2016-04-18 00:00:00\n",
      "2016-04-25 00:00:00\n",
      "reject null hypothesis\n",
      "2016-05-02 00:00:00\n"
     ]
    }
   ],
   "source": [
    "weeks = pdrop.columns\n",
    "l = len(weeks)\n",
    "for index, obj in enumerate(weeks):\n",
    "    if index < (l - 1):\n",
    "        print(weeks[index+1])\n",
    "        this_week = pd_flat[weeks[index]]\n",
    "        next_week = pd_flat[weeks[index+1]]\n",
    "        paired_t_test(this_week, next_week)"
   ]
  },
  {
   "cell_type": "code",
   "execution_count": 141,
   "metadata": {},
   "outputs": [],
   "source": [
    "# checking normality: is paired t test the right thing to be doing?"
   ]
  },
  {
   "cell_type": "code",
   "execution_count": 142,
   "metadata": {},
   "outputs": [],
   "source": [
    "def check_normal(before, after):\n",
    "    diff = before - after\n",
    "    diff.plot(kind='hist', title= 'Efficiency Difference')\n",
    "    plt.show()"
   ]
  },
  {
   "cell_type": "code",
   "execution_count": 143,
   "metadata": {},
   "outputs": [],
   "source": [
    "weeks = pdrop.columns\n",
    "l = len(weeks)\n",
    "for index, obj in enumerate(weeks):\n",
    "    if index < (l - 1):\n",
    "       # print(weeks[index+1])\n",
    "        this_week = pd_flat[weeks[index]]\n",
    "        next_week = pd_flat[weeks[index+1]]\n",
    "       # check_normal(this_week, next_week)"
   ]
  },
  {
   "cell_type": "markdown",
   "metadata": {},
   "source": [
    "## Wilcoxon Signed Rank Test\n",
    "### No assumptions about normality"
   ]
  },
  {
   "cell_type": "code",
   "execution_count": 144,
   "metadata": {},
   "outputs": [],
   "source": [
    "def wilcoxon_t_test(before, after, pvals):\n",
    "    ttest,pval = stats.wilcoxon(before, after)\n",
    "    #print(pval)\n",
    "    if pval<0.05:\n",
    "        print(\"reject null hypothesis\")\n",
    "    pvals.append(pval)\n",
    "    #else:\n",
    "    #    print(\"accept null hypothesis\")stats.wilcoxon(df['bp_before'], df['bp_after'])"
   ]
  },
  {
   "cell_type": "code",
   "execution_count": 145,
   "metadata": {},
   "outputs": [
    {
     "name": "stdout",
     "output_type": "stream",
     "text": [
      "2015-08-31 00:00:00\n",
      "2015-09-07 00:00:00\n",
      "2015-09-14 00:00:00\n",
      "2015-09-21 00:00:00\n",
      "2015-09-28 00:00:00\n",
      "2015-10-05 00:00:00\n",
      "2015-10-12 00:00:00\n",
      "2015-10-19 00:00:00\n",
      "2015-10-26 00:00:00\n",
      "2015-11-02 00:00:00\n",
      "2015-11-09 00:00:00\n",
      "2015-11-16 00:00:00\n",
      "2015-11-23 00:00:00\n",
      "2015-11-30 00:00:00\n",
      "2015-12-07 00:00:00\n",
      "2015-12-14 00:00:00\n",
      "2015-12-21 00:00:00\n",
      "2015-12-28 00:00:00\n",
      "2016-01-04 00:00:00\n",
      "2016-01-11 00:00:00\n",
      "2016-01-18 00:00:00\n",
      "2016-01-25 00:00:00\n",
      "2016-02-01 00:00:00\n",
      "2016-02-08 00:00:00\n",
      "2016-02-15 00:00:00\n",
      "2016-02-22 00:00:00\n",
      "2016-02-29 00:00:00\n",
      "2016-03-07 00:00:00\n",
      "2016-03-14 00:00:00\n",
      "reject null hypothesis\n",
      "2016-03-21 00:00:00\n",
      "2016-03-28 00:00:00\n",
      "2016-04-04 00:00:00\n",
      "2016-04-11 00:00:00\n",
      "2016-04-18 00:00:00\n",
      "2016-04-25 00:00:00\n",
      "reject null hypothesis\n",
      "2016-05-02 00:00:00\n"
     ]
    }
   ],
   "source": [
    "weeks = pdrop.columns\n",
    "pvals = []\n",
    "l = len(weeks)\n",
    "for index, obj in enumerate(weeks):\n",
    "    if index < (l - 1):\n",
    "        print(weeks[index+1])\n",
    "        this_week = pd_flat[weeks[index]]\n",
    "        next_week = pd_flat[weeks[index+1]]\n",
    "        wilcoxon_t_test(this_week, next_week, pvals)"
   ]
  },
  {
   "cell_type": "code",
   "execution_count": 146,
   "metadata": {},
   "outputs": [
    {
     "data": {
      "text/plain": [
       "Index(['2015-08-31', '2015-09-07', '2015-09-14', '2015-09-21', '2015-09-28',\n",
       "       '2015-10-05', '2015-10-12', '2015-10-19', '2015-10-26', '2015-11-02',\n",
       "       '2015-11-09', '2015-11-16', '2015-11-23', '2015-11-30', '2015-12-07',\n",
       "       '2015-12-14', '2015-12-21', '2015-12-28', '2016-01-04', '2016-01-11',\n",
       "       '2016-01-18', '2016-01-25', '2016-02-01', '2016-02-08', '2016-02-15',\n",
       "       '2016-02-22', '2016-02-29', '2016-03-07', '2016-03-14', '2016-03-21',\n",
       "       '2016-03-28', '2016-04-04', '2016-04-11', '2016-04-18', '2016-04-25',\n",
       "       '2016-05-02'],\n",
       "      dtype='object', name='week_start')"
      ]
     },
     "execution_count": 146,
     "metadata": {},
     "output_type": "execute_result"
    }
   ],
   "source": [
    "w"
   ]
  },
  {
   "cell_type": "code",
   "execution_count": 147,
   "metadata": {},
   "outputs": [],
   "source": [
    "w2w = weeks[1:]"
   ]
  },
  {
   "cell_type": "code",
   "execution_count": 148,
   "metadata": {},
   "outputs": [
    {
     "data": {
      "image/png": "[encoded data removed]",
      "text/plain": [
       "<Figure size 720x432 with 1 Axes>"
      ]
     },
     "metadata": {
      "needs_background": "light"
     },
     "output_type": "display_data"
    }
   ],
   "source": [
    "plt.figure(figsize=(10,6));\n",
    "myplot = plt.plot(w2w, pvals, marker='o', color='blue')\n",
    "plt.xticks(rotation=90);\n",
    "plt.yticks(np.arange(0, 1, 0.05));\n",
    "plt.xticks(w2w);\n",
    "plt.show()"
   ]
  },
  {
   "cell_type": "code",
   "execution_count": 149,
   "metadata": {},
   "outputs": [],
   "source": [
    "types = ['2nd Week Back'\n",
    "         , 'Normal'\n",
    "         , 'Normal'\n",
    "         , 'Normal'\n",
    "         , 'Normal'\n",
    "         , 'Pre-Exams'\n",
    "         , 'Exams'\n",
    "         , 'Break'\n",
    "         ,'Back from Break'\n",
    "         , '2nd Week Back'\n",
    "         , 'Normal'\n",
    "         , 'Normal'\n",
    "         , 'Break'\n",
    "         , 'Back from Break'\n",
    "         , 'Pre-Exams'\n",
    "         , 'Exams'\n",
    "         , 'Break'\n",
    "         , 'Break'\n",
    "         , 'Break'\n",
    "         , 'Back from Break'\n",
    "         , '2nd Week Back'\n",
    "         , 'Normal'\n",
    "         , 'Normal'\n",
    "         , 'Normal'\n",
    "         , 'Normal'\n",
    "         , 'Pre-Exams'\n",
    "         , 'Exams'\n",
    "         , 'Break'\n",
    "         , 'Back from Break'\n",
    "         , '2nd Week Back'\n",
    "         , 'Back from Break'\n",
    "         , '2nd Week Back'\n",
    "         , 'Normal'\n",
    "         , 'Normal'\n",
    "         , 'Pre-Exams'\n",
    "         , 'Exams']\n"
   ]
  },
  {
   "cell_type": "code",
   "execution_count": 150,
   "metadata": {},
   "outputs": [
    {
     "data": {
      "text/plain": [
       "Index(['2015-08-31', '2015-09-07', '2015-09-14', '2015-09-21', '2015-09-28',\n",
       "       '2015-10-05', '2015-10-12', '2015-10-19', '2015-10-26', '2015-11-02',\n",
       "       '2015-11-09', '2015-11-16', '2015-11-23', '2015-11-30', '2015-12-07',\n",
       "       '2015-12-14', '2015-12-21', '2015-12-28', '2016-01-04', '2016-01-11',\n",
       "       '2016-01-18', '2016-01-25', '2016-02-01', '2016-02-08', '2016-02-15',\n",
       "       '2016-02-22', '2016-02-29', '2016-03-07', '2016-03-14', '2016-03-21',\n",
       "       '2016-03-28', '2016-04-04', '2016-04-11', '2016-04-18', '2016-04-25',\n",
       "       '2016-05-02'],\n",
       "      dtype='object', name='week_start')"
      ]
     },
     "execution_count": 150,
     "metadata": {},
     "output_type": "execute_result"
    }
   ],
   "source": [
    "w = w2w.map(lambda x: str(x)[0:10])\n",
    "w"
   ]
  },
  {
   "cell_type": "code",
   "execution_count": 151,
   "metadata": {},
   "outputs": [
    {
     "data": {
      "text/html": [
       "<div>\n",
       "<style scoped>\n",
       "    .dataframe tbody tr th:only-of-type {\n",
       "        vertical-align: middle;\n",
       "    }\n",
       "\n",
       "    .dataframe tbody tr th {\n",
       "        vertical-align: top;\n",
       "    }\n",
       "\n",
       "    .dataframe thead th {\n",
       "        text-align: right;\n",
       "    }\n",
       "</style>\n",
       "<table border=\"1\" class=\"dataframe\">\n",
       "  <thead>\n",
       "    <tr style=\"text-align: right;\">\n",
       "      <th></th>\n",
       "      <th>0</th>\n",
       "      <th>1</th>\n",
       "      <th>2</th>\n",
       "      <th>3</th>\n",
       "      <th>4</th>\n",
       "      <th>5</th>\n",
       "      <th>6</th>\n",
       "      <th>7</th>\n",
       "      <th>8</th>\n",
       "      <th>9</th>\n",
       "      <th>...</th>\n",
       "      <th>26</th>\n",
       "      <th>27</th>\n",
       "      <th>28</th>\n",
       "      <th>29</th>\n",
       "      <th>30</th>\n",
       "      <th>31</th>\n",
       "      <th>32</th>\n",
       "      <th>33</th>\n",
       "      <th>34</th>\n",
       "      <th>35</th>\n",
       "    </tr>\n",
       "  </thead>\n",
       "  <tbody>\n",
       "    <tr>\n",
       "      <td>0</td>\n",
       "      <td>2015-08-31</td>\n",
       "      <td>2015-09-07</td>\n",
       "      <td>2015-09-14</td>\n",
       "      <td>2015-09-21</td>\n",
       "      <td>2015-09-28</td>\n",
       "      <td>2015-10-05</td>\n",
       "      <td>2015-10-12</td>\n",
       "      <td>2015-10-19</td>\n",
       "      <td>2015-10-26</td>\n",
       "      <td>2015-11-02</td>\n",
       "      <td>...</td>\n",
       "      <td>2016-02-29</td>\n",
       "      <td>2016-03-07</td>\n",
       "      <td>2016-03-14</td>\n",
       "      <td>2016-03-21</td>\n",
       "      <td>2016-03-28</td>\n",
       "      <td>2016-04-04</td>\n",
       "      <td>2016-04-11</td>\n",
       "      <td>2016-04-18</td>\n",
       "      <td>2016-04-25</td>\n",
       "      <td>2016-05-02</td>\n",
       "    </tr>\n",
       "    <tr>\n",
       "      <td>1</td>\n",
       "      <td>2nd Week Back</td>\n",
       "      <td>Normal</td>\n",
       "      <td>Normal</td>\n",
       "      <td>Normal</td>\n",
       "      <td>Normal</td>\n",
       "      <td>Pre-Exams</td>\n",
       "      <td>Exams</td>\n",
       "      <td>Break</td>\n",
       "      <td>Back from Break</td>\n",
       "      <td>2nd Week Back</td>\n",
       "      <td>...</td>\n",
       "      <td>Exams</td>\n",
       "      <td>Break</td>\n",
       "      <td>Back from Break</td>\n",
       "      <td>2nd Week Back</td>\n",
       "      <td>Back from Break</td>\n",
       "      <td>2nd Week Back</td>\n",
       "      <td>Normal</td>\n",
       "      <td>Normal</td>\n",
       "      <td>Pre-Exams</td>\n",
       "      <td>Exams</td>\n",
       "    </tr>\n",
       "  </tbody>\n",
       "</table>\n",
       "<p>2 rows × 36 columns</p>\n",
       "</div>"
      ],
      "text/plain": [
       "              0           1           2           3           4           5   \\\n",
       "0     2015-08-31  2015-09-07  2015-09-14  2015-09-21  2015-09-28  2015-10-05   \n",
       "1  2nd Week Back      Normal      Normal      Normal      Normal   Pre-Exams   \n",
       "\n",
       "           6           7                8              9   ...          26  \\\n",
       "0  2015-10-12  2015-10-19       2015-10-26     2015-11-02  ...  2016-02-29   \n",
       "1       Exams       Break  Back from Break  2nd Week Back  ...       Exams   \n",
       "\n",
       "           27               28             29               30             31  \\\n",
       "0  2016-03-07       2016-03-14     2016-03-21       2016-03-28     2016-04-04   \n",
       "1       Break  Back from Break  2nd Week Back  Back from Break  2nd Week Back   \n",
       "\n",
       "           32          33          34          35  \n",
       "0  2016-04-11  2016-04-18  2016-04-25  2016-05-02  \n",
       "1      Normal      Normal   Pre-Exams       Exams  \n",
       "\n",
       "[2 rows x 36 columns]"
      ]
     },
     "execution_count": 151,
     "metadata": {},
     "output_type": "execute_result"
    }
   ],
   "source": [
    "df_type = pd.DataFrame([w, types])\n",
    "df_type"
   ]
  },
  {
   "cell_type": "code",
   "execution_count": 167,
   "metadata": {},
   "outputs": [
    {
     "data": {
      "image/png": "[encoded data removed]",
      "text/plain": [
       "<Figure size 720x360 with 1 Axes>"
      ]
     },
     "metadata": {
      "needs_background": "light"
     },
     "output_type": "display_data"
    }
   ],
   "source": [
    "plt.figure(figsize=(10,5));\n",
    "g = sns.swarmplot(x=w, y=pvals, hue=types, size = 10, palette= 'bright');\n",
    "g.legend(loc='center left', fontsize=12, bbox_to_anchor=(1.25, 0.5), ncol=1);\n",
    "plt.xticks(rotation=90, fontsize=12);\n",
    "plt.yticks(np.arange(0, 1, 0.05), fontsize=12);\n",
    "plt.axhline(y=.1, xmin=0, xmax=1, color='black', linestyle='--');\n",
    "plt.axhline(y=.05, xmin=0, xmax=1, color='black', linestyle='--');\n",
    "plt.xlabel('Week', fontsize=14);\n",
    "plt.ylabel('P-Value', fontsize=14);\n",
    "plt.title('Significance of Change in Efficiency Week to Week', fontsize=18, fontweight='bold');\n",
    "plt.savefig('Figure3', dpi=300, bbox_inches=\"tight\")"
   ]
  },
  {
   "cell_type": "markdown",
   "metadata": {},
   "source": [
    "## Compare to \"population\" average"
   ]
  },
  {
   "cell_type": "code",
   "execution_count": 24,
   "metadata": {},
   "outputs": [
    {
     "data": {
      "text/plain": [
       "week_start\n",
       "2015-08-24    94.522487\n",
       "2015-08-31    94.174452\n",
       "2015-09-07    94.123469\n",
       "2015-09-14    93.827022\n",
       "2015-09-21    93.632842\n",
       "2015-09-28    93.377438\n",
       "2015-10-05    93.519501\n",
       "2015-10-12    93.418519\n",
       "2015-10-19    92.943689\n",
       "2015-10-26    93.025472\n",
       "2015-11-02    93.311527\n",
       "2015-11-09    93.501361\n",
       "2015-11-16    93.608806\n",
       "2015-11-23    93.515646\n",
       "2015-11-30    93.714550\n",
       "2015-12-07    93.336584\n",
       "2015-12-14    93.338209\n",
       "2015-12-21    93.549828\n",
       "2015-12-28    93.208503\n",
       "2016-01-04    93.361679\n",
       "2016-01-11    93.688209\n",
       "2016-01-18    94.035450\n",
       "2016-01-25    94.037226\n",
       "2016-02-01    94.031255\n",
       "2016-02-08    94.225359\n",
       "2016-02-15    94.034618\n",
       "2016-02-22    94.232993\n",
       "2016-02-29    93.822298\n",
       "2016-03-07    93.675094\n",
       "2016-03-14    94.241081\n",
       "2016-03-21    94.241912\n",
       "2016-03-28    94.048148\n",
       "2016-04-04    94.301247\n",
       "2016-04-11    94.325964\n",
       "2016-04-18    94.093613\n",
       "2016-04-25    93.595465\n",
       "2016-05-02    93.572222\n",
       "dtype: float64"
      ]
     },
     "execution_count": 24,
     "metadata": {},
     "output_type": "execute_result"
    }
   ],
   "source": [
    "pd_flat.mean()"
   ]
  },
  {
   "cell_type": "code",
   "execution_count": 47,
   "metadata": {},
   "outputs": [],
   "source": [
    "def compareMean(weekData, pvals):\n",
    "    tset, pval = ttest_1samp(weekData, pd_flat.mean().mean())\n",
    "    pvals.append(pval)\n",
    "    print(pval)\n",
    "    if pval < 0.10:    # alpha value is 0.05 or 5%\n",
    "        print(\" we are rejecting null hypothesis\")\n",
    "    #else:\n",
    "        #print(\"we are accepting null hypothesis\")"
   ]
  },
  {
   "cell_type": "code",
   "execution_count": 48,
   "metadata": {},
   "outputs": [
    {
     "name": "stdout",
     "output_type": "stream",
     "text": [
      "2015-08-24 00:00:00\n",
      "0.02232684063269656\n",
      " we are rejecting null hypothesis\n",
      "2015-08-31 00:00:00\n",
      "0.17123314549550034\n",
      "2015-09-07 00:00:00\n",
      "0.24388441451711854\n",
      "2015-09-14 00:00:00\n",
      "0.8285989514391889\n",
      "2015-09-21 00:00:00\n",
      "0.673603331434145\n",
      "2015-09-28 00:00:00\n",
      "0.2298971848318779\n",
      "2015-10-05 00:00:00\n",
      "0.40690473343564715\n",
      "2015-10-12 00:00:00\n",
      "0.2509424430534074\n",
      "2015-10-19 00:00:00\n",
      "0.009261694497891954\n",
      " we are rejecting null hypothesis\n",
      "2015-10-26 00:00:00\n",
      "0.011656862181907961\n",
      " we are rejecting null hypothesis\n",
      "2015-11-02 00:00:00\n",
      "0.12337855570861628\n",
      "2015-11-09 00:00:00\n",
      "0.3824991903215713\n",
      "2015-11-16 00:00:00\n",
      "0.6051238521102844\n",
      "2015-11-23 00:00:00\n",
      "0.4443942355016315\n",
      "2015-11-30 00:00:00\n",
      "0.8780618642472773\n",
      "2015-12-07 00:00:00\n",
      "0.29716975417116626\n",
      "2015-12-14 00:00:00\n",
      "0.169026033259107\n",
      "2015-12-21 00:00:00\n",
      "0.5080057461716453\n",
      "2015-12-28 00:00:00\n",
      "0.059326021762311984\n",
      " we are rejecting null hypothesis\n",
      "2016-01-04 00:00:00\n",
      "0.1844439372616004\n",
      "2016-01-11 00:00:00\n",
      "0.8012519882573055\n",
      "2016-01-18 00:00:00\n",
      "0.3436912414449048\n",
      "2016-01-25 00:00:00\n",
      "0.36083303001257805\n",
      "2016-02-01 00:00:00\n",
      "0.35572149982518275\n",
      "2016-02-08 00:00:00\n",
      "0.12250286444951272\n",
      "2016-02-15 00:00:00\n",
      "0.4026081236898432\n",
      "2016-02-22 00:00:00\n",
      "0.11951075781907598\n",
      "2016-02-29 00:00:00\n",
      "0.8738040068480876\n",
      "2016-03-07 00:00:00\n",
      "0.7737851098662187\n",
      "2016-03-14 00:00:00\n",
      "0.09824438928871228\n",
      " we are rejecting null hypothesis\n",
      "2016-03-21 00:00:00\n",
      "0.07423122936844533\n",
      " we are rejecting null hypothesis\n",
      "2016-03-28 00:00:00\n",
      "0.3156131030017157\n",
      "2016-04-04 00:00:00\n",
      "0.05247650333069518\n",
      " we are rejecting null hypothesis\n",
      "2016-04-11 00:00:00\n",
      "0.08509483354818977\n",
      " we are rejecting null hypothesis\n",
      "2016-04-18 00:00:00\n",
      "0.2409069326041847\n",
      "2016-04-25 00:00:00\n",
      "0.5785764886222251\n",
      "2016-05-02 00:00:00\n",
      "0.4789056878783935\n"
     ]
    }
   ],
   "source": [
    "weeks = pdrop.columns\n",
    "pvals = []\n",
    "for w in weeks:\n",
    "    print(w)\n",
    "    this_week = pd_flat[w]\n",
    "    compareMean(this_week, pvals)"
   ]
  },
  {
   "cell_type": "code",
   "execution_count": 57,
   "metadata": {},
   "outputs": [],
   "source": [
    "types1 = ['2nd Week Back'\n",
    "         , 'Normal'\n",
    "         , 'Normal'\n",
    "         , 'Normal'\n",
    "         , 'Normal'\n",
    "         , 'Pre-Exams'\n",
    "         , 'Exams'\n",
    "         , 'Break'\n",
    "         ,'Back from Break'\n",
    "         , '2nd Week Back'\n",
    "         , 'Normal'\n",
    "         , 'Normal'\n",
    "         , 'Break'\n",
    "         , 'Back from Break'\n",
    "         , 'Pre-Exams'\n",
    "         , 'Exams'\n",
    "         , 'Break'\n",
    "         , 'Break'\n",
    "         , 'Break'\n",
    "         , 'Back from Break'\n",
    "         , '2nd Week Back'\n",
    "         , 'Normal'\n",
    "         , 'Normal'\n",
    "         , 'Normal'\n",
    "         , 'Normal'\n",
    "         , 'Pre-Exams'\n",
    "         , 'Exams'\n",
    "         , 'Break'\n",
    "         , 'Back from Break'\n",
    "         , '2nd Week Back'\n",
    "         , 'Back from Break'\n",
    "         , '2nd Week Back'\n",
    "         , 'Normal'\n",
    "         , 'Normal'\n",
    "         , 'Pre-Exams'\n",
    "         , 'Exams']"
   ]
  },
  {
   "cell_type": "code",
   "execution_count": 122,
   "metadata": {},
   "outputs": [
    {
     "data": {
      "text/plain": [
       "36"
      ]
     },
     "execution_count": 122,
     "metadata": {},
     "output_type": "execute_result"
    }
   ],
   "source": [
    "len(types1)"
   ]
  },
  {
   "cell_type": "code",
   "execution_count": 120,
   "metadata": {},
   "outputs": [],
   "source": [
    "ww = [str(x)[0:10] for x in weeks];"
   ]
  },
  {
   "cell_type": "code",
   "execution_count": 181,
   "metadata": {
    "scrolled": false
   },
   "outputs": [
    {
     "data": {
      "image/png": "[encoded data removed]",
      "text/plain": [
       "<Figure size 720x360 with 1 Axes>"
      ]
     },
     "metadata": {
      "needs_background": "light"
     },
     "output_type": "display_data"
    }
   ],
   "source": [
    "plt.figure(figsize=(10,5));\n",
    "g = sns.swarmplot(x=np.arange(1, 37), y=pd_flat.mean()[1:], hue=types1, size = 10, palette= 'bright');\n",
    "\n",
    "plt.xlim(-2, 36);\n",
    "plt.scatter(-1, pd_flat.mean()[0], marker='o', s=80, color='brown');\n",
    "plt.xticks(range(-1, len(ww)-1),ww, fontsize=12);\n",
    "plt.xticks(rotation=90);\n",
    "plt.yticks(fontsize=12);\n",
    "#plt.yticks(np.arange(0, 1, 0.05));\n",
    "plt.axhline(y= pd_flat.mean().mean(), xmin=0, xmax=1, color='black', linestyle='--', label='Yearlong Average');\n",
    "g.legend(loc='center left', bbox_to_anchor=(1.25, 0.5), ncol=1, fontsize=12);\n",
    "plt.xlabel('Week', fontsize=14);\n",
    "plt.ylabel('Avg Efficiency', fontsize=14);\n",
    "plt.title('Change in Efficiency Compared to Yearly Average (15/16)', fontsize=18, fontweight='bold');\n",
    "plt.savefig('Figure4', dpi=300, bbox_inches=\"tight\")\n",
    "plt.savefig('Figure5a', dpi=300, bbox_inches=\"tight\")"
   ]
  },
  {
   "cell_type": "code",
   "execution_count": null,
   "metadata": {},
   "outputs": [],
   "source": []
  }
 ],
 "metadata": {
  "kernelspec": {
   "display_name": "Python 3",
   "language": "python",
   "name": "python3"
  },
  "language_info": {
   "codemirror_mode": {
    "name": "ipython",
    "version": 3
   },
   "file_extension": ".py",
   "mimetype": "text/x-python",
   "name": "python",
   "nbconvert_exporter": "python",
   "pygments_lexer": "ipython3",
   "version": "3.7.4"
  }
 },
 "nbformat": 4,
 "nbformat_minor": 2
}
