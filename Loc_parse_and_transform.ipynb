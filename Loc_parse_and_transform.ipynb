{
 "cells": [
  {
   "cell_type": "code",
   "execution_count": 3,
   "metadata": {},
   "outputs": [],
   "source": [
    "def loc_parse_and_transform(loc):\n",
    "    import pandas as pd\n",
    "    import matlab.engine\n",
    "    locations = pd.read_csv(loc)\n",
    "    for number in locations.phone_number.unique():\n",
    "        df = locations[locations['phone_number'] == number][['ts','latitude','longitude','accuracy']]\n",
    "        file_name = str(number)+\".csv\"\n",
    "        df.to_csv(file_name, index=False)\n",
    "    eng = matlab.engine.start_matlab()\n",
    "    eng.cd(r'/Users/mollygiglia/Thesis', nargout=0)\n",
    "    for no in locations.phone_number.unique():\n",
    "        eng.ESPC(str(no), nargout=0)"
   ]
  },
  {
   "cell_type": "code",
   "execution_count": 4,
   "metadata": {},
   "outputs": [],
   "source": [
    "loc_parse_and_transform('alllocations_limited.csv')"
   ]
  }
 ],
 "metadata": {
  "kernelspec": {
   "display_name": "Python 2",
   "language": "python",
   "name": "python2"
  },
  "language_info": {
   "codemirror_mode": {
    "name": "ipython",
    "version": 2
   },
   "file_extension": ".py",
   "mimetype": "text/x-python",
   "name": "python",
   "nbconvert_exporter": "python",
   "pygments_lexer": "ipython2",
   "version": "2.7.16"
  }
 },
 "nbformat": 4,
 "nbformat_minor": 2
}
