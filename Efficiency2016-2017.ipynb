{
 "cells": [
  {
   "cell_type": "code",
   "execution_count": 29,
   "metadata": {},
   "outputs": [],
   "source": [
    "import pandas as pd\n",
    "import matplotlib.pyplot as plt\n",
    "import numpy as np\n",
    "%matplotlib inline\n",
    "import statsmodels.api as sm # import statsmodels \n",
    "from sklearn import linear_model\n",
    "from scipy import stats\n",
    "import seaborn as sns\n",
    "from scipy.stats import ttest_1samp"
   ]
  },
  {
   "cell_type": "code",
   "execution_count": 4,
   "metadata": {},
   "outputs": [],
   "source": [
    "df = pd.read_csv('1617.csv')\n",
    "df = df[df['isMainSleep'] == 1]\n",
    "df['week_start'] = pd.to_datetime(df['dataDate']).dt.to_period('W').apply(lambda r: r.start_time)"
   ]
  },
  {
   "cell_type": "code",
   "execution_count": 5,
   "metadata": {},
   "outputs": [
    {
     "data": {
      "text/html": [
       "<div>\n",
       "<style scoped>\n",
       "    .dataframe tbody tr th:only-of-type {\n",
       "        vertical-align: middle;\n",
       "    }\n",
       "\n",
       "    .dataframe tbody tr th {\n",
       "        vertical-align: top;\n",
       "    }\n",
       "\n",
       "    .dataframe thead th {\n",
       "        text-align: right;\n",
       "    }\n",
       "</style>\n",
       "<table border=\"1\" class=\"dataframe\">\n",
       "  <thead>\n",
       "    <tr style=\"text-align: right;\">\n",
       "      <th></th>\n",
       "      <th>participID</th>\n",
       "      <th>dataDate</th>\n",
       "      <th>efficiency</th>\n",
       "      <th>week_start</th>\n",
       "    </tr>\n",
       "  </thead>\n",
       "  <tbody>\n",
       "    <tr>\n",
       "      <td>0</td>\n",
       "      <td>3LZGLG</td>\n",
       "      <td>2016-08-23</td>\n",
       "      <td>98</td>\n",
       "      <td>2016-08-22</td>\n",
       "    </tr>\n",
       "    <tr>\n",
       "      <td>2</td>\n",
       "      <td>3LZGLG</td>\n",
       "      <td>2016-08-24</td>\n",
       "      <td>98</td>\n",
       "      <td>2016-08-22</td>\n",
       "    </tr>\n",
       "    <tr>\n",
       "      <td>3</td>\n",
       "      <td>3LZGLG</td>\n",
       "      <td>2016-08-25</td>\n",
       "      <td>96</td>\n",
       "      <td>2016-08-22</td>\n",
       "    </tr>\n",
       "    <tr>\n",
       "      <td>5</td>\n",
       "      <td>3LZGLG</td>\n",
       "      <td>2016-08-26</td>\n",
       "      <td>97</td>\n",
       "      <td>2016-08-22</td>\n",
       "    </tr>\n",
       "    <tr>\n",
       "      <td>6</td>\n",
       "      <td>3LZGLG</td>\n",
       "      <td>2016-08-27</td>\n",
       "      <td>99</td>\n",
       "      <td>2016-08-22</td>\n",
       "    </tr>\n",
       "    <tr>\n",
       "      <td>...</td>\n",
       "      <td>...</td>\n",
       "      <td>...</td>\n",
       "      <td>...</td>\n",
       "      <td>...</td>\n",
       "    </tr>\n",
       "    <tr>\n",
       "      <td>47786</td>\n",
       "      <td>5FHZX5</td>\n",
       "      <td>2017-03-28</td>\n",
       "      <td>88</td>\n",
       "      <td>2017-03-27</td>\n",
       "    </tr>\n",
       "    <tr>\n",
       "      <td>47788</td>\n",
       "      <td>5FHZX5</td>\n",
       "      <td>2017-04-18</td>\n",
       "      <td>90</td>\n",
       "      <td>2017-04-17</td>\n",
       "    </tr>\n",
       "    <tr>\n",
       "      <td>47789</td>\n",
       "      <td>5FHZX5</td>\n",
       "      <td>2017-04-19</td>\n",
       "      <td>94</td>\n",
       "      <td>2017-04-17</td>\n",
       "    </tr>\n",
       "    <tr>\n",
       "      <td>47790</td>\n",
       "      <td>5FHZX5</td>\n",
       "      <td>2017-04-20</td>\n",
       "      <td>88</td>\n",
       "      <td>2017-04-17</td>\n",
       "    </tr>\n",
       "    <tr>\n",
       "      <td>47791</td>\n",
       "      <td>5FHZX5</td>\n",
       "      <td>2017-05-06</td>\n",
       "      <td>92</td>\n",
       "      <td>2017-05-01</td>\n",
       "    </tr>\n",
       "  </tbody>\n",
       "</table>\n",
       "<p>43337 rows × 4 columns</p>\n",
       "</div>"
      ],
      "text/plain": [
       "      participID    dataDate  efficiency week_start\n",
       "0         3LZGLG  2016-08-23          98 2016-08-22\n",
       "2         3LZGLG  2016-08-24          98 2016-08-22\n",
       "3         3LZGLG  2016-08-25          96 2016-08-22\n",
       "5         3LZGLG  2016-08-26          97 2016-08-22\n",
       "6         3LZGLG  2016-08-27          99 2016-08-22\n",
       "...          ...         ...         ...        ...\n",
       "47786     5FHZX5  2017-03-28          88 2017-03-27\n",
       "47788     5FHZX5  2017-04-18          90 2017-04-17\n",
       "47789     5FHZX5  2017-04-19          94 2017-04-17\n",
       "47790     5FHZX5  2017-04-20          88 2017-04-17\n",
       "47791     5FHZX5  2017-05-06          92 2017-05-01\n",
       "\n",
       "[43337 rows x 4 columns]"
      ]
     },
     "execution_count": 5,
     "metadata": {},
     "output_type": "execute_result"
    }
   ],
   "source": [
    "eff = df[['participID', 'dataDate', 'efficiency', 'week_start']]\n",
    "eff\n"
   ]
  },
  {
   "cell_type": "code",
   "execution_count": 6,
   "metadata": {},
   "outputs": [
    {
     "data": {
      "text/html": [
       "<div>\n",
       "<style scoped>\n",
       "    .dataframe tbody tr th:only-of-type {\n",
       "        vertical-align: middle;\n",
       "    }\n",
       "\n",
       "    .dataframe tbody tr th {\n",
       "        vertical-align: top;\n",
       "    }\n",
       "\n",
       "    .dataframe thead th {\n",
       "        text-align: right;\n",
       "    }\n",
       "</style>\n",
       "<table border=\"1\" class=\"dataframe\">\n",
       "  <thead>\n",
       "    <tr style=\"text-align: right;\">\n",
       "      <th></th>\n",
       "      <th>participID</th>\n",
       "      <th>week_start</th>\n",
       "      <th>efficiency</th>\n",
       "    </tr>\n",
       "  </thead>\n",
       "  <tbody>\n",
       "    <tr>\n",
       "      <td>0</td>\n",
       "      <td>3LZGLG</td>\n",
       "      <td>2016-08-22</td>\n",
       "      <td>97.600000</td>\n",
       "    </tr>\n",
       "    <tr>\n",
       "      <td>1</td>\n",
       "      <td>3LZGLG</td>\n",
       "      <td>2016-08-29</td>\n",
       "      <td>92.571429</td>\n",
       "    </tr>\n",
       "    <tr>\n",
       "      <td>2</td>\n",
       "      <td>3LZGLG</td>\n",
       "      <td>2016-09-05</td>\n",
       "      <td>93.428571</td>\n",
       "    </tr>\n",
       "    <tr>\n",
       "      <td>3</td>\n",
       "      <td>3LZGLG</td>\n",
       "      <td>2016-09-12</td>\n",
       "      <td>94.857143</td>\n",
       "    </tr>\n",
       "    <tr>\n",
       "      <td>4</td>\n",
       "      <td>3LZGLG</td>\n",
       "      <td>2016-09-19</td>\n",
       "      <td>95.285714</td>\n",
       "    </tr>\n",
       "  </tbody>\n",
       "</table>\n",
       "</div>"
      ],
      "text/plain": [
       "  participID week_start  efficiency\n",
       "0     3LZGLG 2016-08-22   97.600000\n",
       "1     3LZGLG 2016-08-29   92.571429\n",
       "2     3LZGLG 2016-09-05   93.428571\n",
       "3     3LZGLG 2016-09-12   94.857143\n",
       "4     3LZGLG 2016-09-19   95.285714"
      ]
     },
     "execution_count": 6,
     "metadata": {},
     "output_type": "execute_result"
    }
   ],
   "source": [
    "eff = eff.groupby(['participID', 'week_start'], as_index=False).mean()\n",
    "eff.head()"
   ]
  },
  {
   "cell_type": "code",
   "execution_count": 7,
   "metadata": {},
   "outputs": [
    {
     "data": {
      "text/html": [
       "<div>\n",
       "<style scoped>\n",
       "    .dataframe tbody tr th:only-of-type {\n",
       "        vertical-align: middle;\n",
       "    }\n",
       "\n",
       "    .dataframe tbody tr th {\n",
       "        vertical-align: top;\n",
       "    }\n",
       "\n",
       "    .dataframe thead th {\n",
       "        text-align: right;\n",
       "    }\n",
       "</style>\n",
       "<table border=\"1\" class=\"dataframe\">\n",
       "  <thead>\n",
       "    <tr style=\"text-align: right;\">\n",
       "      <th>week_start</th>\n",
       "      <th>2016-08-22</th>\n",
       "      <th>2016-08-29</th>\n",
       "      <th>2016-09-05</th>\n",
       "      <th>2016-09-12</th>\n",
       "      <th>2016-09-19</th>\n",
       "      <th>2016-09-26</th>\n",
       "      <th>2016-10-03</th>\n",
       "      <th>2016-10-10</th>\n",
       "      <th>2016-10-17</th>\n",
       "      <th>2016-10-24</th>\n",
       "      <th>...</th>\n",
       "      <th>2017-03-06</th>\n",
       "      <th>2017-03-13</th>\n",
       "      <th>2017-03-20</th>\n",
       "      <th>2017-03-27</th>\n",
       "      <th>2017-04-03</th>\n",
       "      <th>2017-04-10</th>\n",
       "      <th>2017-04-17</th>\n",
       "      <th>2017-04-24</th>\n",
       "      <th>2017-05-01</th>\n",
       "      <th>2017-05-08</th>\n",
       "    </tr>\n",
       "    <tr>\n",
       "      <th>participID</th>\n",
       "      <th></th>\n",
       "      <th></th>\n",
       "      <th></th>\n",
       "      <th></th>\n",
       "      <th></th>\n",
       "      <th></th>\n",
       "      <th></th>\n",
       "      <th></th>\n",
       "      <th></th>\n",
       "      <th></th>\n",
       "      <th></th>\n",
       "      <th></th>\n",
       "      <th></th>\n",
       "      <th></th>\n",
       "      <th></th>\n",
       "      <th></th>\n",
       "      <th></th>\n",
       "      <th></th>\n",
       "      <th></th>\n",
       "      <th></th>\n",
       "      <th></th>\n",
       "    </tr>\n",
       "  </thead>\n",
       "  <tbody>\n",
       "    <tr>\n",
       "      <td>3LZGLG</td>\n",
       "      <td>97.600000</td>\n",
       "      <td>92.571429</td>\n",
       "      <td>93.428571</td>\n",
       "      <td>94.857143</td>\n",
       "      <td>95.285714</td>\n",
       "      <td>96.428571</td>\n",
       "      <td>94.571429</td>\n",
       "      <td>93.857143</td>\n",
       "      <td>96.428571</td>\n",
       "      <td>95.833333</td>\n",
       "      <td>...</td>\n",
       "      <td>95.142857</td>\n",
       "      <td>94.000000</td>\n",
       "      <td>93.333333</td>\n",
       "      <td>94.000000</td>\n",
       "      <td>93.000000</td>\n",
       "      <td>91.857143</td>\n",
       "      <td>91.428571</td>\n",
       "      <td>90.166667</td>\n",
       "      <td>90.800000</td>\n",
       "      <td>92.25</td>\n",
       "    </tr>\n",
       "    <tr>\n",
       "      <td>3LZJFK</td>\n",
       "      <td>93.500000</td>\n",
       "      <td>93.000000</td>\n",
       "      <td>95.333333</td>\n",
       "      <td>94.714286</td>\n",
       "      <td>92.714286</td>\n",
       "      <td>93.500000</td>\n",
       "      <td>96.000000</td>\n",
       "      <td>94.714286</td>\n",
       "      <td>94.000000</td>\n",
       "      <td>92.666667</td>\n",
       "      <td>...</td>\n",
       "      <td>93.571429</td>\n",
       "      <td>89.666667</td>\n",
       "      <td>93.500000</td>\n",
       "      <td>89.833333</td>\n",
       "      <td>92.714286</td>\n",
       "      <td>94.333333</td>\n",
       "      <td>96.200000</td>\n",
       "      <td>95.000000</td>\n",
       "      <td>95.142857</td>\n",
       "      <td>94.20</td>\n",
       "    </tr>\n",
       "    <tr>\n",
       "      <td>3LZRZQ</td>\n",
       "      <td>93.666667</td>\n",
       "      <td>95.428571</td>\n",
       "      <td>95.285714</td>\n",
       "      <td>94.714286</td>\n",
       "      <td>95.571429</td>\n",
       "      <td>96.142857</td>\n",
       "      <td>95.000000</td>\n",
       "      <td>95.428571</td>\n",
       "      <td>96.000000</td>\n",
       "      <td>95.166667</td>\n",
       "      <td>...</td>\n",
       "      <td>NaN</td>\n",
       "      <td>98.000000</td>\n",
       "      <td>NaN</td>\n",
       "      <td>93.500000</td>\n",
       "      <td>95.500000</td>\n",
       "      <td>96.000000</td>\n",
       "      <td>96.000000</td>\n",
       "      <td>97.000000</td>\n",
       "      <td>NaN</td>\n",
       "      <td>NaN</td>\n",
       "    </tr>\n",
       "    <tr>\n",
       "      <td>3M29ZH</td>\n",
       "      <td>96.200000</td>\n",
       "      <td>97.500000</td>\n",
       "      <td>97.000000</td>\n",
       "      <td>97.000000</td>\n",
       "      <td>98.500000</td>\n",
       "      <td>96.000000</td>\n",
       "      <td>97.000000</td>\n",
       "      <td>97.000000</td>\n",
       "      <td>97.750000</td>\n",
       "      <td>96.500000</td>\n",
       "      <td>...</td>\n",
       "      <td>97.500000</td>\n",
       "      <td>NaN</td>\n",
       "      <td>98.000000</td>\n",
       "      <td>97.833333</td>\n",
       "      <td>96.800000</td>\n",
       "      <td>97.750000</td>\n",
       "      <td>98.333333</td>\n",
       "      <td>98.200000</td>\n",
       "      <td>98.800000</td>\n",
       "      <td>98.60</td>\n",
       "    </tr>\n",
       "    <tr>\n",
       "      <td>3M2QNS</td>\n",
       "      <td>94.000000</td>\n",
       "      <td>96.000000</td>\n",
       "      <td>93.285714</td>\n",
       "      <td>93.714286</td>\n",
       "      <td>94.000000</td>\n",
       "      <td>93.000000</td>\n",
       "      <td>95.400000</td>\n",
       "      <td>93.500000</td>\n",
       "      <td>NaN</td>\n",
       "      <td>93.200000</td>\n",
       "      <td>...</td>\n",
       "      <td>96.000000</td>\n",
       "      <td>93.833333</td>\n",
       "      <td>91.833333</td>\n",
       "      <td>93.400000</td>\n",
       "      <td>89.750000</td>\n",
       "      <td>90.800000</td>\n",
       "      <td>94.833333</td>\n",
       "      <td>94.666667</td>\n",
       "      <td>96.000000</td>\n",
       "      <td>94.25</td>\n",
       "    </tr>\n",
       "  </tbody>\n",
       "</table>\n",
       "<p>5 rows × 38 columns</p>\n",
       "</div>"
      ],
      "text/plain": [
       "week_start  2016-08-22  2016-08-29  2016-09-05  2016-09-12  2016-09-19  \\\n",
       "participID                                                               \n",
       "3LZGLG       97.600000   92.571429   93.428571   94.857143   95.285714   \n",
       "3LZJFK       93.500000   93.000000   95.333333   94.714286   92.714286   \n",
       "3LZRZQ       93.666667   95.428571   95.285714   94.714286   95.571429   \n",
       "3M29ZH       96.200000   97.500000   97.000000   97.000000   98.500000   \n",
       "3M2QNS       94.000000   96.000000   93.285714   93.714286   94.000000   \n",
       "\n",
       "week_start  2016-09-26  2016-10-03  2016-10-10  2016-10-17  2016-10-24  ...  \\\n",
       "participID                                                              ...   \n",
       "3LZGLG       96.428571   94.571429   93.857143   96.428571   95.833333  ...   \n",
       "3LZJFK       93.500000   96.000000   94.714286   94.000000   92.666667  ...   \n",
       "3LZRZQ       96.142857   95.000000   95.428571   96.000000   95.166667  ...   \n",
       "3M29ZH       96.000000   97.000000   97.000000   97.750000   96.500000  ...   \n",
       "3M2QNS       93.000000   95.400000   93.500000         NaN   93.200000  ...   \n",
       "\n",
       "week_start  2017-03-06  2017-03-13  2017-03-20  2017-03-27  2017-04-03  \\\n",
       "participID                                                               \n",
       "3LZGLG       95.142857   94.000000   93.333333   94.000000   93.000000   \n",
       "3LZJFK       93.571429   89.666667   93.500000   89.833333   92.714286   \n",
       "3LZRZQ             NaN   98.000000         NaN   93.500000   95.500000   \n",
       "3M29ZH       97.500000         NaN   98.000000   97.833333   96.800000   \n",
       "3M2QNS       96.000000   93.833333   91.833333   93.400000   89.750000   \n",
       "\n",
       "week_start  2017-04-10  2017-04-17  2017-04-24  2017-05-01  2017-05-08  \n",
       "participID                                                              \n",
       "3LZGLG       91.857143   91.428571   90.166667   90.800000       92.25  \n",
       "3LZJFK       94.333333   96.200000   95.000000   95.142857       94.20  \n",
       "3LZRZQ       96.000000   96.000000   97.000000         NaN         NaN  \n",
       "3M29ZH       97.750000   98.333333   98.200000   98.800000       98.60  \n",
       "3M2QNS       90.800000   94.833333   94.666667   96.000000       94.25  \n",
       "\n",
       "[5 rows x 38 columns]"
      ]
     },
     "execution_count": 7,
     "metadata": {},
     "output_type": "execute_result"
    }
   ],
   "source": [
    "pivot = eff.pivot(index='participID', columns='week_start', values='efficiency')\n",
    "pivot.head()"
   ]
  },
  {
   "cell_type": "code",
   "execution_count": 8,
   "metadata": {},
   "outputs": [],
   "source": [
    "pivot_drop = pivot.dropna()\n",
    "#68 participants who had at least one night of data from all 37 weeks "
   ]
  },
  {
   "cell_type": "code",
   "execution_count": 9,
   "metadata": {},
   "outputs": [],
   "source": [
    "pdrop= pivot_drop[(np.abs(stats.zscore(pivot_drop)) < 3).all(axis=1)]"
   ]
  },
  {
   "cell_type": "code",
   "execution_count": 10,
   "metadata": {
    "scrolled": true
   },
   "outputs": [
    {
     "data": {
      "image/png": "[encoded data removed]",
      "text/plain": [
       "<Figure size 720x360 with 1 Axes>"
      ]
     },
     "metadata": {
      "needs_background": "light"
     },
     "output_type": "display_data"
    }
   ],
   "source": [
    "pdrop.boxplot(figsize=(10,5))\n",
    "plt.xticks(rotation=90);\n",
    "plt.title('Distribution of Sleep Efficiency By Week', fontsize=18, fontweight='bold');\n",
    "plt.ylabel('Sleep Efficiency (%)', fontsize=14);\n",
    "plt.xlabel('Week', fontsize=14);"
   ]
  },
  {
   "cell_type": "code",
   "execution_count": 11,
   "metadata": {},
   "outputs": [],
   "source": [
    "def paired_t_test(before, after):\n",
    "    ttest,pval = stats.ttest_rel(before, after)\n",
    "    #print(pval)\n",
    "    if pval<0.10:\n",
    "        print(\"reject null hypothesis\")\n",
    "    #else:\n",
    "    #    print(\"accept null hypothesis\")"
   ]
  },
  {
   "cell_type": "code",
   "execution_count": 12,
   "metadata": {},
   "outputs": [],
   "source": [
    "pd_flat = pdrop.reset_index()"
   ]
  },
  {
   "cell_type": "code",
   "execution_count": 13,
   "metadata": {},
   "outputs": [
    {
     "name": "stdout",
     "output_type": "stream",
     "text": [
      "2016-08-29 00:00:00\n",
      "2016-09-05 00:00:00\n",
      "reject null hypothesis\n",
      "2016-09-12 00:00:00\n",
      "reject null hypothesis\n",
      "2016-09-19 00:00:00\n",
      "2016-09-26 00:00:00\n",
      "reject null hypothesis\n",
      "2016-10-03 00:00:00\n",
      "2016-10-10 00:00:00\n",
      "2016-10-17 00:00:00\n",
      "reject null hypothesis\n",
      "2016-10-24 00:00:00\n",
      "reject null hypothesis\n",
      "2016-10-31 00:00:00\n",
      "2016-11-07 00:00:00\n",
      "reject null hypothesis\n",
      "2016-11-14 00:00:00\n",
      "reject null hypothesis\n",
      "2016-11-21 00:00:00\n",
      "2016-11-28 00:00:00\n",
      "2016-12-05 00:00:00\n",
      "2016-12-12 00:00:00\n",
      "2016-12-19 00:00:00\n",
      "2016-12-26 00:00:00\n",
      "2017-01-02 00:00:00\n",
      "2017-01-09 00:00:00\n",
      "2017-01-16 00:00:00\n",
      "2017-01-23 00:00:00\n",
      "2017-01-30 00:00:00\n",
      "2017-02-06 00:00:00\n",
      "2017-02-13 00:00:00\n",
      "2017-02-20 00:00:00\n",
      "2017-02-27 00:00:00\n",
      "2017-03-06 00:00:00\n",
      "2017-03-13 00:00:00\n",
      "2017-03-20 00:00:00\n",
      "2017-03-27 00:00:00\n",
      "2017-04-03 00:00:00\n",
      "2017-04-10 00:00:00\n",
      "2017-04-17 00:00:00\n",
      "2017-04-24 00:00:00\n",
      "2017-05-01 00:00:00\n",
      "2017-05-08 00:00:00\n"
     ]
    }
   ],
   "source": [
    "weeks = pdrop.columns\n",
    "l = len(weeks)\n",
    "for index, obj in enumerate(weeks):\n",
    "    if index < (l - 1):\n",
    "        print(weeks[index+1])\n",
    "        this_week = pd_flat[weeks[index]]\n",
    "        next_week = pd_flat[weeks[index+1]]\n",
    "        paired_t_test(this_week, next_week)"
   ]
  },
  {
   "cell_type": "code",
   "execution_count": 14,
   "metadata": {},
   "outputs": [],
   "source": [
    "# checking normality: is paired t test the right thing to be doing?"
   ]
  },
  {
   "cell_type": "code",
   "execution_count": 15,
   "metadata": {},
   "outputs": [],
   "source": [
    "def check_normal(before, after):\n",
    "    diff = before - after\n",
    "    diff.plot(kind='hist', title= 'Efficiency Difference')\n",
    "    plt.show()"
   ]
  },
  {
   "cell_type": "code",
   "execution_count": 16,
   "metadata": {},
   "outputs": [],
   "source": [
    "weeks = pdrop.columns\n",
    "l = len(weeks)\n",
    "for index, obj in enumerate(weeks):\n",
    "    if index < (l - 1):\n",
    "       # print(weeks[index+1])\n",
    "        this_week = pd_flat[weeks[index]]\n",
    "        next_week = pd_flat[weeks[index+1]]\n",
    "       # check_normal(this_week, next_week)"
   ]
  },
  {
   "cell_type": "markdown",
   "metadata": {},
   "source": [
    "## Wilcoxon Signed Rank Test\n",
    "### No assumptions about normality"
   ]
  },
  {
   "cell_type": "code",
   "execution_count": 17,
   "metadata": {},
   "outputs": [],
   "source": [
    "def wilcoxon_t_test(before, after, pvals):\n",
    "    ttest,pval = stats.wilcoxon(before, after)\n",
    "    #print(pval)\n",
    "    if pval<0.10:\n",
    "        print(\"reject null hypothesis\")\n",
    "    pvals.append(pval)\n",
    "    #else:\n",
    "    #    print(\"accept null hypothesis\")stats.wilcoxon(df['bp_before'], df['bp_after'])"
   ]
  },
  {
   "cell_type": "code",
   "execution_count": 18,
   "metadata": {},
   "outputs": [
    {
     "name": "stdout",
     "output_type": "stream",
     "text": [
      "2016-08-29 00:00:00\n",
      "2016-09-05 00:00:00\n",
      "reject null hypothesis\n",
      "2016-09-12 00:00:00\n",
      "reject null hypothesis\n",
      "2016-09-19 00:00:00\n",
      "2016-09-26 00:00:00\n",
      "reject null hypothesis\n",
      "2016-10-03 00:00:00\n",
      "2016-10-10 00:00:00\n",
      "2016-10-17 00:00:00\n",
      "reject null hypothesis\n",
      "2016-10-24 00:00:00\n",
      "reject null hypothesis\n",
      "2016-10-31 00:00:00\n",
      "2016-11-07 00:00:00\n",
      "reject null hypothesis\n",
      "2016-11-14 00:00:00\n",
      "reject null hypothesis\n",
      "2016-11-21 00:00:00\n",
      "2016-11-28 00:00:00\n",
      "2016-12-05 00:00:00\n",
      "2016-12-12 00:00:00\n",
      "2016-12-19 00:00:00\n",
      "2016-12-26 00:00:00\n",
      "2017-01-02 00:00:00\n",
      "2017-01-09 00:00:00\n",
      "2017-01-16 00:00:00\n",
      "2017-01-23 00:00:00\n",
      "2017-01-30 00:00:00\n",
      "2017-02-06 00:00:00\n",
      "2017-02-13 00:00:00\n",
      "2017-02-20 00:00:00\n",
      "reject null hypothesis\n",
      "2017-02-27 00:00:00\n",
      "2017-03-06 00:00:00\n",
      "2017-03-13 00:00:00\n",
      "reject null hypothesis\n",
      "2017-03-20 00:00:00\n",
      "2017-03-27 00:00:00\n",
      "2017-04-03 00:00:00\n",
      "2017-04-10 00:00:00\n",
      "2017-04-17 00:00:00\n",
      "2017-04-24 00:00:00\n",
      "2017-05-01 00:00:00\n",
      "2017-05-08 00:00:00\n"
     ]
    }
   ],
   "source": [
    "weeks = pdrop.columns\n",
    "pvals = []\n",
    "l = len(weeks)\n",
    "for index, obj in enumerate(weeks):\n",
    "    if index < (l - 1):\n",
    "        print(weeks[index+1])\n",
    "        this_week = pd_flat[weeks[index]]\n",
    "        next_week = pd_flat[weeks[index+1]]\n",
    "        wilcoxon_t_test(this_week, next_week, pvals)"
   ]
  },
  {
   "cell_type": "code",
   "execution_count": 19,
   "metadata": {},
   "outputs": [
    {
     "data": {
      "text/plain": [
       "<matplotlib.collections.PathCollection at 0x1c1f8e9b10>"
      ]
     },
     "execution_count": 19,
     "metadata": {},
     "output_type": "execute_result"
    },
    {
     "data": {
      "image/png": "[encoded data removed]",
      "text/plain": [
       "<Figure size 432x288 with 1 Axes>"
      ]
     },
     "metadata": {
      "needs_background": "light"
     },
     "output_type": "display_data"
    }
   ],
   "source": [
    "w2w = weeks[1:]\n",
    "plt.scatter(w2w, pvals)"
   ]
  },
  {
   "cell_type": "code",
   "execution_count": 20,
   "metadata": {},
   "outputs": [
    {
     "data": {
      "image/png": "[encoded data removed]",
      "text/plain": [
       "<Figure size 720x432 with 1 Axes>"
      ]
     },
     "metadata": {
      "needs_background": "light"
     },
     "output_type": "display_data"
    }
   ],
   "source": [
    "plt.figure(figsize=(10,6));\n",
    "myplot = plt.plot(w2w, pvals, marker='o', color='blue')\n",
    "plt.xticks(rotation=90);\n",
    "plt.yticks(np.arange(0, 1, 0.05));\n",
    "plt.xticks(w2w);\n",
    "plt.show()"
   ]
  },
  {
   "cell_type": "code",
   "execution_count": 21,
   "metadata": {},
   "outputs": [
    {
     "data": {
      "text/plain": [
       "<matplotlib.axes._subplots.AxesSubplot at 0x1c20234190>"
      ]
     },
     "execution_count": 21,
     "metadata": {},
     "output_type": "execute_result"
    },
    {
     "data": {
      "image/png": "[encoded data removed]",
      "text/plain": [
       "<Figure size 432x288 with 1 Axes>"
      ]
     },
     "metadata": {
      "needs_background": "light"
     },
     "output_type": "display_data"
    }
   ],
   "source": [
    "# Add a column: the color depends of x and y values, but you can use whatever function.\n",
    "#value=(df['x']>0.2) & (df['y']>0.4)\n",
    "#df['color']= np.where( value==True , \"#9b59b6\", \"#3498db\")\n",
    "# plot\n",
    "sns.regplot(w2w, pvals, fit_reg=False, marker='o')\n",
    "            #, scatter_kws={'facecolors':df['color']})\n",
    "#sns.plt.show()\n"
   ]
  },
  {
   "cell_type": "code",
   "execution_count": 22,
   "metadata": {},
   "outputs": [
    {
     "data": {
      "text/plain": [
       "DatetimeIndex(['2016-08-29', '2016-09-05', '2016-09-12', '2016-09-19',\n",
       "               '2016-09-26', '2016-10-03', '2016-10-10', '2016-10-17',\n",
       "               '2016-10-24', '2016-10-31', '2016-11-07', '2016-11-14',\n",
       "               '2016-11-21', '2016-11-28', '2016-12-05', '2016-12-12',\n",
       "               '2016-12-19', '2016-12-26', '2017-01-02', '2017-01-09',\n",
       "               '2017-01-16', '2017-01-23', '2017-01-30', '2017-02-06',\n",
       "               '2017-02-13', '2017-02-20', '2017-02-27', '2017-03-06',\n",
       "               '2017-03-13', '2017-03-20', '2017-03-27', '2017-04-03',\n",
       "               '2017-04-10', '2017-04-17', '2017-04-24', '2017-05-01',\n",
       "               '2017-05-08'],\n",
       "              dtype='datetime64[ns]', name='week_start', freq=None)"
      ]
     },
     "execution_count": 22,
     "metadata": {},
     "output_type": "execute_result"
    }
   ],
   "source": [
    "w2w"
   ]
  },
  {
   "cell_type": "code",
   "execution_count": 23,
   "metadata": {},
   "outputs": [],
   "source": [
    "types = ['2nd Week Back'\n",
    "         , 'Normal'\n",
    "         , 'Normal'\n",
    "         , 'Normal'\n",
    "         , 'Normal'\n",
    "         , 'Pre-Exams'\n",
    "         , 'Exams'\n",
    "         , 'Break'\n",
    "         ,'Back from Break'\n",
    "         , '2nd Week Back'\n",
    "         , 'Normal'\n",
    "         , 'Normal'\n",
    "         , 'Break'\n",
    "         , 'Back from Break'\n",
    "         , 'Pre-Exams'\n",
    "         , 'Exams'\n",
    "         , 'Break'\n",
    "         , 'Break'\n",
    "         , 'Break'\n",
    "         , 'Break'\n",
    "         , 'Back from Break'\n",
    "         , '2nd Week Back'\n",
    "         , 'Normal'\n",
    "         , 'Normal'\n",
    "         , 'Normal'\n",
    "         , 'Normal'\n",
    "         , 'Pre-Exams'\n",
    "         , 'Exams'\n",
    "         , 'Break'\n",
    "         , 'Back from Break'\n",
    "         , '2nd Week Back'\n",
    "         , 'Normal'\n",
    "         , 'Normal'\n",
    "         , 'Back from Break'\n",
    "         , 'Normal'\n",
    "         , 'Pre-Exams'\n",
    "         , 'Exams'\n",
    "        ]\n"
   ]
  },
  {
   "cell_type": "code",
   "execution_count": 24,
   "metadata": {},
   "outputs": [],
   "source": [
    "w = w2w.map(lambda x: str(x)[0:10])"
   ]
  },
  {
   "cell_type": "code",
   "execution_count": 25,
   "metadata": {
    "scrolled": true
   },
   "outputs": [
    {
     "data": {
      "text/html": [
       "<div>\n",
       "<style scoped>\n",
       "    .dataframe tbody tr th:only-of-type {\n",
       "        vertical-align: middle;\n",
       "    }\n",
       "\n",
       "    .dataframe tbody tr th {\n",
       "        vertical-align: top;\n",
       "    }\n",
       "\n",
       "    .dataframe thead th {\n",
       "        text-align: right;\n",
       "    }\n",
       "</style>\n",
       "<table border=\"1\" class=\"dataframe\">\n",
       "  <thead>\n",
       "    <tr style=\"text-align: right;\">\n",
       "      <th></th>\n",
       "      <th>0</th>\n",
       "      <th>1</th>\n",
       "      <th>2</th>\n",
       "      <th>3</th>\n",
       "      <th>4</th>\n",
       "      <th>5</th>\n",
       "      <th>6</th>\n",
       "      <th>7</th>\n",
       "      <th>8</th>\n",
       "      <th>9</th>\n",
       "      <th>...</th>\n",
       "      <th>27</th>\n",
       "      <th>28</th>\n",
       "      <th>29</th>\n",
       "      <th>30</th>\n",
       "      <th>31</th>\n",
       "      <th>32</th>\n",
       "      <th>33</th>\n",
       "      <th>34</th>\n",
       "      <th>35</th>\n",
       "      <th>36</th>\n",
       "    </tr>\n",
       "  </thead>\n",
       "  <tbody>\n",
       "    <tr>\n",
       "      <td>0</td>\n",
       "      <td>2016-08-29</td>\n",
       "      <td>2016-09-05</td>\n",
       "      <td>2016-09-12</td>\n",
       "      <td>2016-09-19</td>\n",
       "      <td>2016-09-26</td>\n",
       "      <td>2016-10-03</td>\n",
       "      <td>2016-10-10</td>\n",
       "      <td>2016-10-17</td>\n",
       "      <td>2016-10-24</td>\n",
       "      <td>2016-10-31</td>\n",
       "      <td>...</td>\n",
       "      <td>2017-03-06</td>\n",
       "      <td>2017-03-13</td>\n",
       "      <td>2017-03-20</td>\n",
       "      <td>2017-03-27</td>\n",
       "      <td>2017-04-03</td>\n",
       "      <td>2017-04-10</td>\n",
       "      <td>2017-04-17</td>\n",
       "      <td>2017-04-24</td>\n",
       "      <td>2017-05-01</td>\n",
       "      <td>2017-05-08</td>\n",
       "    </tr>\n",
       "    <tr>\n",
       "      <td>1</td>\n",
       "      <td>2nd Week Back</td>\n",
       "      <td>Normal</td>\n",
       "      <td>Normal</td>\n",
       "      <td>Normal</td>\n",
       "      <td>Normal</td>\n",
       "      <td>Pre-Exams</td>\n",
       "      <td>Exams</td>\n",
       "      <td>Break</td>\n",
       "      <td>Back from Break</td>\n",
       "      <td>2nd Week Back</td>\n",
       "      <td>...</td>\n",
       "      <td>Exams</td>\n",
       "      <td>Break</td>\n",
       "      <td>Back from Break</td>\n",
       "      <td>2nd Week Back</td>\n",
       "      <td>Normal</td>\n",
       "      <td>Normal</td>\n",
       "      <td>Back from Break</td>\n",
       "      <td>Normal</td>\n",
       "      <td>Pre-Exams</td>\n",
       "      <td>Exams</td>\n",
       "    </tr>\n",
       "  </tbody>\n",
       "</table>\n",
       "<p>2 rows × 37 columns</p>\n",
       "</div>"
      ],
      "text/plain": [
       "              0           1           2           3           4           5   \\\n",
       "0     2016-08-29  2016-09-05  2016-09-12  2016-09-19  2016-09-26  2016-10-03   \n",
       "1  2nd Week Back      Normal      Normal      Normal      Normal   Pre-Exams   \n",
       "\n",
       "           6           7                8              9   ...          27  \\\n",
       "0  2016-10-10  2016-10-17       2016-10-24     2016-10-31  ...  2017-03-06   \n",
       "1       Exams       Break  Back from Break  2nd Week Back  ...       Exams   \n",
       "\n",
       "           28               29             30          31          32  \\\n",
       "0  2017-03-13       2017-03-20     2017-03-27  2017-04-03  2017-04-10   \n",
       "1       Break  Back from Break  2nd Week Back      Normal      Normal   \n",
       "\n",
       "                33          34          35          36  \n",
       "0       2017-04-17  2017-04-24  2017-05-01  2017-05-08  \n",
       "1  Back from Break      Normal   Pre-Exams       Exams  \n",
       "\n",
       "[2 rows x 37 columns]"
      ]
     },
     "execution_count": 25,
     "metadata": {},
     "output_type": "execute_result"
    }
   ],
   "source": [
    "df_type = pd.DataFrame([w, types])\n",
    "df_type"
   ]
  },
  {
   "cell_type": "code",
   "execution_count": null,
   "metadata": {},
   "outputs": [],
   "source": []
  },
  {
   "cell_type": "code",
   "execution_count": 26,
   "metadata": {
    "scrolled": false
   },
   "outputs": [
    {
     "data": {
      "image/png": "[encoded data removed]",
      "text/plain": [
       "<Figure size 720x360 with 1 Axes>"
      ]
     },
     "metadata": {
      "needs_background": "light"
     },
     "output_type": "display_data"
    }
   ],
   "source": [
    "plt.figure(figsize=(10,5));\n",
    "g = sns.swarmplot(x=w, y=pvals, hue=types, size = 10, palette= 'bright');\n",
    "g.legend(loc='center left', bbox_to_anchor=(1.25, 0.5), ncol=1);\n",
    "plt.xticks(rotation=90);\n",
    "plt.yticks(np.arange(0, 1, 0.05));\n",
    "plt.axhline(y=.1, xmin=0, xmax=1, color='black', linestyle='--');\n",
    "plt.axhline(y=.05, xmin=0, xmax=1, color='black', linestyle='--');\n",
    "plt.xlabel('Week', fontsize=14);\n",
    "plt.ylabel('P-Value', fontsize=14);\n",
    "plt.title('Significance of Change in Efficiency Week to Week', fontsize=18, fontweight='bold');"
   ]
  },
  {
   "cell_type": "code",
   "execution_count": 38,
   "metadata": {},
   "outputs": [
    {
     "data": {
      "text/plain": [
       "37"
      ]
     },
     "execution_count": 38,
     "metadata": {},
     "output_type": "execute_result"
    }
   ],
   "source": [
    "len(types)"
   ]
  },
  {
   "cell_type": "code",
   "execution_count": 30,
   "metadata": {},
   "outputs": [],
   "source": [
    "def compareMean(weekData, pvals):\n",
    "    tset, pval = ttest_1samp(weekData, pd_flat.mean().mean())\n",
    "    pvals.append(pval)\n",
    "    print(pval)\n",
    "    if pval < 0.10:    # alpha value is 0.05 or 5%\n",
    "        print(\" we are rejecting null hypothesis\")\n",
    "    #else:\n",
    "        #print(\"we are accepting null hypothesis\")"
   ]
  },
  {
   "cell_type": "code",
   "execution_count": 35,
   "metadata": {},
   "outputs": [
    {
     "name": "stdout",
     "output_type": "stream",
     "text": [
      "2016-08-22 00:00:00\n",
      "0.4850554575282199\n",
      "2016-08-29 00:00:00\n",
      "0.7166463747267883\n",
      "2016-09-05 00:00:00\n",
      "0.17748764075240578\n",
      "2016-09-12 00:00:00\n",
      "0.8443585249633687\n",
      "2016-09-19 00:00:00\n",
      "0.7360521306497408\n",
      "2016-09-26 00:00:00\n",
      "0.26276702458987566\n",
      "2016-10-03 00:00:00\n",
      "0.5257380416300865\n",
      "2016-10-10 00:00:00\n",
      "0.7048389406995517\n",
      "2016-10-17 00:00:00\n",
      "0.3044996081111364\n",
      "2016-10-24 00:00:00\n",
      "0.5232240618228862\n",
      "2016-10-31 00:00:00\n",
      "0.4933478359343988\n",
      "2016-11-07 00:00:00\n",
      "0.03704864599886782\n",
      " we are rejecting null hypothesis\n",
      "2016-11-14 00:00:00\n",
      "0.6801573882569096\n",
      "2016-11-21 00:00:00\n",
      "0.9510225103747174\n",
      "2016-11-28 00:00:00\n",
      "0.8107394614696001\n",
      "2016-12-05 00:00:00\n",
      "0.7302716056010938\n",
      "2016-12-12 00:00:00\n",
      "0.628927237341981\n",
      "2016-12-19 00:00:00\n",
      "0.5264711295198639\n",
      "2016-12-26 00:00:00\n",
      "0.17774306976199925\n",
      "2017-01-02 00:00:00\n",
      "0.0529357455819345\n",
      " we are rejecting null hypothesis\n",
      "2017-01-09 00:00:00\n",
      "0.35196106802523286\n",
      "2017-01-16 00:00:00\n",
      "0.4370740701500768\n",
      "2017-01-23 00:00:00\n",
      "0.7982845477893314\n",
      "2017-01-30 00:00:00\n",
      "0.6866469939895028\n",
      "2017-02-06 00:00:00\n",
      "0.39919605905930344\n",
      "2017-02-13 00:00:00\n",
      "0.18440459169044232\n",
      "2017-02-20 00:00:00\n",
      "0.6058783226010891\n",
      "2017-02-27 00:00:00\n",
      "0.37783350164650253\n",
      "2017-03-06 00:00:00\n",
      "0.2522273051052377\n",
      "2017-03-13 00:00:00\n",
      "0.9079999021948637\n",
      "2017-03-20 00:00:00\n",
      "0.8791045480449842\n",
      "2017-03-27 00:00:00\n",
      "0.9467765507461189\n",
      "2017-04-03 00:00:00\n",
      "0.778168554541917\n",
      "2017-04-10 00:00:00\n",
      "0.9883615008006086\n",
      "2017-04-17 00:00:00\n",
      "0.6592793769362524\n",
      "2017-04-24 00:00:00\n",
      "0.7017220321375196\n",
      "2017-05-01 00:00:00\n",
      "0.3808148640862826\n",
      "2017-05-08 00:00:00\n",
      "0.6689107016141699\n"
     ]
    }
   ],
   "source": [
    "weeks = pdrop.columns\n",
    "pvals = []\n",
    "for w in weeks:\n",
    "    print(w)\n",
    "    this_week = pd_flat[w]\n",
    "    compareMean(this_week, pvals)"
   ]
  },
  {
   "cell_type": "code",
   "execution_count": 41,
   "metadata": {},
   "outputs": [],
   "source": [
    "ww = [str(x)[0:10] for x in weeks]"
   ]
  },
  {
   "cell_type": "code",
   "execution_count": 47,
   "metadata": {},
   "outputs": [
    {
     "data": {
      "image/png": "[encoded data removed]",
      "text/plain": [
       "<Figure size 720x360 with 1 Axes>"
      ]
     },
     "metadata": {
      "needs_background": "light"
     },
     "output_type": "display_data"
    }
   ],
   "source": [
    "plt.figure(figsize=(10,5));\n",
    "g = sns.swarmplot(x=np.arange(1, 38), y=pd_flat.mean()[1:], hue=types, size = 10, palette= 'bright');\n",
    "\n",
    "plt.xlim(-2, 37);\n",
    "plt.scatter(-1, pd_flat.mean()[0], marker='o', s=80, color='brown');\n",
    "plt.xticks(range(-1, len(ww)-1),ww, fontsize=12);\n",
    "plt.xticks(rotation=90);\n",
    "plt.yticks(fontsize=12);\n",
    "#plt.yticks(np.arange(0, 1, 0.05));\n",
    "plt.axhline(y= pd_flat.mean().mean(), xmin=0, xmax=1, color='black', linestyle='--', label=\"Yearlong Average\");\n",
    "g.legend(loc='center left', bbox_to_anchor=(1.25, 0.5), ncol=1, fontsize=12);\n",
    "plt.xlabel('Week', fontsize=14);\n",
    "plt.ylabel('Avg Efficiency', fontsize=14);\n",
    "plt.title('Change in Efficiency Compared to Yearly Average (16/17)', fontsize=18, fontweight='bold');\n",
    "plt.savefig('Figure5b', dpi=300, bbox_inches=\"tight\")"
   ]
  },
  {
   "cell_type": "code",
   "execution_count": null,
   "metadata": {},
   "outputs": [],
   "source": []
  }
 ],
 "metadata": {
  "kernelspec": {
   "display_name": "Python 3",
   "language": "python",
   "name": "python3"
  },
  "language_info": {
   "codemirror_mode": {
    "name": "ipython",
    "version": 3
   },
   "file_extension": ".py",
   "mimetype": "text/x-python",
   "name": "python",
   "nbconvert_exporter": "python",
   "pygments_lexer": "ipython3",
   "version": "3.7.4"
  }
 },
 "nbformat": 4,
 "nbformat_minor": 2
}
