{
 "cells": [
  {
   "cell_type": "code",
   "execution_count": 49,
   "metadata": {},
   "outputs": [],
   "source": [
    "import pandas as pd\n",
    "import matplotlib.pyplot as plt\n",
    "import numpy as np\n",
    "%matplotlib inline\n",
    "import statsmodels.api as sm # import statsmodels \n",
    "from sklearn import linear_model\n",
    "from scipy import stats\n",
    "import seaborn as sns\n",
    "from scipy.stats import ttest_1samp"
   ]
  },
  {
   "cell_type": "code",
   "execution_count": 50,
   "metadata": {},
   "outputs": [],
   "source": [
    "df = pd.read_csv('1718.csv')\n",
    "df = df[df['isMainSleep'] == 1]\n",
    "df['week_start'] = pd.to_datetime(df['dataDate']).dt.to_period('W').apply(lambda r: r.start_time)"
   ]
  },
  {
   "cell_type": "code",
   "execution_count": 51,
   "metadata": {},
   "outputs": [
    {
     "data": {
      "text/html": [
       "<div>\n",
       "<style scoped>\n",
       "    .dataframe tbody tr th:only-of-type {\n",
       "        vertical-align: middle;\n",
       "    }\n",
       "\n",
       "    .dataframe tbody tr th {\n",
       "        vertical-align: top;\n",
       "    }\n",
       "\n",
       "    .dataframe thead th {\n",
       "        text-align: right;\n",
       "    }\n",
       "</style>\n",
       "<table border=\"1\" class=\"dataframe\">\n",
       "  <thead>\n",
       "    <tr style=\"text-align: right;\">\n",
       "      <th></th>\n",
       "      <th>participID</th>\n",
       "      <th>dataDate</th>\n",
       "      <th>efficiency</th>\n",
       "      <th>week_start</th>\n",
       "    </tr>\n",
       "  </thead>\n",
       "  <tbody>\n",
       "    <tr>\n",
       "      <td>0</td>\n",
       "      <td>3LZGLG</td>\n",
       "      <td>2017-08-25</td>\n",
       "      <td>95</td>\n",
       "      <td>2017-08-21</td>\n",
       "    </tr>\n",
       "    <tr>\n",
       "      <td>1</td>\n",
       "      <td>3LZGLG</td>\n",
       "      <td>2017-08-26</td>\n",
       "      <td>94</td>\n",
       "      <td>2017-08-21</td>\n",
       "    </tr>\n",
       "    <tr>\n",
       "      <td>2</td>\n",
       "      <td>3LZGLG</td>\n",
       "      <td>2017-08-27</td>\n",
       "      <td>96</td>\n",
       "      <td>2017-08-21</td>\n",
       "    </tr>\n",
       "    <tr>\n",
       "      <td>3</td>\n",
       "      <td>3LZGLG</td>\n",
       "      <td>2017-08-28</td>\n",
       "      <td>96</td>\n",
       "      <td>2017-08-28</td>\n",
       "    </tr>\n",
       "    <tr>\n",
       "      <td>4</td>\n",
       "      <td>3LZGLG</td>\n",
       "      <td>2017-08-29</td>\n",
       "      <td>96</td>\n",
       "      <td>2017-08-28</td>\n",
       "    </tr>\n",
       "    <tr>\n",
       "      <td>...</td>\n",
       "      <td>...</td>\n",
       "      <td>...</td>\n",
       "      <td>...</td>\n",
       "      <td>...</td>\n",
       "    </tr>\n",
       "    <tr>\n",
       "      <td>46221</td>\n",
       "      <td>5YSG6K</td>\n",
       "      <td>2018-05-07</td>\n",
       "      <td>95</td>\n",
       "      <td>2018-05-07</td>\n",
       "    </tr>\n",
       "    <tr>\n",
       "      <td>46222</td>\n",
       "      <td>5YSG6K</td>\n",
       "      <td>2018-05-08</td>\n",
       "      <td>97</td>\n",
       "      <td>2018-05-07</td>\n",
       "    </tr>\n",
       "    <tr>\n",
       "      <td>46223</td>\n",
       "      <td>5YSG6K</td>\n",
       "      <td>2018-05-09</td>\n",
       "      <td>97</td>\n",
       "      <td>2018-05-07</td>\n",
       "    </tr>\n",
       "    <tr>\n",
       "      <td>46224</td>\n",
       "      <td>5YSG6K</td>\n",
       "      <td>2018-05-10</td>\n",
       "      <td>96</td>\n",
       "      <td>2018-05-07</td>\n",
       "    </tr>\n",
       "    <tr>\n",
       "      <td>46225</td>\n",
       "      <td>5YSG6K</td>\n",
       "      <td>2018-05-11</td>\n",
       "      <td>95</td>\n",
       "      <td>2018-05-07</td>\n",
       "    </tr>\n",
       "  </tbody>\n",
       "</table>\n",
       "<p>41746 rows × 4 columns</p>\n",
       "</div>"
      ],
      "text/plain": [
       "      participID    dataDate  efficiency week_start\n",
       "0         3LZGLG  2017-08-25          95 2017-08-21\n",
       "1         3LZGLG  2017-08-26          94 2017-08-21\n",
       "2         3LZGLG  2017-08-27          96 2017-08-21\n",
       "3         3LZGLG  2017-08-28          96 2017-08-28\n",
       "4         3LZGLG  2017-08-29          96 2017-08-28\n",
       "...          ...         ...         ...        ...\n",
       "46221     5YSG6K  2018-05-07          95 2018-05-07\n",
       "46222     5YSG6K  2018-05-08          97 2018-05-07\n",
       "46223     5YSG6K  2018-05-09          97 2018-05-07\n",
       "46224     5YSG6K  2018-05-10          96 2018-05-07\n",
       "46225     5YSG6K  2018-05-11          95 2018-05-07\n",
       "\n",
       "[41746 rows x 4 columns]"
      ]
     },
     "execution_count": 51,
     "metadata": {},
     "output_type": "execute_result"
    }
   ],
   "source": [
    "eff = df[['participID', 'dataDate', 'efficiency', 'week_start']]\n",
    "eff\n"
   ]
  },
  {
   "cell_type": "code",
   "execution_count": 52,
   "metadata": {},
   "outputs": [
    {
     "data": {
      "text/html": [
       "<div>\n",
       "<style scoped>\n",
       "    .dataframe tbody tr th:only-of-type {\n",
       "        vertical-align: middle;\n",
       "    }\n",
       "\n",
       "    .dataframe tbody tr th {\n",
       "        vertical-align: top;\n",
       "    }\n",
       "\n",
       "    .dataframe thead th {\n",
       "        text-align: right;\n",
       "    }\n",
       "</style>\n",
       "<table border=\"1\" class=\"dataframe\">\n",
       "  <thead>\n",
       "    <tr style=\"text-align: right;\">\n",
       "      <th></th>\n",
       "      <th>participID</th>\n",
       "      <th>week_start</th>\n",
       "      <th>efficiency</th>\n",
       "    </tr>\n",
       "  </thead>\n",
       "  <tbody>\n",
       "    <tr>\n",
       "      <td>0</td>\n",
       "      <td>3LZGLG</td>\n",
       "      <td>2017-08-21</td>\n",
       "      <td>95.000000</td>\n",
       "    </tr>\n",
       "    <tr>\n",
       "      <td>1</td>\n",
       "      <td>3LZGLG</td>\n",
       "      <td>2017-08-28</td>\n",
       "      <td>95.285714</td>\n",
       "    </tr>\n",
       "    <tr>\n",
       "      <td>2</td>\n",
       "      <td>3LZGLG</td>\n",
       "      <td>2017-09-04</td>\n",
       "      <td>95.714286</td>\n",
       "    </tr>\n",
       "    <tr>\n",
       "      <td>3</td>\n",
       "      <td>3LZGLG</td>\n",
       "      <td>2017-09-11</td>\n",
       "      <td>94.428571</td>\n",
       "    </tr>\n",
       "    <tr>\n",
       "      <td>4</td>\n",
       "      <td>3LZGLG</td>\n",
       "      <td>2017-09-18</td>\n",
       "      <td>92.714286</td>\n",
       "    </tr>\n",
       "  </tbody>\n",
       "</table>\n",
       "</div>"
      ],
      "text/plain": [
       "  participID week_start  efficiency\n",
       "0     3LZGLG 2017-08-21   95.000000\n",
       "1     3LZGLG 2017-08-28   95.285714\n",
       "2     3LZGLG 2017-09-04   95.714286\n",
       "3     3LZGLG 2017-09-11   94.428571\n",
       "4     3LZGLG 2017-09-18   92.714286"
      ]
     },
     "execution_count": 52,
     "metadata": {},
     "output_type": "execute_result"
    }
   ],
   "source": [
    "eff = eff.groupby(['participID', 'week_start'], as_index=False).mean()\n",
    "eff.head()"
   ]
  },
  {
   "cell_type": "code",
   "execution_count": 53,
   "metadata": {},
   "outputs": [
    {
     "data": {
      "text/html": [
       "<div>\n",
       "<style scoped>\n",
       "    .dataframe tbody tr th:only-of-type {\n",
       "        vertical-align: middle;\n",
       "    }\n",
       "\n",
       "    .dataframe tbody tr th {\n",
       "        vertical-align: top;\n",
       "    }\n",
       "\n",
       "    .dataframe thead th {\n",
       "        text-align: right;\n",
       "    }\n",
       "</style>\n",
       "<table border=\"1\" class=\"dataframe\">\n",
       "  <thead>\n",
       "    <tr style=\"text-align: right;\">\n",
       "      <th>week_start</th>\n",
       "      <th>2017-08-21</th>\n",
       "      <th>2017-08-28</th>\n",
       "      <th>2017-09-04</th>\n",
       "      <th>2017-09-11</th>\n",
       "      <th>2017-09-18</th>\n",
       "      <th>2017-09-25</th>\n",
       "      <th>2017-10-02</th>\n",
       "      <th>2017-10-09</th>\n",
       "      <th>2017-10-16</th>\n",
       "      <th>2017-10-23</th>\n",
       "      <th>...</th>\n",
       "      <th>2018-03-05</th>\n",
       "      <th>2018-03-12</th>\n",
       "      <th>2018-03-19</th>\n",
       "      <th>2018-03-26</th>\n",
       "      <th>2018-04-02</th>\n",
       "      <th>2018-04-09</th>\n",
       "      <th>2018-04-16</th>\n",
       "      <th>2018-04-23</th>\n",
       "      <th>2018-04-30</th>\n",
       "      <th>2018-05-07</th>\n",
       "    </tr>\n",
       "    <tr>\n",
       "      <th>participID</th>\n",
       "      <th></th>\n",
       "      <th></th>\n",
       "      <th></th>\n",
       "      <th></th>\n",
       "      <th></th>\n",
       "      <th></th>\n",
       "      <th></th>\n",
       "      <th></th>\n",
       "      <th></th>\n",
       "      <th></th>\n",
       "      <th></th>\n",
       "      <th></th>\n",
       "      <th></th>\n",
       "      <th></th>\n",
       "      <th></th>\n",
       "      <th></th>\n",
       "      <th></th>\n",
       "      <th></th>\n",
       "      <th></th>\n",
       "      <th></th>\n",
       "      <th></th>\n",
       "    </tr>\n",
       "  </thead>\n",
       "  <tbody>\n",
       "    <tr>\n",
       "      <td>3LZGLG</td>\n",
       "      <td>95.00</td>\n",
       "      <td>95.285714</td>\n",
       "      <td>95.714286</td>\n",
       "      <td>94.428571</td>\n",
       "      <td>92.714286</td>\n",
       "      <td>94.833333</td>\n",
       "      <td>97.285714</td>\n",
       "      <td>97.428571</td>\n",
       "      <td>95.714286</td>\n",
       "      <td>96.428571</td>\n",
       "      <td>...</td>\n",
       "      <td>96.285714</td>\n",
       "      <td>94.857143</td>\n",
       "      <td>95.571429</td>\n",
       "      <td>94.500000</td>\n",
       "      <td>95.428571</td>\n",
       "      <td>95.857143</td>\n",
       "      <td>95.000000</td>\n",
       "      <td>95.571429</td>\n",
       "      <td>95.000000</td>\n",
       "      <td>95.8</td>\n",
       "    </tr>\n",
       "    <tr>\n",
       "      <td>3LZJFK</td>\n",
       "      <td>96.75</td>\n",
       "      <td>94.800000</td>\n",
       "      <td>96.166667</td>\n",
       "      <td>96.428571</td>\n",
       "      <td>94.142857</td>\n",
       "      <td>96.857143</td>\n",
       "      <td>95.285714</td>\n",
       "      <td>96.333333</td>\n",
       "      <td>95.285714</td>\n",
       "      <td>95.666667</td>\n",
       "      <td>...</td>\n",
       "      <td>94.857143</td>\n",
       "      <td>95.857143</td>\n",
       "      <td>93.857143</td>\n",
       "      <td>95.428571</td>\n",
       "      <td>95.571429</td>\n",
       "      <td>93.571429</td>\n",
       "      <td>95.571429</td>\n",
       "      <td>94.714286</td>\n",
       "      <td>96.857143</td>\n",
       "      <td>93.8</td>\n",
       "    </tr>\n",
       "    <tr>\n",
       "      <td>3LZRZQ</td>\n",
       "      <td>97.00</td>\n",
       "      <td>97.714286</td>\n",
       "      <td>96.571429</td>\n",
       "      <td>97.571429</td>\n",
       "      <td>97.142857</td>\n",
       "      <td>97.166667</td>\n",
       "      <td>95.714286</td>\n",
       "      <td>97.000000</td>\n",
       "      <td>95.714286</td>\n",
       "      <td>97.142857</td>\n",
       "      <td>...</td>\n",
       "      <td>95.142857</td>\n",
       "      <td>97.000000</td>\n",
       "      <td>96.714286</td>\n",
       "      <td>93.000000</td>\n",
       "      <td>94.500000</td>\n",
       "      <td>95.666667</td>\n",
       "      <td>92.571429</td>\n",
       "      <td>95.571429</td>\n",
       "      <td>93.166667</td>\n",
       "      <td>93.0</td>\n",
       "    </tr>\n",
       "    <tr>\n",
       "      <td>3M29ZH</td>\n",
       "      <td>97.60</td>\n",
       "      <td>97.714286</td>\n",
       "      <td>97.166667</td>\n",
       "      <td>99.000000</td>\n",
       "      <td>98.285714</td>\n",
       "      <td>96.571429</td>\n",
       "      <td>98.000000</td>\n",
       "      <td>97.571429</td>\n",
       "      <td>97.666667</td>\n",
       "      <td>98.800000</td>\n",
       "      <td>...</td>\n",
       "      <td>98.666667</td>\n",
       "      <td>97.333333</td>\n",
       "      <td>97.200000</td>\n",
       "      <td>97.666667</td>\n",
       "      <td>97.857143</td>\n",
       "      <td>97.166667</td>\n",
       "      <td>96.714286</td>\n",
       "      <td>96.833333</td>\n",
       "      <td>97.142857</td>\n",
       "      <td>97.4</td>\n",
       "    </tr>\n",
       "    <tr>\n",
       "      <td>3M2QNS</td>\n",
       "      <td>94.75</td>\n",
       "      <td>94.250000</td>\n",
       "      <td>93.166667</td>\n",
       "      <td>90.000000</td>\n",
       "      <td>94.500000</td>\n",
       "      <td>95.750000</td>\n",
       "      <td>89.666667</td>\n",
       "      <td>NaN</td>\n",
       "      <td>89.333333</td>\n",
       "      <td>95.333333</td>\n",
       "      <td>...</td>\n",
       "      <td>95.500000</td>\n",
       "      <td>NaN</td>\n",
       "      <td>NaN</td>\n",
       "      <td>NaN</td>\n",
       "      <td>NaN</td>\n",
       "      <td>93.000000</td>\n",
       "      <td>NaN</td>\n",
       "      <td>94.800000</td>\n",
       "      <td>96.000000</td>\n",
       "      <td>NaN</td>\n",
       "    </tr>\n",
       "  </tbody>\n",
       "</table>\n",
       "<p>5 rows × 38 columns</p>\n",
       "</div>"
      ],
      "text/plain": [
       "week_start  2017-08-21  2017-08-28  2017-09-04  2017-09-11  2017-09-18  \\\n",
       "participID                                                               \n",
       "3LZGLG           95.00   95.285714   95.714286   94.428571   92.714286   \n",
       "3LZJFK           96.75   94.800000   96.166667   96.428571   94.142857   \n",
       "3LZRZQ           97.00   97.714286   96.571429   97.571429   97.142857   \n",
       "3M29ZH           97.60   97.714286   97.166667   99.000000   98.285714   \n",
       "3M2QNS           94.75   94.250000   93.166667   90.000000   94.500000   \n",
       "\n",
       "week_start  2017-09-25  2017-10-02  2017-10-09  2017-10-16  2017-10-23  ...  \\\n",
       "participID                                                              ...   \n",
       "3LZGLG       94.833333   97.285714   97.428571   95.714286   96.428571  ...   \n",
       "3LZJFK       96.857143   95.285714   96.333333   95.285714   95.666667  ...   \n",
       "3LZRZQ       97.166667   95.714286   97.000000   95.714286   97.142857  ...   \n",
       "3M29ZH       96.571429   98.000000   97.571429   97.666667   98.800000  ...   \n",
       "3M2QNS       95.750000   89.666667         NaN   89.333333   95.333333  ...   \n",
       "\n",
       "week_start  2018-03-05  2018-03-12  2018-03-19  2018-03-26  2018-04-02  \\\n",
       "participID                                                               \n",
       "3LZGLG       96.285714   94.857143   95.571429   94.500000   95.428571   \n",
       "3LZJFK       94.857143   95.857143   93.857143   95.428571   95.571429   \n",
       "3LZRZQ       95.142857   97.000000   96.714286   93.000000   94.500000   \n",
       "3M29ZH       98.666667   97.333333   97.200000   97.666667   97.857143   \n",
       "3M2QNS       95.500000         NaN         NaN         NaN         NaN   \n",
       "\n",
       "week_start  2018-04-09  2018-04-16  2018-04-23  2018-04-30  2018-05-07  \n",
       "participID                                                              \n",
       "3LZGLG       95.857143   95.000000   95.571429   95.000000        95.8  \n",
       "3LZJFK       93.571429   95.571429   94.714286   96.857143        93.8  \n",
       "3LZRZQ       95.666667   92.571429   95.571429   93.166667        93.0  \n",
       "3M29ZH       97.166667   96.714286   96.833333   97.142857        97.4  \n",
       "3M2QNS       93.000000         NaN   94.800000   96.000000         NaN  \n",
       "\n",
       "[5 rows x 38 columns]"
      ]
     },
     "execution_count": 53,
     "metadata": {},
     "output_type": "execute_result"
    }
   ],
   "source": [
    "pivot = eff.pivot(index='participID', columns='week_start', values='efficiency')\n",
    "pivot.head()"
   ]
  },
  {
   "cell_type": "code",
   "execution_count": 54,
   "metadata": {},
   "outputs": [],
   "source": [
    "pivot_drop = pivot.dropna()\n",
    "#68 participants who had at least one night of data from all 37 weeks "
   ]
  },
  {
   "cell_type": "code",
   "execution_count": 55,
   "metadata": {},
   "outputs": [],
   "source": [
    "pdrop= pivot_drop[(np.abs(stats.zscore(pivot_drop)) < 3).all(axis=1)]"
   ]
  },
  {
   "cell_type": "code",
   "execution_count": 56,
   "metadata": {
    "scrolled": true
   },
   "outputs": [
    {
     "data": {
      "image/png": "[encoded data removed]",
      "text/plain": [
       "<Figure size 720x360 with 1 Axes>"
      ]
     },
     "metadata": {
      "needs_background": "light"
     },
     "output_type": "display_data"
    }
   ],
   "source": [
    "pdrop.boxplot(figsize=(10,5))\n",
    "plt.xticks(rotation=90);\n",
    "plt.title('Distribution of Sleep Efficiency By Week', fontsize=18, fontweight='bold');\n",
    "plt.ylabel('Sleep Efficiency (%)', fontsize=14);\n",
    "plt.xlabel('Week', fontsize=14);"
   ]
  },
  {
   "cell_type": "code",
   "execution_count": 57,
   "metadata": {},
   "outputs": [],
   "source": [
    "def paired_t_test(before, after):\n",
    "    ttest,pval = stats.ttest_rel(before, after)\n",
    "    #print(pval)\n",
    "    if pval<0.10:\n",
    "        print(\"reject null hypothesis\")\n",
    "    #else:\n",
    "    #    print(\"accept null hypothesis\")"
   ]
  },
  {
   "cell_type": "code",
   "execution_count": 58,
   "metadata": {},
   "outputs": [],
   "source": [
    "pd_flat = pdrop.reset_index()"
   ]
  },
  {
   "cell_type": "code",
   "execution_count": 59,
   "metadata": {},
   "outputs": [
    {
     "name": "stdout",
     "output_type": "stream",
     "text": [
      "2017-08-28 00:00:00\n",
      "2017-09-04 00:00:00\n",
      "2017-09-11 00:00:00\n",
      "2017-09-18 00:00:00\n",
      "reject null hypothesis\n",
      "2017-09-25 00:00:00\n",
      "reject null hypothesis\n",
      "2017-10-02 00:00:00\n",
      "2017-10-09 00:00:00\n",
      "2017-10-16 00:00:00\n",
      "reject null hypothesis\n",
      "2017-10-23 00:00:00\n",
      "reject null hypothesis\n",
      "2017-10-30 00:00:00\n",
      "2017-11-06 00:00:00\n",
      "2017-11-13 00:00:00\n",
      "2017-11-20 00:00:00\n",
      "2017-11-27 00:00:00\n",
      "2017-12-04 00:00:00\n",
      "2017-12-11 00:00:00\n",
      "2017-12-18 00:00:00\n",
      "2017-12-25 00:00:00\n",
      "2018-01-01 00:00:00\n",
      "2018-01-08 00:00:00\n",
      "2018-01-15 00:00:00\n",
      "reject null hypothesis\n",
      "2018-01-22 00:00:00\n",
      "2018-01-29 00:00:00\n",
      "2018-02-05 00:00:00\n",
      "2018-02-12 00:00:00\n",
      "2018-02-19 00:00:00\n",
      "2018-02-26 00:00:00\n",
      "2018-03-05 00:00:00\n",
      "reject null hypothesis\n",
      "2018-03-12 00:00:00\n",
      "reject null hypothesis\n",
      "2018-03-19 00:00:00\n",
      "2018-03-26 00:00:00\n",
      "2018-04-02 00:00:00\n",
      "reject null hypothesis\n",
      "2018-04-09 00:00:00\n",
      "reject null hypothesis\n",
      "2018-04-16 00:00:00\n",
      "2018-04-23 00:00:00\n",
      "2018-04-30 00:00:00\n",
      "2018-05-07 00:00:00\n"
     ]
    }
   ],
   "source": [
    "weeks = pdrop.columns\n",
    "l = len(weeks)\n",
    "for index, obj in enumerate(weeks):\n",
    "    if index < (l - 1):\n",
    "        print(weeks[index+1])\n",
    "        this_week = pd_flat[weeks[index]]\n",
    "        next_week = pd_flat[weeks[index+1]]\n",
    "        paired_t_test(this_week, next_week)"
   ]
  },
  {
   "cell_type": "code",
   "execution_count": 60,
   "metadata": {},
   "outputs": [],
   "source": [
    "# checking normality: is paired t test the right thing to be doing?"
   ]
  },
  {
   "cell_type": "code",
   "execution_count": 61,
   "metadata": {},
   "outputs": [],
   "source": [
    "def check_normal(before, after):\n",
    "    diff = before - after\n",
    "    diff.plot(kind='hist', title= 'Efficiency Difference')\n",
    "    plt.show()"
   ]
  },
  {
   "cell_type": "code",
   "execution_count": 62,
   "metadata": {},
   "outputs": [],
   "source": [
    "weeks = pdrop.columns\n",
    "l = len(weeks)\n",
    "for index, obj in enumerate(weeks):\n",
    "    if index < (l - 1):\n",
    "       # print(weeks[index+1])\n",
    "        this_week = pd_flat[weeks[index]]\n",
    "        next_week = pd_flat[weeks[index+1]]\n",
    "       # check_normal(this_week, next_week)"
   ]
  },
  {
   "cell_type": "markdown",
   "metadata": {},
   "source": [
    "## Wilcoxon Signed Rank Test\n",
    "### No assumptions about normality"
   ]
  },
  {
   "cell_type": "code",
   "execution_count": 63,
   "metadata": {},
   "outputs": [],
   "source": [
    "def wilcoxon_t_test(before, after, pvals):\n",
    "    ttest,pval = stats.wilcoxon(before, after)\n",
    "    #print(pval)\n",
    "    if pval<0.10:\n",
    "        print(\"reject null hypothesis\")\n",
    "    pvals.append(pval)\n",
    "    #else:\n",
    "    #    print(\"accept null hypothesis\")stats.wilcoxon(df['bp_before'], df['bp_after'])"
   ]
  },
  {
   "cell_type": "code",
   "execution_count": 64,
   "metadata": {},
   "outputs": [
    {
     "name": "stdout",
     "output_type": "stream",
     "text": [
      "2017-08-28 00:00:00\n",
      "2017-09-04 00:00:00\n",
      "2017-09-11 00:00:00\n",
      "2017-09-18 00:00:00\n",
      "reject null hypothesis\n",
      "2017-09-25 00:00:00\n",
      "reject null hypothesis\n",
      "2017-10-02 00:00:00\n",
      "2017-10-09 00:00:00\n",
      "2017-10-16 00:00:00\n",
      "reject null hypothesis\n",
      "2017-10-23 00:00:00\n",
      "reject null hypothesis\n",
      "2017-10-30 00:00:00\n",
      "reject null hypothesis\n",
      "2017-11-06 00:00:00\n",
      "2017-11-13 00:00:00\n",
      "2017-11-20 00:00:00\n",
      "2017-11-27 00:00:00\n",
      "2017-12-04 00:00:00\n",
      "2017-12-11 00:00:00\n",
      "2017-12-18 00:00:00\n",
      "2017-12-25 00:00:00\n",
      "2018-01-01 00:00:00\n",
      "2018-01-08 00:00:00\n",
      "2018-01-15 00:00:00\n",
      "reject null hypothesis\n",
      "2018-01-22 00:00:00\n",
      "2018-01-29 00:00:00\n",
      "2018-02-05 00:00:00\n",
      "2018-02-12 00:00:00\n",
      "2018-02-19 00:00:00\n",
      "2018-02-26 00:00:00\n",
      "reject null hypothesis\n",
      "2018-03-05 00:00:00\n",
      "reject null hypothesis\n",
      "2018-03-12 00:00:00\n",
      "reject null hypothesis\n",
      "2018-03-19 00:00:00\n",
      "2018-03-26 00:00:00\n",
      "2018-04-02 00:00:00\n",
      "reject null hypothesis\n",
      "2018-04-09 00:00:00\n",
      "reject null hypothesis\n",
      "2018-04-16 00:00:00\n",
      "2018-04-23 00:00:00\n",
      "2018-04-30 00:00:00\n",
      "2018-05-07 00:00:00\n"
     ]
    }
   ],
   "source": [
    "weeks = pdrop.columns\n",
    "pvals = []\n",
    "l = len(weeks)\n",
    "for index, obj in enumerate(weeks):\n",
    "    if index < (l - 1):\n",
    "        print(weeks[index+1])\n",
    "        this_week = pd_flat[weeks[index]]\n",
    "        next_week = pd_flat[weeks[index+1]]\n",
    "        wilcoxon_t_test(this_week, next_week, pvals)"
   ]
  },
  {
   "cell_type": "code",
   "execution_count": 65,
   "metadata": {},
   "outputs": [
    {
     "data": {
      "text/plain": [
       "<matplotlib.collections.PathCollection at 0x1c1c9f7f90>"
      ]
     },
     "execution_count": 65,
     "metadata": {},
     "output_type": "execute_result"
    },
    {
     "data": {
      "image/png": "[encoded data removed]",
      "text/plain": [
       "<Figure size 432x288 with 1 Axes>"
      ]
     },
     "metadata": {
      "needs_background": "light"
     },
     "output_type": "display_data"
    }
   ],
   "source": [
    "w2w = weeks[1:]\n",
    "plt.scatter(w2w, pvals)"
   ]
  },
  {
   "cell_type": "code",
   "execution_count": 66,
   "metadata": {},
   "outputs": [
    {
     "data": {
      "image/png": "[encoded data removed]",
      "text/plain": [
       "<Figure size 720x432 with 1 Axes>"
      ]
     },
     "metadata": {
      "needs_background": "light"
     },
     "output_type": "display_data"
    }
   ],
   "source": [
    "plt.figure(figsize=(10,6));\n",
    "myplot = plt.plot(w2w, pvals, marker='o', color='blue')\n",
    "plt.xticks(rotation=90);\n",
    "plt.yticks(np.arange(0, 1, 0.05));\n",
    "plt.xticks(w2w);\n",
    "plt.show()"
   ]
  },
  {
   "cell_type": "code",
   "execution_count": 67,
   "metadata": {},
   "outputs": [
    {
     "data": {
      "text/plain": [
       "<matplotlib.axes._subplots.AxesSubplot at 0x1c204f13d0>"
      ]
     },
     "execution_count": 67,
     "metadata": {},
     "output_type": "execute_result"
    },
    {
     "data": {
      "image/png": "[encoded data removed]",
      "text/plain": [
       "<Figure size 432x288 with 1 Axes>"
      ]
     },
     "metadata": {
      "needs_background": "light"
     },
     "output_type": "display_data"
    }
   ],
   "source": [
    "# Add a column: the color depends of x and y values, but you can use whatever function.\n",
    "#value=(df['x']>0.2) & (df['y']>0.4)\n",
    "#df['color']= np.where( value==True , \"#9b59b6\", \"#3498db\")\n",
    "# plot\n",
    "sns.regplot(w2w, pvals, fit_reg=False, marker='o')\n",
    "            #, scatter_kws={'facecolors':df['color']})\n",
    "#sns.plt.show()\n"
   ]
  },
  {
   "cell_type": "code",
   "execution_count": 68,
   "metadata": {},
   "outputs": [
    {
     "data": {
      "text/plain": [
       "DatetimeIndex(['2017-08-28', '2017-09-04', '2017-09-11', '2017-09-18',\n",
       "               '2017-09-25', '2017-10-02', '2017-10-09', '2017-10-16',\n",
       "               '2017-10-23', '2017-10-30', '2017-11-06', '2017-11-13',\n",
       "               '2017-11-20', '2017-11-27', '2017-12-04', '2017-12-11',\n",
       "               '2017-12-18', '2017-12-25', '2018-01-01', '2018-01-08',\n",
       "               '2018-01-15', '2018-01-22', '2018-01-29', '2018-02-05',\n",
       "               '2018-02-12', '2018-02-19', '2018-02-26', '2018-03-05',\n",
       "               '2018-03-12', '2018-03-19', '2018-03-26', '2018-04-02',\n",
       "               '2018-04-09', '2018-04-16', '2018-04-23', '2018-04-30',\n",
       "               '2018-05-07'],\n",
       "              dtype='datetime64[ns]', name='week_start', freq=None)"
      ]
     },
     "execution_count": 68,
     "metadata": {},
     "output_type": "execute_result"
    }
   ],
   "source": [
    "w2w"
   ]
  },
  {
   "cell_type": "code",
   "execution_count": 69,
   "metadata": {},
   "outputs": [],
   "source": [
    "types = ['2nd Week Back'\n",
    "         , 'Normal'\n",
    "         , 'Normal'\n",
    "         , 'Normal'\n",
    "         , 'Normal'\n",
    "         , 'Normal'\n",
    "         , 'Pre-Exams'\n",
    "         , 'Exams'\n",
    "         , 'Break'\n",
    "         ,'Back from Break'\n",
    "         , '2nd Week Back'\n",
    "         , 'Normal'\n",
    "         , 'Normal'\n",
    "         , 'Break'\n",
    "         , 'Back from Break'\n",
    "         , 'Pre-Exams'\n",
    "         , 'Exams'\n",
    "         , 'Break'\n",
    "         , 'Break'\n",
    "         , 'Break'\n",
    "         , 'Break'\n",
    "         , 'Back from Break'\n",
    "         , '2nd Week Back'\n",
    "         , 'Normal'\n",
    "         , 'Normal'\n",
    "         , 'Normal'\n",
    "         , 'Pre-Exams'\n",
    "         , 'Exams'\n",
    "         , 'Break'\n",
    "         , 'Back from Break'\n",
    "         , '2nd Week Back'\n",
    "         , 'Back from Break'\n",
    "         , '2nd Week Back'\n",
    "         , 'Normal'\n",
    "         , 'Normal'\n",
    "         , 'Pre-Exams'\n",
    "         , 'Exams'\n",
    "        ]\n"
   ]
  },
  {
   "cell_type": "code",
   "execution_count": 70,
   "metadata": {},
   "outputs": [
    {
     "data": {
      "text/plain": [
       "Index(['2017-08-28', '2017-09-04', '2017-09-11', '2017-09-18', '2017-09-25',\n",
       "       '2017-10-02', '2017-10-09', '2017-10-16', '2017-10-23', '2017-10-30',\n",
       "       '2017-11-06', '2017-11-13', '2017-11-20', '2017-11-27', '2017-12-04',\n",
       "       '2017-12-11', '2017-12-18', '2017-12-25', '2018-01-01', '2018-01-08',\n",
       "       '2018-01-15', '2018-01-22', '2018-01-29', '2018-02-05', '2018-02-12',\n",
       "       '2018-02-19', '2018-02-26', '2018-03-05', '2018-03-12', '2018-03-19',\n",
       "       '2018-03-26', '2018-04-02', '2018-04-09', '2018-04-16', '2018-04-23',\n",
       "       '2018-04-30', '2018-05-07'],\n",
       "      dtype='object', name='week_start')"
      ]
     },
     "execution_count": 70,
     "metadata": {},
     "output_type": "execute_result"
    }
   ],
   "source": [
    "w = w2w.map(lambda x: str(x)[0:10])\n",
    "w"
   ]
  },
  {
   "cell_type": "code",
   "execution_count": 71,
   "metadata": {},
   "outputs": [
    {
     "data": {
      "text/html": [
       "<div>\n",
       "<style scoped>\n",
       "    .dataframe tbody tr th:only-of-type {\n",
       "        vertical-align: middle;\n",
       "    }\n",
       "\n",
       "    .dataframe tbody tr th {\n",
       "        vertical-align: top;\n",
       "    }\n",
       "\n",
       "    .dataframe thead th {\n",
       "        text-align: right;\n",
       "    }\n",
       "</style>\n",
       "<table border=\"1\" class=\"dataframe\">\n",
       "  <thead>\n",
       "    <tr style=\"text-align: right;\">\n",
       "      <th></th>\n",
       "      <th>0</th>\n",
       "      <th>1</th>\n",
       "      <th>2</th>\n",
       "      <th>3</th>\n",
       "      <th>4</th>\n",
       "      <th>5</th>\n",
       "      <th>6</th>\n",
       "      <th>7</th>\n",
       "      <th>8</th>\n",
       "      <th>9</th>\n",
       "      <th>...</th>\n",
       "      <th>27</th>\n",
       "      <th>28</th>\n",
       "      <th>29</th>\n",
       "      <th>30</th>\n",
       "      <th>31</th>\n",
       "      <th>32</th>\n",
       "      <th>33</th>\n",
       "      <th>34</th>\n",
       "      <th>35</th>\n",
       "      <th>36</th>\n",
       "    </tr>\n",
       "  </thead>\n",
       "  <tbody>\n",
       "    <tr>\n",
       "      <td>0</td>\n",
       "      <td>2017-08-28</td>\n",
       "      <td>2017-09-04</td>\n",
       "      <td>2017-09-11</td>\n",
       "      <td>2017-09-18</td>\n",
       "      <td>2017-09-25</td>\n",
       "      <td>2017-10-02</td>\n",
       "      <td>2017-10-09</td>\n",
       "      <td>2017-10-16</td>\n",
       "      <td>2017-10-23</td>\n",
       "      <td>2017-10-30</td>\n",
       "      <td>...</td>\n",
       "      <td>2018-03-05</td>\n",
       "      <td>2018-03-12</td>\n",
       "      <td>2018-03-19</td>\n",
       "      <td>2018-03-26</td>\n",
       "      <td>2018-04-02</td>\n",
       "      <td>2018-04-09</td>\n",
       "      <td>2018-04-16</td>\n",
       "      <td>2018-04-23</td>\n",
       "      <td>2018-04-30</td>\n",
       "      <td>2018-05-07</td>\n",
       "    </tr>\n",
       "    <tr>\n",
       "      <td>1</td>\n",
       "      <td>2nd Week Back</td>\n",
       "      <td>Normal</td>\n",
       "      <td>Normal</td>\n",
       "      <td>Normal</td>\n",
       "      <td>Normal</td>\n",
       "      <td>Normal</td>\n",
       "      <td>Pre-Exams</td>\n",
       "      <td>Exams</td>\n",
       "      <td>Break</td>\n",
       "      <td>Back from Break</td>\n",
       "      <td>...</td>\n",
       "      <td>Exams</td>\n",
       "      <td>Break</td>\n",
       "      <td>Back from Break</td>\n",
       "      <td>2nd Week Back</td>\n",
       "      <td>Back from Break</td>\n",
       "      <td>2nd Week Back</td>\n",
       "      <td>Normal</td>\n",
       "      <td>Normal</td>\n",
       "      <td>Pre-Exams</td>\n",
       "      <td>Exams</td>\n",
       "    </tr>\n",
       "  </tbody>\n",
       "</table>\n",
       "<p>2 rows × 37 columns</p>\n",
       "</div>"
      ],
      "text/plain": [
       "              0           1           2           3           4           5   \\\n",
       "0     2017-08-28  2017-09-04  2017-09-11  2017-09-18  2017-09-25  2017-10-02   \n",
       "1  2nd Week Back      Normal      Normal      Normal      Normal      Normal   \n",
       "\n",
       "           6           7           8                9   ...          27  \\\n",
       "0  2017-10-09  2017-10-16  2017-10-23       2017-10-30  ...  2018-03-05   \n",
       "1   Pre-Exams       Exams       Break  Back from Break  ...       Exams   \n",
       "\n",
       "           28               29             30               31             32  \\\n",
       "0  2018-03-12       2018-03-19     2018-03-26       2018-04-02     2018-04-09   \n",
       "1       Break  Back from Break  2nd Week Back  Back from Break  2nd Week Back   \n",
       "\n",
       "           33          34          35          36  \n",
       "0  2018-04-16  2018-04-23  2018-04-30  2018-05-07  \n",
       "1      Normal      Normal   Pre-Exams       Exams  \n",
       "\n",
       "[2 rows x 37 columns]"
      ]
     },
     "execution_count": 71,
     "metadata": {},
     "output_type": "execute_result"
    }
   ],
   "source": [
    "df_type = pd.DataFrame([w, types])\n",
    "df_type"
   ]
  },
  {
   "cell_type": "code",
   "execution_count": 72,
   "metadata": {
    "scrolled": false
   },
   "outputs": [
    {
     "data": {
      "image/png": "[encoded data removed]",
      "text/plain": [
       "<Figure size 720x360 with 1 Axes>"
      ]
     },
     "metadata": {
      "needs_background": "light"
     },
     "output_type": "display_data"
    }
   ],
   "source": [
    "plt.figure(figsize=(10,5));\n",
    "g = sns.swarmplot(x=w, y=pvals, hue=types, size = 10, palette= 'bright');\n",
    "g.legend(loc='center left', bbox_to_anchor=(1.25, 0.5), ncol=1);\n",
    "plt.xticks(rotation=90);\n",
    "plt.yticks(np.arange(0, 1, 0.05));\n",
    "plt.axhline(y=.1, xmin=0, xmax=1, color='black', linestyle='--');\n",
    "plt.axhline(y=.05, xmin=0, xmax=1, color='black', linestyle='--');\n",
    "plt.xlabel('Week', fontsize=14);\n",
    "plt.ylabel('P-Value', fontsize=14);\n",
    "plt.title('Significance of Change in Efficiency Week to Week (17/18)', fontsize=18, fontweight='bold');"
   ]
  },
  {
   "cell_type": "code",
   "execution_count": 33,
   "metadata": {},
   "outputs": [],
   "source": [
    "def compareMean(weekData, pvals):\n",
    "    tset, pval = ttest_1samp(weekData, pd_flat.mean().mean())\n",
    "    pvals.append(pval)\n",
    "    print(pval)\n",
    "    if pval < 0.10:    # alpha value is 0.05 or 5%\n",
    "        print(\" we are rejecting null hypothesis\")\n",
    "    #else:\n",
    "        #print(\"we are accepting null hypothesis\")"
   ]
  },
  {
   "cell_type": "code",
   "execution_count": 34,
   "metadata": {},
   "outputs": [
    {
     "name": "stdout",
     "output_type": "stream",
     "text": [
      "2017-08-21 00:00:00\n",
      "0.3261571686159852\n",
      "2017-08-28 00:00:00\n",
      "0.3967990725743381\n",
      "2017-09-04 00:00:00\n",
      "0.7437301448094791\n",
      "2017-09-11 00:00:00\n",
      "0.5367146626328669\n",
      "2017-09-18 00:00:00\n",
      "0.16104741877000378\n",
      "2017-09-25 00:00:00\n",
      "0.8194684202208204\n",
      "2017-10-02 00:00:00\n",
      "0.5142225261567481\n",
      "2017-10-09 00:00:00\n",
      "0.7676242436870807\n",
      "2017-10-16 00:00:00\n",
      "0.06658029181171543\n",
      " we are rejecting null hypothesis\n",
      "2017-10-23 00:00:00\n",
      "0.6361213708708567\n",
      "2017-10-30 00:00:00\n",
      "0.5479899043795222\n",
      "2017-11-06 00:00:00\n",
      "0.9221970904877126\n",
      "2017-11-13 00:00:00\n",
      "0.7030304034751114\n",
      "2017-11-20 00:00:00\n",
      "0.632525356610985\n",
      "2017-11-27 00:00:00\n",
      "0.43008449768293444\n",
      "2017-12-04 00:00:00\n",
      "0.6827643872769541\n",
      "2017-12-11 00:00:00\n",
      "0.9746327675937284\n",
      "2017-12-18 00:00:00\n",
      "0.9303532039010795\n",
      "2017-12-25 00:00:00\n",
      "0.43332662683835355\n",
      "2018-01-01 00:00:00\n",
      "0.8713620807002463\n",
      "2018-01-08 00:00:00\n",
      "0.5537811077757196\n",
      "2018-01-15 00:00:00\n",
      "0.14005087535050476\n",
      "2018-01-22 00:00:00\n",
      "0.08892011385904347\n",
      " we are rejecting null hypothesis\n",
      "2018-01-29 00:00:00\n",
      "0.07594235986531762\n",
      " we are rejecting null hypothesis\n",
      "2018-02-05 00:00:00\n",
      "0.0637999344960495\n",
      " we are rejecting null hypothesis\n",
      "2018-02-12 00:00:00\n",
      "0.33193927394208833\n",
      "2018-02-19 00:00:00\n",
      "0.3843163310775669\n",
      "2018-02-26 00:00:00\n",
      "0.07246344105514134\n",
      " we are rejecting null hypothesis\n",
      "2018-03-05 00:00:00\n",
      "0.59336344567954\n",
      "2018-03-12 00:00:00\n",
      "0.3160473569471002\n",
      "2018-03-19 00:00:00\n",
      "0.9216457230213999\n",
      "2018-03-26 00:00:00\n",
      "0.4118436900714728\n",
      "2018-04-02 00:00:00\n",
      "0.07893136502104141\n",
      " we are rejecting null hypothesis\n",
      "2018-04-09 00:00:00\n",
      "0.8775826916633183\n",
      "2018-04-16 00:00:00\n",
      "0.9349274895262185\n",
      "2018-04-23 00:00:00\n",
      "0.9239427860550459\n",
      "2018-04-30 00:00:00\n",
      "0.5771761641258195\n",
      "2018-05-07 00:00:00\n",
      "0.4013556595125388\n"
     ]
    }
   ],
   "source": [
    "weeks = pdrop.columns\n",
    "pvals = []\n",
    "for w in weeks:\n",
    "    print(w)\n",
    "    this_week = pd_flat[w]\n",
    "    compareMean(this_week, pvals)"
   ]
  },
  {
   "cell_type": "code",
   "execution_count": 35,
   "metadata": {},
   "outputs": [],
   "source": [
    "ww = [str(x)[0:10] for x in weeks]"
   ]
  },
  {
   "cell_type": "code",
   "execution_count": 77,
   "metadata": {
    "scrolled": false
   },
   "outputs": [
    {
     "data": {
      "image/png": "[encoded data removed]",
      "text/plain": [
       "<Figure size 720x360 with 1 Axes>"
      ]
     },
     "metadata": {
      "needs_background": "light"
     },
     "output_type": "display_data"
    }
   ],
   "source": [
    "plt.figure(figsize=(10,5));\n",
    "g = sns.swarmplot(x=np.arange(1, 38), y=pd_flat.mean()[1:], hue=types, size = 10, palette= 'bright');\n",
    "\n",
    "plt.xlim(-2, 37);\n",
    "plt.scatter(-1, pd_flat.mean()[0], marker='o', s=80, color='brown');\n",
    "plt.xticks(range(-1, len(ww)-1),ww, fontsize=12);\n",
    "plt.xticks(rotation=90);\n",
    "plt.yticks(fontsize=12)\n",
    "#plt.yticks(np.arange(0, 1, 0.05));\n",
    "plt.axhline(y= pd_flat.mean().mean(), xmin=0, xmax=1, color='black', linestyle='--', label=\"Yearlong Average\");\n",
    "g.legend(loc='center left', bbox_to_anchor=(1.25, 0.5), ncol=1, fontsize=12);\n",
    "plt.xlabel('Week', fontsize=14);\n",
    "plt.ylabel('Avg Efficiency', fontsize=14);\n",
    "plt.title('Change in Efficiency Compared to Yearly Average (17/18)', fontsize=18, fontweight='bold');\n",
    "plt.savefig('Figure5c', dpi=300, bbox_inches=\"tight\");"
   ]
  },
  {
   "cell_type": "code",
   "execution_count": null,
   "metadata": {},
   "outputs": [],
   "source": []
  }
 ],
 "metadata": {
  "kernelspec": {
   "display_name": "Python 3",
   "language": "python",
   "name": "python3"
  },
  "language_info": {
   "codemirror_mode": {
    "name": "ipython",
    "version": 3
   },
   "file_extension": ".py",
   "mimetype": "text/x-python",
   "name": "python",
   "nbconvert_exporter": "python",
   "pygments_lexer": "ipython3",
   "version": "3.7.4"
  }
 },
 "nbformat": 4,
 "nbformat_minor": 2
}
