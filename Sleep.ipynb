{
 "cells": [
  {
   "cell_type": "code",
   "execution_count": 2,
   "metadata": {},
   "outputs": [],
   "source": [
    "import pandas as pd\n",
    "import matplotlib\n",
    "import numpy as np\n",
    "import datetime "
   ]
  },
  {
   "cell_type": "code",
   "execution_count": 3,
   "metadata": {},
   "outputs": [
    {
     "data": {
      "text/html": [
       "<div>\n",
       "<style scoped>\n",
       "    .dataframe tbody tr th:only-of-type {\n",
       "        vertical-align: middle;\n",
       "    }\n",
       "\n",
       "    .dataframe tbody tr th {\n",
       "        vertical-align: top;\n",
       "    }\n",
       "\n",
       "    .dataframe thead th {\n",
       "        text-align: right;\n",
       "    }\n",
       "</style>\n",
       "<table border=\"1\" class=\"dataframe\">\n",
       "  <thead>\n",
       "    <tr style=\"text-align: right;\">\n",
       "      <th></th>\n",
       "      <th>idSleepMeta</th>\n",
       "      <th>studyID_sleep</th>\n",
       "      <th>startTime</th>\n",
       "      <th>isMainSleep</th>\n",
       "      <th>minToFallAsleep</th>\n",
       "      <th>numAwakeTimes</th>\n",
       "      <th>minsAwake</th>\n",
       "      <th>timeInBed</th>\n",
       "      <th>minsAsleep</th>\n",
       "      <th>awakeDuration</th>\n",
       "      <th>efficiency</th>\n",
       "      <th>restlessCount</th>\n",
       "      <th>durationMS</th>\n",
       "      <th>restlessDuration</th>\n",
       "      <th>awakeCount</th>\n",
       "      <th>minutesAfterWakeup</th>\n",
       "    </tr>\n",
       "  </thead>\n",
       "  <tbody>\n",
       "    <tr>\n",
       "      <td>0</td>\n",
       "      <td>6</td>\n",
       "      <td>5</td>\n",
       "      <td>23:55:00</td>\n",
       "      <td>1</td>\n",
       "      <td>6</td>\n",
       "      <td>16</td>\n",
       "      <td>27</td>\n",
       "      <td>409</td>\n",
       "      <td>376</td>\n",
       "      <td>2</td>\n",
       "      <td>93</td>\n",
       "      <td>14</td>\n",
       "      <td>24540000</td>\n",
       "      <td>31</td>\n",
       "      <td>2</td>\n",
       "      <td>0</td>\n",
       "    </tr>\n",
       "    <tr>\n",
       "      <td>1</td>\n",
       "      <td>7</td>\n",
       "      <td>6</td>\n",
       "      <td>00:57:30</td>\n",
       "      <td>1</td>\n",
       "      <td>0</td>\n",
       "      <td>13</td>\n",
       "      <td>22</td>\n",
       "      <td>320</td>\n",
       "      <td>294</td>\n",
       "      <td>4</td>\n",
       "      <td>93</td>\n",
       "      <td>11</td>\n",
       "      <td>19200000</td>\n",
       "      <td>22</td>\n",
       "      <td>2</td>\n",
       "      <td>0</td>\n",
       "    </tr>\n",
       "    <tr>\n",
       "      <td>2</td>\n",
       "      <td>8</td>\n",
       "      <td>7</td>\n",
       "      <td>23:04:00</td>\n",
       "      <td>1</td>\n",
       "      <td>0</td>\n",
       "      <td>15</td>\n",
       "      <td>30</td>\n",
       "      <td>314</td>\n",
       "      <td>282</td>\n",
       "      <td>0</td>\n",
       "      <td>90</td>\n",
       "      <td>15</td>\n",
       "      <td>18840000</td>\n",
       "      <td>32</td>\n",
       "      <td>0</td>\n",
       "      <td>0</td>\n",
       "    </tr>\n",
       "    <tr>\n",
       "      <td>3</td>\n",
       "      <td>9</td>\n",
       "      <td>7</td>\n",
       "      <td>04:19:00</td>\n",
       "      <td>0</td>\n",
       "      <td>0</td>\n",
       "      <td>5</td>\n",
       "      <td>5</td>\n",
       "      <td>144</td>\n",
       "      <td>133</td>\n",
       "      <td>0</td>\n",
       "      <td>96</td>\n",
       "      <td>5</td>\n",
       "      <td>8640000</td>\n",
       "      <td>6</td>\n",
       "      <td>0</td>\n",
       "      <td>0</td>\n",
       "    </tr>\n",
       "    <tr>\n",
       "      <td>4</td>\n",
       "      <td>10</td>\n",
       "      <td>8</td>\n",
       "      <td>00:25:00</td>\n",
       "      <td>1</td>\n",
       "      <td>0</td>\n",
       "      <td>15</td>\n",
       "      <td>26</td>\n",
       "      <td>417</td>\n",
       "      <td>387</td>\n",
       "      <td>1</td>\n",
       "      <td>94</td>\n",
       "      <td>14</td>\n",
       "      <td>25020000</td>\n",
       "      <td>29</td>\n",
       "      <td>1</td>\n",
       "      <td>0</td>\n",
       "    </tr>\n",
       "    <tr>\n",
       "      <td>...</td>\n",
       "      <td>...</td>\n",
       "      <td>...</td>\n",
       "      <td>...</td>\n",
       "      <td>...</td>\n",
       "      <td>...</td>\n",
       "      <td>...</td>\n",
       "      <td>...</td>\n",
       "      <td>...</td>\n",
       "      <td>...</td>\n",
       "      <td>...</td>\n",
       "      <td>...</td>\n",
       "      <td>...</td>\n",
       "      <td>...</td>\n",
       "      <td>...</td>\n",
       "      <td>...</td>\n",
       "      <td>...</td>\n",
       "    </tr>\n",
       "    <tr>\n",
       "      <td>337654</td>\n",
       "      <td>338831</td>\n",
       "      <td>474038</td>\n",
       "      <td>04:56:30</td>\n",
       "      <td>1</td>\n",
       "      <td>0</td>\n",
       "      <td>19</td>\n",
       "      <td>37</td>\n",
       "      <td>415</td>\n",
       "      <td>378</td>\n",
       "      <td>4</td>\n",
       "      <td>91</td>\n",
       "      <td>16</td>\n",
       "      <td>24900000</td>\n",
       "      <td>33</td>\n",
       "      <td>3</td>\n",
       "      <td>0</td>\n",
       "    </tr>\n",
       "    <tr>\n",
       "      <td>337655</td>\n",
       "      <td>338832</td>\n",
       "      <td>474039</td>\n",
       "      <td>02:31:00</td>\n",
       "      <td>1</td>\n",
       "      <td>0</td>\n",
       "      <td>13</td>\n",
       "      <td>23</td>\n",
       "      <td>344</td>\n",
       "      <td>316</td>\n",
       "      <td>5</td>\n",
       "      <td>93</td>\n",
       "      <td>10</td>\n",
       "      <td>20640000</td>\n",
       "      <td>23</td>\n",
       "      <td>3</td>\n",
       "      <td>5</td>\n",
       "    </tr>\n",
       "    <tr>\n",
       "      <td>337656</td>\n",
       "      <td>338833</td>\n",
       "      <td>474040</td>\n",
       "      <td>23:58:00</td>\n",
       "      <td>1</td>\n",
       "      <td>0</td>\n",
       "      <td>9</td>\n",
       "      <td>31</td>\n",
       "      <td>340</td>\n",
       "      <td>309</td>\n",
       "      <td>1</td>\n",
       "      <td>91</td>\n",
       "      <td>8</td>\n",
       "      <td>20400000</td>\n",
       "      <td>30</td>\n",
       "      <td>1</td>\n",
       "      <td>0</td>\n",
       "    </tr>\n",
       "    <tr>\n",
       "      <td>337657</td>\n",
       "      <td>338834</td>\n",
       "      <td>474041</td>\n",
       "      <td>03:52:30</td>\n",
       "      <td>1</td>\n",
       "      <td>0</td>\n",
       "      <td>10</td>\n",
       "      <td>16</td>\n",
       "      <td>442</td>\n",
       "      <td>426</td>\n",
       "      <td>1</td>\n",
       "      <td>96</td>\n",
       "      <td>9</td>\n",
       "      <td>26520000</td>\n",
       "      <td>15</td>\n",
       "      <td>1</td>\n",
       "      <td>0</td>\n",
       "    </tr>\n",
       "    <tr>\n",
       "      <td>337658</td>\n",
       "      <td>338835</td>\n",
       "      <td>474060</td>\n",
       "      <td>02:03:30</td>\n",
       "      <td>1</td>\n",
       "      <td>0</td>\n",
       "      <td>6</td>\n",
       "      <td>8</td>\n",
       "      <td>445</td>\n",
       "      <td>433</td>\n",
       "      <td>0</td>\n",
       "      <td>98</td>\n",
       "      <td>6</td>\n",
       "      <td>26700000</td>\n",
       "      <td>12</td>\n",
       "      <td>0</td>\n",
       "      <td>4</td>\n",
       "    </tr>\n",
       "  </tbody>\n",
       "</table>\n",
       "<p>337659 rows × 16 columns</p>\n",
       "</div>"
      ],
      "text/plain": [
       "        idSleepMeta  studyID_sleep startTime  isMainSleep  minToFallAsleep  \\\n",
       "0                 6              5  23:55:00            1                6   \n",
       "1                 7              6  00:57:30            1                0   \n",
       "2                 8              7  23:04:00            1                0   \n",
       "3                 9              7  04:19:00            0                0   \n",
       "4                10              8  00:25:00            1                0   \n",
       "...             ...            ...       ...          ...              ...   \n",
       "337654       338831         474038  04:56:30            1                0   \n",
       "337655       338832         474039  02:31:00            1                0   \n",
       "337656       338833         474040  23:58:00            1                0   \n",
       "337657       338834         474041  03:52:30            1                0   \n",
       "337658       338835         474060  02:03:30            1                0   \n",
       "\n",
       "        numAwakeTimes  minsAwake  timeInBed  minsAsleep  awakeDuration  \\\n",
       "0                  16         27        409         376              2   \n",
       "1                  13         22        320         294              4   \n",
       "2                  15         30        314         282              0   \n",
       "3                   5          5        144         133              0   \n",
       "4                  15         26        417         387              1   \n",
       "...               ...        ...        ...         ...            ...   \n",
       "337654             19         37        415         378              4   \n",
       "337655             13         23        344         316              5   \n",
       "337656              9         31        340         309              1   \n",
       "337657             10         16        442         426              1   \n",
       "337658              6          8        445         433              0   \n",
       "\n",
       "        efficiency  restlessCount  durationMS  restlessDuration  awakeCount  \\\n",
       "0               93             14    24540000                31           2   \n",
       "1               93             11    19200000                22           2   \n",
       "2               90             15    18840000                32           0   \n",
       "3               96              5     8640000                 6           0   \n",
       "4               94             14    25020000                29           1   \n",
       "...            ...            ...         ...               ...         ...   \n",
       "337654          91             16    24900000                33           3   \n",
       "337655          93             10    20640000                23           3   \n",
       "337656          91              8    20400000                30           1   \n",
       "337657          96              9    26520000                15           1   \n",
       "337658          98              6    26700000                12           0   \n",
       "\n",
       "        minutesAfterWakeup  \n",
       "0                        0  \n",
       "1                        0  \n",
       "2                        0  \n",
       "3                        0  \n",
       "4                        0  \n",
       "...                    ...  \n",
       "337654                   0  \n",
       "337655                   5  \n",
       "337656                   0  \n",
       "337657                   0  \n",
       "337658                   4  \n",
       "\n",
       "[337659 rows x 16 columns]"
      ]
     },
     "execution_count": 3,
     "metadata": {},
     "output_type": "execute_result"
    }
   ],
   "source": [
    "sleep = pd.read_csv('sleepmeta.csv')\n",
    "sleep"
   ]
  },
  {
   "cell_type": "code",
   "execution_count": 4,
   "metadata": {},
   "outputs": [
    {
     "data": {
      "text/plain": [
       "6.275421949363115"
      ]
     },
     "execution_count": 4,
     "metadata": {},
     "output_type": "execute_result"
    }
   ],
   "source": [
    "# avg hours slept\n",
    "sleep['minsAsleep'].mean()/60"
   ]
  },
  {
   "cell_type": "code",
   "execution_count": 5,
   "metadata": {},
   "outputs": [
    {
     "data": {
      "text/plain": [
       "6.748502680712395"
      ]
     },
     "execution_count": 5,
     "metadata": {},
     "output_type": "execute_result"
    }
   ],
   "source": [
    "# avg hours in bed\n",
    "sleep['timeInBed'].mean()/60"
   ]
  },
  {
   "cell_type": "code",
   "execution_count": 6,
   "metadata": {},
   "outputs": [
    {
     "data": {
      "text/plain": [
       "minToFallAsleep         0.224288\n",
       "numAwakeTimes          13.684525\n",
       "minsAwake              26.762814\n",
       "timeInBed             404.910161\n",
       "minsAsleep            376.525317\n",
       "awakeDuration           2.690715\n",
       "efficiency             93.232883\n",
       "restlessCount          12.482022\n",
       "restlessDuration       25.623457\n",
       "awakeCount              1.202503\n",
       "minutesAfterWakeup      0.963647\n",
       "dtype: float64"
      ]
     },
     "execution_count": 6,
     "metadata": {},
     "output_type": "execute_result"
    }
   ],
   "source": [
    "sleep[['minToFallAsleep', 'numAwakeTimes','minsAwake','timeInBed','minsAsleep','awakeDuration','efficiency','restlessCount','restlessDuration','awakeCount','minutesAfterWakeup']].mean()"
   ]
  },
  {
   "cell_type": "code",
   "execution_count": 7,
   "metadata": {},
   "outputs": [
    {
     "data": {
      "text/plain": [
       "<matplotlib.axes._subplots.AxesSubplot at 0x1144f8d50>"
      ]
     },
     "execution_count": 7,
     "metadata": {},
     "output_type": "execute_result"
    }
   ],
   "source": [
    "sleep['minutesAfterWakeup'].hist(bins = 10)"
   ]
  },
  {
   "cell_type": "code",
   "execution_count": 8,
   "metadata": {},
   "outputs": [],
   "source": [
    "minAfterWakeup = sleep['minutesAfterWakeup']\n",
    "maw = sleep.groupby('minutesAfterWakeup', as_index=False).count()\n",
    "maw = maw[maw['idSleepMeta'] > 10]['minutesAfterWakeup']\n",
    "sleep1 = sleep[sleep['minutesAfterWakeup'].isin(maw)]"
   ]
  },
  {
   "cell_type": "code",
   "execution_count": 9,
   "metadata": {},
   "outputs": [
    {
     "data": {
      "text/plain": [
       "count    337461.000000\n",
       "mean          0.919283\n",
       "std           2.815781\n",
       "min           0.000000\n",
       "25%           0.000000\n",
       "50%           0.000000\n",
       "75%           1.000000\n",
       "max          62.000000\n",
       "Name: minutesAfterWakeup, dtype: float64"
      ]
     },
     "execution_count": 9,
     "metadata": {},
     "output_type": "execute_result"
    }
   ],
   "source": [
    "sleep1['minutesAfterWakeup'].describe()"
   ]
  },
  {
   "cell_type": "code",
   "execution_count": 10,
   "metadata": {},
   "outputs": [],
   "source": [
    "t = []\n",
    "for time in sleep['startTime']:\n",
    "    hr = int(time.split(':')[0])\n",
    "    if hr > 12:\n",
    "        hr = hr - 24\n",
    "    m = int(time.split(':')[1])\n",
    "    s = int(time.split(':')[2])\n",
    "    t.append(hr + m/60 + s/3600)"
   ]
  },
  {
   "cell_type": "code",
   "execution_count": 11,
   "metadata": {},
   "outputs": [
    {
     "data": {
      "text/plain": [
       "1.0872810891395688"
      ]
     },
     "execution_count": 11,
     "metadata": {},
     "output_type": "execute_result"
    }
   ],
   "source": [
    "np.mean(t)"
   ]
  },
  {
   "cell_type": "code",
   "execution_count": 12,
   "metadata": {},
   "outputs": [
    {
     "data": {
      "text/plain": [
       "5.236865348374128"
      ]
     },
     "execution_count": 12,
     "metadata": {},
     "output_type": "execute_result"
    }
   ],
   "source": [
    ".0872810891395688*60"
   ]
  },
  {
   "cell_type": "code",
   "execution_count": 13,
   "metadata": {},
   "outputs": [
    {
     "data": {
      "text/plain": [
       "14.21192090244768"
      ]
     },
     "execution_count": 13,
     "metadata": {},
     "output_type": "execute_result"
    }
   ],
   "source": [
    "0.236865348374128*60"
   ]
  },
  {
   "cell_type": "code",
   "execution_count": 14,
   "metadata": {},
   "outputs": [],
   "source": [
    "# average bedtime is 1:05:14"
   ]
  },
  {
   "cell_type": "code",
   "execution_count": 15,
   "metadata": {},
   "outputs": [
    {
     "data": {
      "text/html": [
       "<div>\n",
       "<style scoped>\n",
       "    .dataframe tbody tr th:only-of-type {\n",
       "        vertical-align: middle;\n",
       "    }\n",
       "\n",
       "    .dataframe tbody tr th {\n",
       "        vertical-align: top;\n",
       "    }\n",
       "\n",
       "    .dataframe thead th {\n",
       "        text-align: right;\n",
       "    }\n",
       "</style>\n",
       "<table border=\"1\" class=\"dataframe\">\n",
       "  <thead>\n",
       "    <tr style=\"text-align: right;\">\n",
       "      <th></th>\n",
       "      <th>participID</th>\n",
       "      <th>dataDate</th>\n",
       "      <th>complyPercent</th>\n",
       "      <th>idSleepMeta</th>\n",
       "      <th>startTime</th>\n",
       "      <th>isMainSleep</th>\n",
       "      <th>minToFallAsleep</th>\n",
       "      <th>minsAwake</th>\n",
       "      <th>timeInBed</th>\n",
       "      <th>minsAsleep</th>\n",
       "      <th>efficiency</th>\n",
       "      <th>restlessDuration</th>\n",
       "      <th>durationMS</th>\n",
       "      <th>minutesAfterWakeup</th>\n",
       "    </tr>\n",
       "  </thead>\n",
       "  <tbody>\n",
       "    <tr>\n",
       "      <td>0</td>\n",
       "      <td>3LZJFK</td>\n",
       "      <td>2015-07-27</td>\n",
       "      <td>98</td>\n",
       "      <td>6</td>\n",
       "      <td>23:55:00</td>\n",
       "      <td>1</td>\n",
       "      <td>6</td>\n",
       "      <td>27</td>\n",
       "      <td>409</td>\n",
       "      <td>376</td>\n",
       "      <td>93</td>\n",
       "      <td>31</td>\n",
       "      <td>24540000</td>\n",
       "      <td>0</td>\n",
       "    </tr>\n",
       "    <tr>\n",
       "      <td>1</td>\n",
       "      <td>3LZJFK</td>\n",
       "      <td>2015-07-28</td>\n",
       "      <td>95</td>\n",
       "      <td>7</td>\n",
       "      <td>00:57:30</td>\n",
       "      <td>1</td>\n",
       "      <td>0</td>\n",
       "      <td>22</td>\n",
       "      <td>320</td>\n",
       "      <td>294</td>\n",
       "      <td>93</td>\n",
       "      <td>22</td>\n",
       "      <td>19200000</td>\n",
       "      <td>0</td>\n",
       "    </tr>\n",
       "    <tr>\n",
       "      <td>2</td>\n",
       "      <td>3LZJFK</td>\n",
       "      <td>2015-07-29</td>\n",
       "      <td>99</td>\n",
       "      <td>8</td>\n",
       "      <td>23:04:00</td>\n",
       "      <td>1</td>\n",
       "      <td>0</td>\n",
       "      <td>30</td>\n",
       "      <td>314</td>\n",
       "      <td>282</td>\n",
       "      <td>90</td>\n",
       "      <td>32</td>\n",
       "      <td>18840000</td>\n",
       "      <td>0</td>\n",
       "    </tr>\n",
       "    <tr>\n",
       "      <td>3</td>\n",
       "      <td>3LZJFK</td>\n",
       "      <td>2015-07-29</td>\n",
       "      <td>99</td>\n",
       "      <td>9</td>\n",
       "      <td>04:19:00</td>\n",
       "      <td>0</td>\n",
       "      <td>0</td>\n",
       "      <td>5</td>\n",
       "      <td>144</td>\n",
       "      <td>133</td>\n",
       "      <td>96</td>\n",
       "      <td>6</td>\n",
       "      <td>8640000</td>\n",
       "      <td>0</td>\n",
       "    </tr>\n",
       "    <tr>\n",
       "      <td>4</td>\n",
       "      <td>3LZJFK</td>\n",
       "      <td>2015-07-30</td>\n",
       "      <td>89</td>\n",
       "      <td>10</td>\n",
       "      <td>00:25:00</td>\n",
       "      <td>1</td>\n",
       "      <td>0</td>\n",
       "      <td>26</td>\n",
       "      <td>417</td>\n",
       "      <td>387</td>\n",
       "      <td>94</td>\n",
       "      <td>29</td>\n",
       "      <td>25020000</td>\n",
       "      <td>0</td>\n",
       "    </tr>\n",
       "  </tbody>\n",
       "</table>\n",
       "</div>"
      ],
      "text/plain": [
       "  participID    dataDate  complyPercent  idSleepMeta startTime  isMainSleep  \\\n",
       "0     3LZJFK  2015-07-27             98            6  23:55:00            1   \n",
       "1     3LZJFK  2015-07-28             95            7  00:57:30            1   \n",
       "2     3LZJFK  2015-07-29             99            8  23:04:00            1   \n",
       "3     3LZJFK  2015-07-29             99            9  04:19:00            0   \n",
       "4     3LZJFK  2015-07-30             89           10  00:25:00            1   \n",
       "\n",
       "   minToFallAsleep  minsAwake  timeInBed  minsAsleep  efficiency  \\\n",
       "0                6         27        409         376          93   \n",
       "1                0         22        320         294          93   \n",
       "2                0         30        314         282          90   \n",
       "3                0          5        144         133          96   \n",
       "4                0         26        417         387          94   \n",
       "\n",
       "   restlessDuration  durationMS  minutesAfterWakeup  \n",
       "0                31    24540000                   0  \n",
       "1                22    19200000                   0  \n",
       "2                32    18840000                   0  \n",
       "3                 6     8640000                   0  \n",
       "4                29    25020000                   0  "
      ]
     },
     "execution_count": 15,
     "metadata": {},
     "output_type": "execute_result"
    }
   ],
   "source": [
    "a = pd.read_csv(\"sleep_data_full.csv\")\n",
    "a.head()"
   ]
  },
  {
   "cell_type": "code",
   "execution_count": 16,
   "metadata": {},
   "outputs": [],
   "source": [
    "a['weekdayName'] = pd.to_datetime(a['dataDate']).dt.weekday_name"
   ]
  },
  {
   "cell_type": "code",
   "execution_count": 17,
   "metadata": {},
   "outputs": [
    {
     "data": {
      "text/html": [
       "<div>\n",
       "<style scoped>\n",
       "    .dataframe tbody tr th:only-of-type {\n",
       "        vertical-align: middle;\n",
       "    }\n",
       "\n",
       "    .dataframe tbody tr th {\n",
       "        vertical-align: top;\n",
       "    }\n",
       "\n",
       "    .dataframe thead th {\n",
       "        text-align: right;\n",
       "    }\n",
       "</style>\n",
       "<table border=\"1\" class=\"dataframe\">\n",
       "  <thead>\n",
       "    <tr style=\"text-align: right;\">\n",
       "      <th></th>\n",
       "      <th>participID</th>\n",
       "      <th>dataDate</th>\n",
       "      <th>complyPercent</th>\n",
       "      <th>idSleepMeta</th>\n",
       "      <th>startTime</th>\n",
       "      <th>isMainSleep</th>\n",
       "      <th>minToFallAsleep</th>\n",
       "      <th>minsAwake</th>\n",
       "      <th>timeInBed</th>\n",
       "      <th>minsAsleep</th>\n",
       "      <th>efficiency</th>\n",
       "      <th>restlessDuration</th>\n",
       "      <th>durationMS</th>\n",
       "      <th>minutesAfterWakeup</th>\n",
       "      <th>weekdayName</th>\n",
       "    </tr>\n",
       "  </thead>\n",
       "  <tbody>\n",
       "    <tr>\n",
       "      <td>0</td>\n",
       "      <td>3LZJFK</td>\n",
       "      <td>2015-07-27</td>\n",
       "      <td>98</td>\n",
       "      <td>6</td>\n",
       "      <td>23:55:00</td>\n",
       "      <td>1</td>\n",
       "      <td>6</td>\n",
       "      <td>27</td>\n",
       "      <td>409</td>\n",
       "      <td>376</td>\n",
       "      <td>93</td>\n",
       "      <td>31</td>\n",
       "      <td>24540000</td>\n",
       "      <td>0</td>\n",
       "      <td>Monday</td>\n",
       "    </tr>\n",
       "    <tr>\n",
       "      <td>1</td>\n",
       "      <td>3LZJFK</td>\n",
       "      <td>2015-07-28</td>\n",
       "      <td>95</td>\n",
       "      <td>7</td>\n",
       "      <td>00:57:30</td>\n",
       "      <td>1</td>\n",
       "      <td>0</td>\n",
       "      <td>22</td>\n",
       "      <td>320</td>\n",
       "      <td>294</td>\n",
       "      <td>93</td>\n",
       "      <td>22</td>\n",
       "      <td>19200000</td>\n",
       "      <td>0</td>\n",
       "      <td>Tuesday</td>\n",
       "    </tr>\n",
       "    <tr>\n",
       "      <td>2</td>\n",
       "      <td>3LZJFK</td>\n",
       "      <td>2015-07-29</td>\n",
       "      <td>99</td>\n",
       "      <td>8</td>\n",
       "      <td>23:04:00</td>\n",
       "      <td>1</td>\n",
       "      <td>0</td>\n",
       "      <td>30</td>\n",
       "      <td>314</td>\n",
       "      <td>282</td>\n",
       "      <td>90</td>\n",
       "      <td>32</td>\n",
       "      <td>18840000</td>\n",
       "      <td>0</td>\n",
       "      <td>Wednesday</td>\n",
       "    </tr>\n",
       "    <tr>\n",
       "      <td>3</td>\n",
       "      <td>3LZJFK</td>\n",
       "      <td>2015-07-29</td>\n",
       "      <td>99</td>\n",
       "      <td>9</td>\n",
       "      <td>04:19:00</td>\n",
       "      <td>0</td>\n",
       "      <td>0</td>\n",
       "      <td>5</td>\n",
       "      <td>144</td>\n",
       "      <td>133</td>\n",
       "      <td>96</td>\n",
       "      <td>6</td>\n",
       "      <td>8640000</td>\n",
       "      <td>0</td>\n",
       "      <td>Wednesday</td>\n",
       "    </tr>\n",
       "    <tr>\n",
       "      <td>4</td>\n",
       "      <td>3LZJFK</td>\n",
       "      <td>2015-07-30</td>\n",
       "      <td>89</td>\n",
       "      <td>10</td>\n",
       "      <td>00:25:00</td>\n",
       "      <td>1</td>\n",
       "      <td>0</td>\n",
       "      <td>26</td>\n",
       "      <td>417</td>\n",
       "      <td>387</td>\n",
       "      <td>94</td>\n",
       "      <td>29</td>\n",
       "      <td>25020000</td>\n",
       "      <td>0</td>\n",
       "      <td>Thursday</td>\n",
       "    </tr>\n",
       "  </tbody>\n",
       "</table>\n",
       "</div>"
      ],
      "text/plain": [
       "  participID    dataDate  complyPercent  idSleepMeta startTime  isMainSleep  \\\n",
       "0     3LZJFK  2015-07-27             98            6  23:55:00            1   \n",
       "1     3LZJFK  2015-07-28             95            7  00:57:30            1   \n",
       "2     3LZJFK  2015-07-29             99            8  23:04:00            1   \n",
       "3     3LZJFK  2015-07-29             99            9  04:19:00            0   \n",
       "4     3LZJFK  2015-07-30             89           10  00:25:00            1   \n",
       "\n",
       "   minToFallAsleep  minsAwake  timeInBed  minsAsleep  efficiency  \\\n",
       "0                6         27        409         376          93   \n",
       "1                0         22        320         294          93   \n",
       "2                0         30        314         282          90   \n",
       "3                0          5        144         133          96   \n",
       "4                0         26        417         387          94   \n",
       "\n",
       "   restlessDuration  durationMS  minutesAfterWakeup weekdayName  \n",
       "0                31    24540000                   0      Monday  \n",
       "1                22    19200000                   0     Tuesday  \n",
       "2                32    18840000                   0   Wednesday  \n",
       "3                 6     8640000                   0   Wednesday  \n",
       "4                29    25020000                   0    Thursday  "
      ]
     },
     "execution_count": 17,
     "metadata": {},
     "output_type": "execute_result"
    }
   ],
   "source": [
    "a.head()"
   ]
  },
  {
   "cell_type": "code",
   "execution_count": 18,
   "metadata": {},
   "outputs": [
    {
     "data": {
      "text/html": [
       "<div>\n",
       "<style scoped>\n",
       "    .dataframe tbody tr th:only-of-type {\n",
       "        vertical-align: middle;\n",
       "    }\n",
       "\n",
       "    .dataframe tbody tr th {\n",
       "        vertical-align: top;\n",
       "    }\n",
       "\n",
       "    .dataframe thead th {\n",
       "        text-align: right;\n",
       "    }\n",
       "</style>\n",
       "<table border=\"1\" class=\"dataframe\">\n",
       "  <thead>\n",
       "    <tr style=\"text-align: right;\">\n",
       "      <th></th>\n",
       "      <th>participID</th>\n",
       "      <th>dataDate</th>\n",
       "      <th>complyPercent</th>\n",
       "      <th>idSleepMeta</th>\n",
       "      <th>startTime</th>\n",
       "      <th>isMainSleep</th>\n",
       "      <th>minToFallAsleep</th>\n",
       "      <th>minsAwake</th>\n",
       "      <th>timeInBed</th>\n",
       "      <th>minsAsleep</th>\n",
       "      <th>efficiency</th>\n",
       "      <th>restlessDuration</th>\n",
       "      <th>durationMS</th>\n",
       "      <th>minutesAfterWakeup</th>\n",
       "      <th>weekdayName</th>\n",
       "      <th>weekendNight</th>\n",
       "    </tr>\n",
       "  </thead>\n",
       "  <tbody>\n",
       "    <tr>\n",
       "      <td>0</td>\n",
       "      <td>3LZJFK</td>\n",
       "      <td>2015-07-27</td>\n",
       "      <td>98</td>\n",
       "      <td>6</td>\n",
       "      <td>23:55:00</td>\n",
       "      <td>1</td>\n",
       "      <td>6</td>\n",
       "      <td>27</td>\n",
       "      <td>409</td>\n",
       "      <td>376</td>\n",
       "      <td>93</td>\n",
       "      <td>31</td>\n",
       "      <td>24540000</td>\n",
       "      <td>0</td>\n",
       "      <td>Monday</td>\n",
       "      <td>0</td>\n",
       "    </tr>\n",
       "    <tr>\n",
       "      <td>1</td>\n",
       "      <td>3LZJFK</td>\n",
       "      <td>2015-07-28</td>\n",
       "      <td>95</td>\n",
       "      <td>7</td>\n",
       "      <td>00:57:30</td>\n",
       "      <td>1</td>\n",
       "      <td>0</td>\n",
       "      <td>22</td>\n",
       "      <td>320</td>\n",
       "      <td>294</td>\n",
       "      <td>93</td>\n",
       "      <td>22</td>\n",
       "      <td>19200000</td>\n",
       "      <td>0</td>\n",
       "      <td>Tuesday</td>\n",
       "      <td>0</td>\n",
       "    </tr>\n",
       "    <tr>\n",
       "      <td>2</td>\n",
       "      <td>3LZJFK</td>\n",
       "      <td>2015-07-29</td>\n",
       "      <td>99</td>\n",
       "      <td>8</td>\n",
       "      <td>23:04:00</td>\n",
       "      <td>1</td>\n",
       "      <td>0</td>\n",
       "      <td>30</td>\n",
       "      <td>314</td>\n",
       "      <td>282</td>\n",
       "      <td>90</td>\n",
       "      <td>32</td>\n",
       "      <td>18840000</td>\n",
       "      <td>0</td>\n",
       "      <td>Wednesday</td>\n",
       "      <td>0</td>\n",
       "    </tr>\n",
       "    <tr>\n",
       "      <td>3</td>\n",
       "      <td>3LZJFK</td>\n",
       "      <td>2015-07-29</td>\n",
       "      <td>99</td>\n",
       "      <td>9</td>\n",
       "      <td>04:19:00</td>\n",
       "      <td>0</td>\n",
       "      <td>0</td>\n",
       "      <td>5</td>\n",
       "      <td>144</td>\n",
       "      <td>133</td>\n",
       "      <td>96</td>\n",
       "      <td>6</td>\n",
       "      <td>8640000</td>\n",
       "      <td>0</td>\n",
       "      <td>Wednesday</td>\n",
       "      <td>0</td>\n",
       "    </tr>\n",
       "    <tr>\n",
       "      <td>4</td>\n",
       "      <td>3LZJFK</td>\n",
       "      <td>2015-07-30</td>\n",
       "      <td>89</td>\n",
       "      <td>10</td>\n",
       "      <td>00:25:00</td>\n",
       "      <td>1</td>\n",
       "      <td>0</td>\n",
       "      <td>26</td>\n",
       "      <td>417</td>\n",
       "      <td>387</td>\n",
       "      <td>94</td>\n",
       "      <td>29</td>\n",
       "      <td>25020000</td>\n",
       "      <td>0</td>\n",
       "      <td>Thursday</td>\n",
       "      <td>0</td>\n",
       "    </tr>\n",
       "    <tr>\n",
       "      <td>...</td>\n",
       "      <td>...</td>\n",
       "      <td>...</td>\n",
       "      <td>...</td>\n",
       "      <td>...</td>\n",
       "      <td>...</td>\n",
       "      <td>...</td>\n",
       "      <td>...</td>\n",
       "      <td>...</td>\n",
       "      <td>...</td>\n",
       "      <td>...</td>\n",
       "      <td>...</td>\n",
       "      <td>...</td>\n",
       "      <td>...</td>\n",
       "      <td>...</td>\n",
       "      <td>...</td>\n",
       "      <td>...</td>\n",
       "    </tr>\n",
       "    <tr>\n",
       "      <td>337654</td>\n",
       "      <td>3MWQ8P</td>\n",
       "      <td>2019-05-18</td>\n",
       "      <td>97</td>\n",
       "      <td>338831</td>\n",
       "      <td>04:56:30</td>\n",
       "      <td>1</td>\n",
       "      <td>0</td>\n",
       "      <td>37</td>\n",
       "      <td>415</td>\n",
       "      <td>378</td>\n",
       "      <td>91</td>\n",
       "      <td>33</td>\n",
       "      <td>24900000</td>\n",
       "      <td>0</td>\n",
       "      <td>Saturday</td>\n",
       "      <td>1</td>\n",
       "    </tr>\n",
       "    <tr>\n",
       "      <td>337655</td>\n",
       "      <td>3P64V9</td>\n",
       "      <td>2019-05-18</td>\n",
       "      <td>100</td>\n",
       "      <td>338832</td>\n",
       "      <td>02:31:00</td>\n",
       "      <td>1</td>\n",
       "      <td>0</td>\n",
       "      <td>23</td>\n",
       "      <td>344</td>\n",
       "      <td>316</td>\n",
       "      <td>93</td>\n",
       "      <td>23</td>\n",
       "      <td>20640000</td>\n",
       "      <td>5</td>\n",
       "      <td>Saturday</td>\n",
       "      <td>1</td>\n",
       "    </tr>\n",
       "    <tr>\n",
       "      <td>337656</td>\n",
       "      <td>3P64V9</td>\n",
       "      <td>2019-05-19</td>\n",
       "      <td>100</td>\n",
       "      <td>338833</td>\n",
       "      <td>23:58:00</td>\n",
       "      <td>1</td>\n",
       "      <td>0</td>\n",
       "      <td>31</td>\n",
       "      <td>340</td>\n",
       "      <td>309</td>\n",
       "      <td>91</td>\n",
       "      <td>30</td>\n",
       "      <td>20400000</td>\n",
       "      <td>0</td>\n",
       "      <td>Sunday</td>\n",
       "      <td>0</td>\n",
       "    </tr>\n",
       "    <tr>\n",
       "      <td>337657</td>\n",
       "      <td>3MNF9J</td>\n",
       "      <td>2019-05-18</td>\n",
       "      <td>98</td>\n",
       "      <td>338834</td>\n",
       "      <td>03:52:30</td>\n",
       "      <td>1</td>\n",
       "      <td>0</td>\n",
       "      <td>16</td>\n",
       "      <td>442</td>\n",
       "      <td>426</td>\n",
       "      <td>96</td>\n",
       "      <td>15</td>\n",
       "      <td>26520000</td>\n",
       "      <td>0</td>\n",
       "      <td>Saturday</td>\n",
       "      <td>1</td>\n",
       "    </tr>\n",
       "    <tr>\n",
       "      <td>337658</td>\n",
       "      <td>4SMTS7</td>\n",
       "      <td>2019-05-18</td>\n",
       "      <td>54</td>\n",
       "      <td>338835</td>\n",
       "      <td>02:03:30</td>\n",
       "      <td>1</td>\n",
       "      <td>0</td>\n",
       "      <td>8</td>\n",
       "      <td>445</td>\n",
       "      <td>433</td>\n",
       "      <td>98</td>\n",
       "      <td>12</td>\n",
       "      <td>26700000</td>\n",
       "      <td>4</td>\n",
       "      <td>Saturday</td>\n",
       "      <td>1</td>\n",
       "    </tr>\n",
       "  </tbody>\n",
       "</table>\n",
       "<p>337659 rows × 16 columns</p>\n",
       "</div>"
      ],
      "text/plain": [
       "       participID    dataDate  complyPercent  idSleepMeta startTime  \\\n",
       "0          3LZJFK  2015-07-27             98            6  23:55:00   \n",
       "1          3LZJFK  2015-07-28             95            7  00:57:30   \n",
       "2          3LZJFK  2015-07-29             99            8  23:04:00   \n",
       "3          3LZJFK  2015-07-29             99            9  04:19:00   \n",
       "4          3LZJFK  2015-07-30             89           10  00:25:00   \n",
       "...           ...         ...            ...          ...       ...   \n",
       "337654     3MWQ8P  2019-05-18             97       338831  04:56:30   \n",
       "337655     3P64V9  2019-05-18            100       338832  02:31:00   \n",
       "337656     3P64V9  2019-05-19            100       338833  23:58:00   \n",
       "337657     3MNF9J  2019-05-18             98       338834  03:52:30   \n",
       "337658     4SMTS7  2019-05-18             54       338835  02:03:30   \n",
       "\n",
       "        isMainSleep  minToFallAsleep  minsAwake  timeInBed  minsAsleep  \\\n",
       "0                 1                6         27        409         376   \n",
       "1                 1                0         22        320         294   \n",
       "2                 1                0         30        314         282   \n",
       "3                 0                0          5        144         133   \n",
       "4                 1                0         26        417         387   \n",
       "...             ...              ...        ...        ...         ...   \n",
       "337654            1                0         37        415         378   \n",
       "337655            1                0         23        344         316   \n",
       "337656            1                0         31        340         309   \n",
       "337657            1                0         16        442         426   \n",
       "337658            1                0          8        445         433   \n",
       "\n",
       "        efficiency  restlessDuration  durationMS  minutesAfterWakeup  \\\n",
       "0               93                31    24540000                   0   \n",
       "1               93                22    19200000                   0   \n",
       "2               90                32    18840000                   0   \n",
       "3               96                 6     8640000                   0   \n",
       "4               94                29    25020000                   0   \n",
       "...            ...               ...         ...                 ...   \n",
       "337654          91                33    24900000                   0   \n",
       "337655          93                23    20640000                   5   \n",
       "337656          91                30    20400000                   0   \n",
       "337657          96                15    26520000                   0   \n",
       "337658          98                12    26700000                   4   \n",
       "\n",
       "       weekdayName  weekendNight  \n",
       "0           Monday             0  \n",
       "1          Tuesday             0  \n",
       "2        Wednesday             0  \n",
       "3        Wednesday             0  \n",
       "4         Thursday             0  \n",
       "...            ...           ...  \n",
       "337654    Saturday             1  \n",
       "337655    Saturday             1  \n",
       "337656      Sunday             0  \n",
       "337657    Saturday             1  \n",
       "337658    Saturday             1  \n",
       "\n",
       "[337659 rows x 16 columns]"
      ]
     },
     "execution_count": 18,
     "metadata": {},
     "output_type": "execute_result"
    }
   ],
   "source": [
    "a['weekendNight'] = a['weekdayName'].apply(lambda x: 1 if (x == 'Friday' or x == 'Saturday') else 0)\n",
    "a"
   ]
  },
  {
   "cell_type": "code",
   "execution_count": 19,
   "metadata": {},
   "outputs": [
    {
     "data": {
      "text/html": [
       "<div>\n",
       "<style scoped>\n",
       "    .dataframe tbody tr th:only-of-type {\n",
       "        vertical-align: middle;\n",
       "    }\n",
       "\n",
       "    .dataframe tbody tr th {\n",
       "        vertical-align: top;\n",
       "    }\n",
       "\n",
       "    .dataframe thead th {\n",
       "        text-align: right;\n",
       "    }\n",
       "</style>\n",
       "<table border=\"1\" class=\"dataframe\">\n",
       "  <thead>\n",
       "    <tr style=\"text-align: right;\">\n",
       "      <th></th>\n",
       "      <th>complyPercent</th>\n",
       "    </tr>\n",
       "  </thead>\n",
       "  <tbody>\n",
       "    <tr>\n",
       "      <td>mean</td>\n",
       "      <td>77.042181</td>\n",
       "    </tr>\n",
       "    <tr>\n",
       "      <td>median</td>\n",
       "      <td>95.000000</td>\n",
       "    </tr>\n",
       "    <tr>\n",
       "      <td>min</td>\n",
       "      <td>0.000000</td>\n",
       "    </tr>\n",
       "    <tr>\n",
       "      <td>max</td>\n",
       "      <td>100.000000</td>\n",
       "    </tr>\n",
       "  </tbody>\n",
       "</table>\n",
       "</div>"
      ],
      "text/plain": [
       "        complyPercent\n",
       "mean        77.042181\n",
       "median      95.000000\n",
       "min          0.000000\n",
       "max        100.000000"
      ]
     },
     "execution_count": 19,
     "metadata": {},
     "output_type": "execute_result"
    }
   ],
   "source": [
    "a[a['minsAsleep'] > 720].agg({'complyPercent':['mean', 'median', 'min', 'max']})\n",
    "#set comply percent from these results"
   ]
  },
  {
   "cell_type": "code",
   "execution_count": 20,
   "metadata": {},
   "outputs": [],
   "source": [
    "a = a[a['complyPercent'] > 80]\n",
    "a = a[a['minsAsleep'] < 720]"
   ]
  },
  {
   "cell_type": "code",
   "execution_count": 21,
   "metadata": {},
   "outputs": [
    {
     "data": {
      "text/html": [
       "<div>\n",
       "<style scoped>\n",
       "    .dataframe tbody tr th:only-of-type {\n",
       "        vertical-align: middle;\n",
       "    }\n",
       "\n",
       "    .dataframe tbody tr th {\n",
       "        vertical-align: top;\n",
       "    }\n",
       "\n",
       "    .dataframe thead tr th {\n",
       "        text-align: left;\n",
       "    }\n",
       "\n",
       "    .dataframe thead tr:last-of-type th {\n",
       "        text-align: right;\n",
       "    }\n",
       "</style>\n",
       "<table border=\"1\" class=\"dataframe\">\n",
       "  <thead>\n",
       "    <tr>\n",
       "      <th></th>\n",
       "      <th colspan=\"3\" halign=\"left\">restlessDuration</th>\n",
       "    </tr>\n",
       "    <tr>\n",
       "      <th></th>\n",
       "      <th>mean</th>\n",
       "      <th>min</th>\n",
       "      <th>max</th>\n",
       "    </tr>\n",
       "    <tr>\n",
       "      <th>weekendNight</th>\n",
       "      <th></th>\n",
       "      <th></th>\n",
       "      <th></th>\n",
       "    </tr>\n",
       "  </thead>\n",
       "  <tbody>\n",
       "    <tr>\n",
       "      <td>0</td>\n",
       "      <td>26.105169</td>\n",
       "      <td>0</td>\n",
       "      <td>559</td>\n",
       "    </tr>\n",
       "    <tr>\n",
       "      <td>1</td>\n",
       "      <td>25.186219</td>\n",
       "      <td>0</td>\n",
       "      <td>555</td>\n",
       "    </tr>\n",
       "  </tbody>\n",
       "</table>\n",
       "</div>"
      ],
      "text/plain": [
       "             restlessDuration         \n",
       "                         mean min  max\n",
       "weekendNight                          \n",
       "0                   26.105169   0  559\n",
       "1                   25.186219   0  555"
      ]
     },
     "execution_count": 21,
     "metadata": {},
     "output_type": "execute_result"
    }
   ],
   "source": [
    "a.groupby('weekendNight').agg({\"restlessDuration\": [\"mean\", \"min\", \"max\"]})"
   ]
  },
  {
   "cell_type": "code",
   "execution_count": 22,
   "metadata": {},
   "outputs": [
    {
     "data": {
      "text/html": [
       "<div>\n",
       "<style scoped>\n",
       "    .dataframe tbody tr th:only-of-type {\n",
       "        vertical-align: middle;\n",
       "    }\n",
       "\n",
       "    .dataframe tbody tr th {\n",
       "        vertical-align: top;\n",
       "    }\n",
       "\n",
       "    .dataframe thead tr th {\n",
       "        text-align: left;\n",
       "    }\n",
       "\n",
       "    .dataframe thead tr:last-of-type th {\n",
       "        text-align: right;\n",
       "    }\n",
       "</style>\n",
       "<table border=\"1\" class=\"dataframe\">\n",
       "  <thead>\n",
       "    <tr>\n",
       "      <th></th>\n",
       "      <th colspan=\"3\" halign=\"left\">minsAsleep</th>\n",
       "    </tr>\n",
       "    <tr>\n",
       "      <th></th>\n",
       "      <th>mean</th>\n",
       "      <th>min</th>\n",
       "      <th>max</th>\n",
       "    </tr>\n",
       "    <tr>\n",
       "      <th>weekendNight</th>\n",
       "      <th></th>\n",
       "      <th></th>\n",
       "      <th></th>\n",
       "    </tr>\n",
       "  </thead>\n",
       "  <tbody>\n",
       "    <tr>\n",
       "      <td>0</td>\n",
       "      <td>380.202465</td>\n",
       "      <td>0</td>\n",
       "      <td>719</td>\n",
       "    </tr>\n",
       "    <tr>\n",
       "      <td>1</td>\n",
       "      <td>375.169388</td>\n",
       "      <td>0</td>\n",
       "      <td>719</td>\n",
       "    </tr>\n",
       "  </tbody>\n",
       "</table>\n",
       "</div>"
      ],
      "text/plain": [
       "              minsAsleep         \n",
       "                    mean min  max\n",
       "weekendNight                     \n",
       "0             380.202465   0  719\n",
       "1             375.169388   0  719"
      ]
     },
     "execution_count": 22,
     "metadata": {},
     "output_type": "execute_result"
    }
   ],
   "source": [
    "a.groupby('weekendNight').agg({\"minsAsleep\": [\"mean\", \"min\", \"max\"]})"
   ]
  },
  {
   "cell_type": "code",
   "execution_count": 23,
   "metadata": {},
   "outputs": [],
   "source": [
    "t_weekday = []\n",
    "t_weekend = []\n",
    "a_weekday = a[a['weekendNight'] == 0]\n",
    "a_weekend = a[a['weekendNight'] == 1]\n",
    "for time in a_weekday['startTime']:\n",
    "    hr = int(time.split(':')[0])\n",
    "    if hr > 12:\n",
    "        hr = hr - 24\n",
    "    m = int(time.split(':')[1])\n",
    "    s = int(time.split(':')[2])\n",
    "    t_weekday.append(hr + m/60 + s/3600)\n",
    "for time in a_weekend['startTime']:\n",
    "    hr = int(time.split(':')[0])\n",
    "    if hr > 12:\n",
    "        hr = hr - 24\n",
    "    m = int(time.split(':')[1])\n",
    "    s = int(time.split(':')[2])\n",
    "    t_weekend.append(hr + m/60 + s/3600)"
   ]
  },
  {
   "cell_type": "code",
   "execution_count": 24,
   "metadata": {},
   "outputs": [
    {
     "data": {
      "text/plain": [
       "1.041268191395466"
      ]
     },
     "execution_count": 24,
     "metadata": {},
     "output_type": "execute_result"
    }
   ],
   "source": [
    "np.mean(t_weekday)"
   ]
  },
  {
   "cell_type": "code",
   "execution_count": 25,
   "metadata": {},
   "outputs": [
    {
     "data": {
      "text/plain": [
       "2.47609148372796"
      ]
     },
     "execution_count": 25,
     "metadata": {},
     "output_type": "execute_result"
    }
   ],
   "source": [
    ".041268191395466*60"
   ]
  },
  {
   "cell_type": "code",
   "execution_count": 26,
   "metadata": {},
   "outputs": [
    {
     "data": {
      "text/plain": [
       "28.5654890236776"
      ]
     },
     "execution_count": 26,
     "metadata": {},
     "output_type": "execute_result"
    }
   ],
   "source": [
    "0.47609148372796 *60"
   ]
  },
  {
   "cell_type": "code",
   "execution_count": 27,
   "metadata": {},
   "outputs": [],
   "source": [
    "# avg weekday bedtime = 1:02:28"
   ]
  },
  {
   "cell_type": "code",
   "execution_count": 28,
   "metadata": {},
   "outputs": [
    {
     "data": {
      "text/plain": [
       "1.2828226298574497"
      ]
     },
     "execution_count": 28,
     "metadata": {},
     "output_type": "execute_result"
    }
   ],
   "source": [
    "np.mean(t_weekend)"
   ]
  },
  {
   "cell_type": "code",
   "execution_count": 29,
   "metadata": {},
   "outputs": [
    {
     "data": {
      "text/plain": [
       "16.96935779144698"
      ]
     },
     "execution_count": 29,
     "metadata": {},
     "output_type": "execute_result"
    }
   ],
   "source": [
    "0.2828226298574497*60"
   ]
  },
  {
   "cell_type": "code",
   "execution_count": 30,
   "metadata": {},
   "outputs": [
    {
     "data": {
      "text/plain": [
       "58.1614674868188"
      ]
     },
     "execution_count": 30,
     "metadata": {},
     "output_type": "execute_result"
    }
   ],
   "source": [
    "0.96935779144698*60"
   ]
  },
  {
   "cell_type": "code",
   "execution_count": 31,
   "metadata": {},
   "outputs": [],
   "source": [
    "# avg weekend bedtime = 1:16:58"
   ]
  },
  {
   "cell_type": "code",
   "execution_count": 108,
   "metadata": {},
   "outputs": [],
   "source": [
    "#importing libraries\n",
    "import pandas as pd\n",
    "import numpy as np\n",
    "import matplotlib\n",
    "import matplotlib.pyplot as plt\n",
    "import seaborn as sns\n",
    "import statsmodels.api as sm\n",
    "%matplotlib inline\n",
    "from sklearn.model_selection import train_test_split\n",
    "from sklearn.linear_model import LinearRegression\n",
    "from sklearn.feature_selection import RFE\n",
    "from sklearn.linear_model import RidgeCV, LassoCV, Ridge, Lasso"
   ]
  },
  {
   "cell_type": "code",
   "execution_count": 48,
   "metadata": {},
   "outputs": [
    {
     "data": {
      "text/html": [
       "<div>\n",
       "<style scoped>\n",
       "    .dataframe tbody tr th:only-of-type {\n",
       "        vertical-align: middle;\n",
       "    }\n",
       "\n",
       "    .dataframe tbody tr th {\n",
       "        vertical-align: top;\n",
       "    }\n",
       "\n",
       "    .dataframe thead th {\n",
       "        text-align: right;\n",
       "    }\n",
       "</style>\n",
       "<table border=\"1\" class=\"dataframe\">\n",
       "  <thead>\n",
       "    <tr style=\"text-align: right;\">\n",
       "      <th></th>\n",
       "      <th>idStudy</th>\n",
       "      <th>participID</th>\n",
       "      <th>dataDate</th>\n",
       "      <th>dataTime</th>\n",
       "      <th>fetchStamp</th>\n",
       "      <th>overallResultValue</th>\n",
       "      <th>heartMinsFound</th>\n",
       "      <th>sleepMinsFound</th>\n",
       "      <th>calMinsFound</th>\n",
       "      <th>stepMinsFound</th>\n",
       "      <th>...</th>\n",
       "      <th>minsAwake</th>\n",
       "      <th>timeInBed</th>\n",
       "      <th>minsAsleep</th>\n",
       "      <th>awakeDuration</th>\n",
       "      <th>efficiency</th>\n",
       "      <th>restlessCount</th>\n",
       "      <th>durationMS</th>\n",
       "      <th>restlessDuration</th>\n",
       "      <th>awakeCount</th>\n",
       "      <th>minutesAfterWakeup</th>\n",
       "    </tr>\n",
       "  </thead>\n",
       "  <tbody>\n",
       "    <tr>\n",
       "      <td>0</td>\n",
       "      <td>6178</td>\n",
       "      <td>3LZGLG</td>\n",
       "      <td>2015-08-25</td>\n",
       "      <td>00:00:00</td>\n",
       "      <td>1441145130</td>\n",
       "      <td>3</td>\n",
       "      <td>1331</td>\n",
       "      <td>440</td>\n",
       "      <td>1440</td>\n",
       "      <td>1440</td>\n",
       "      <td>...</td>\n",
       "      <td>14</td>\n",
       "      <td>440</td>\n",
       "      <td>423</td>\n",
       "      <td>1</td>\n",
       "      <td>97</td>\n",
       "      <td>10</td>\n",
       "      <td>26400000</td>\n",
       "      <td>16</td>\n",
       "      <td>1</td>\n",
       "      <td>0</td>\n",
       "    </tr>\n",
       "    <tr>\n",
       "      <td>1</td>\n",
       "      <td>6179</td>\n",
       "      <td>3LZGLG</td>\n",
       "      <td>2015-08-26</td>\n",
       "      <td>00:00:00</td>\n",
       "      <td>1441145132</td>\n",
       "      <td>3</td>\n",
       "      <td>1424</td>\n",
       "      <td>434</td>\n",
       "      <td>1440</td>\n",
       "      <td>1440</td>\n",
       "      <td>...</td>\n",
       "      <td>16</td>\n",
       "      <td>434</td>\n",
       "      <td>417</td>\n",
       "      <td>1</td>\n",
       "      <td>96</td>\n",
       "      <td>8</td>\n",
       "      <td>26040000</td>\n",
       "      <td>16</td>\n",
       "      <td>1</td>\n",
       "      <td>0</td>\n",
       "    </tr>\n",
       "    <tr>\n",
       "      <td>2</td>\n",
       "      <td>6180</td>\n",
       "      <td>3LZGLG</td>\n",
       "      <td>2015-08-27</td>\n",
       "      <td>00:00:00</td>\n",
       "      <td>1441145134</td>\n",
       "      <td>3</td>\n",
       "      <td>1412</td>\n",
       "      <td>469</td>\n",
       "      <td>1440</td>\n",
       "      <td>1440</td>\n",
       "      <td>...</td>\n",
       "      <td>24</td>\n",
       "      <td>469</td>\n",
       "      <td>431</td>\n",
       "      <td>2</td>\n",
       "      <td>95</td>\n",
       "      <td>12</td>\n",
       "      <td>28140000</td>\n",
       "      <td>36</td>\n",
       "      <td>1</td>\n",
       "      <td>11</td>\n",
       "    </tr>\n",
       "    <tr>\n",
       "      <td>3</td>\n",
       "      <td>6181</td>\n",
       "      <td>3LZGLG</td>\n",
       "      <td>2015-08-28</td>\n",
       "      <td>00:00:00</td>\n",
       "      <td>1441145136</td>\n",
       "      <td>3</td>\n",
       "      <td>1350</td>\n",
       "      <td>354</td>\n",
       "      <td>1440</td>\n",
       "      <td>1440</td>\n",
       "      <td>...</td>\n",
       "      <td>9</td>\n",
       "      <td>354</td>\n",
       "      <td>339</td>\n",
       "      <td>1</td>\n",
       "      <td>97</td>\n",
       "      <td>8</td>\n",
       "      <td>21240000</td>\n",
       "      <td>14</td>\n",
       "      <td>1</td>\n",
       "      <td>0</td>\n",
       "    </tr>\n",
       "    <tr>\n",
       "      <td>4</td>\n",
       "      <td>6182</td>\n",
       "      <td>3LZGLG</td>\n",
       "      <td>2015-08-29</td>\n",
       "      <td>00:00:00</td>\n",
       "      <td>1441145138</td>\n",
       "      <td>3</td>\n",
       "      <td>1417</td>\n",
       "      <td>502</td>\n",
       "      <td>1440</td>\n",
       "      <td>1440</td>\n",
       "      <td>...</td>\n",
       "      <td>43</td>\n",
       "      <td>435</td>\n",
       "      <td>376</td>\n",
       "      <td>8</td>\n",
       "      <td>90</td>\n",
       "      <td>16</td>\n",
       "      <td>26100000</td>\n",
       "      <td>51</td>\n",
       "      <td>2</td>\n",
       "      <td>0</td>\n",
       "    </tr>\n",
       "  </tbody>\n",
       "</table>\n",
       "<p>5 rows × 60 columns</p>\n",
       "</div>"
      ],
      "text/plain": [
       "   idStudy participID    dataDate  dataTime  fetchStamp  overallResultValue  \\\n",
       "0     6178     3LZGLG  2015-08-25  00:00:00  1441145130                   3   \n",
       "1     6179     3LZGLG  2015-08-26  00:00:00  1441145132                   3   \n",
       "2     6180     3LZGLG  2015-08-27  00:00:00  1441145134                   3   \n",
       "3     6181     3LZGLG  2015-08-28  00:00:00  1441145136                   3   \n",
       "4     6182     3LZGLG  2015-08-29  00:00:00  1441145138                   3   \n",
       "\n",
       "   heartMinsFound  sleepMinsFound  calMinsFound  stepMinsFound  ... minsAwake  \\\n",
       "0            1331             440          1440           1440  ...        14   \n",
       "1            1424             434          1440           1440  ...        16   \n",
       "2            1412             469          1440           1440  ...        24   \n",
       "3            1350             354          1440           1440  ...         9   \n",
       "4            1417             502          1440           1440  ...        43   \n",
       "\n",
       "   timeInBed  minsAsleep awakeDuration efficiency restlessCount durationMS  \\\n",
       "0        440         423             1         97            10   26400000   \n",
       "1        434         417             1         96             8   26040000   \n",
       "2        469         431             2         95            12   28140000   \n",
       "3        354         339             1         97             8   21240000   \n",
       "4        435         376             8         90            16   26100000   \n",
       "\n",
       "  restlessDuration awakeCount minutesAfterWakeup  \n",
       "0               16          1                  0  \n",
       "1               16          1                  0  \n",
       "2               36          1                 11  \n",
       "3               14          1                  0  \n",
       "4               51          2                  0  \n",
       "\n",
       "[5 rows x 60 columns]"
      ]
     },
     "execution_count": 48,
     "metadata": {},
     "output_type": "execute_result"
    }
   ],
   "source": [
    "full = pd.read_csv('full.csv')\n",
    "full.head()"
   ]
  },
  {
   "cell_type": "code",
   "execution_count": 68,
   "metadata": {},
   "outputs": [
    {
     "data": {
      "text/plain": [
       "minsAsleep            int64\n",
       "lowRangeCal         float64\n",
       "fatBurnCal          float64\n",
       "cardioCal           float64\n",
       "peakCal             float64\n",
       "restHeart             int64\n",
       "lowRangeMins          int64\n",
       "fatBurnMins           int64\n",
       "cardioMins            int64\n",
       "peakMins              int64\n",
       "efficiency            int64\n",
       "restlessDuration      int64\n",
       "dtype: object"
      ]
     },
     "execution_count": 68,
     "metadata": {},
     "output_type": "execute_result"
    }
   ],
   "source": [
    "full_efficiency.dtypes"
   ]
  },
  {
   "cell_type": "code",
   "execution_count": 85,
   "metadata": {},
   "outputs": [],
   "source": [
    "full_efficiency = full[['minsAsleep','lowRangeCal','fatBurnCal','cardioCal','peakCal','restHeart', 'lowRangeMins','fatBurnMins','cardioMins','peakMins', 'efficiency','restlessDuration']]"
   ]
  },
  {
   "cell_type": "code",
   "execution_count": 97,
   "metadata": {},
   "outputs": [],
   "source": [
    "X = full_efficiency.drop(\"minsAsleep\",1)  #Feature Matrix\n",
    "y = full_efficiency[\"minsAsleep\"]       #Target Variable"
   ]
  },
  {
   "cell_type": "code",
   "execution_count": 98,
   "metadata": {},
   "outputs": [
    {
     "data": {
      "image/png": "[encoded data removed]",
      "text/plain": [
       "<Figure size 864x720 with 2 Axes>"
      ]
     },
     "metadata": {
      "needs_background": "light"
     },
     "output_type": "display_data"
    }
   ],
   "source": [
    "#Using Pearson Correlation\n",
    "plt.figure(figsize=(12,10))\n",
    "cor = full_efficiency.corr()\n",
    "sns.heatmap(cor, annot=True, cmap=plt.cm.Reds)\n",
    "plt.show()"
   ]
  },
  {
   "cell_type": "code",
   "execution_count": 99,
   "metadata": {},
   "outputs": [
    {
     "data": {
      "text/plain": [
       "minsAsleep    1.0\n",
       "Name: minsAsleep, dtype: float64"
      ]
     },
     "execution_count": 99,
     "metadata": {},
     "output_type": "execute_result"
    }
   ],
   "source": [
    "#Correlation with output variable\n",
    "cor_target = abs(cor[\"minsAsleep\"])\n",
    "#Selecting highly correlated features\n",
    "relevant_features = cor_target[cor_target>0.5]\n",
    "relevant_features"
   ]
  },
  {
   "cell_type": "code",
   "execution_count": 100,
   "metadata": {},
   "outputs": [
    {
     "data": {
      "text/plain": [
       "const               0.000000e+00\n",
       "lowRangeCal         4.654975e-88\n",
       "fatBurnCal          6.890282e-01\n",
       "cardioCal           3.048511e-03\n",
       "peakCal             1.143083e-01\n",
       "restHeart           6.889756e-10\n",
       "lowRangeMins        1.014937e-27\n",
       "fatBurnMins         1.244509e-02\n",
       "cardioMins          8.296143e-02\n",
       "peakMins            2.387789e-01\n",
       "efficiency          0.000000e+00\n",
       "restlessDuration    0.000000e+00\n",
       "dtype: float64"
      ]
     },
     "execution_count": 100,
     "metadata": {},
     "output_type": "execute_result"
    }
   ],
   "source": [
    "#Adding constant column of ones, mandatory for sm.OLS model\n",
    "X_1 = sm.add_constant(X)\n",
    "#Fitting sm.OLS model\n",
    "model = sm.OLS(y,X_1).fit()\n",
    "model.pvalues"
   ]
  },
  {
   "cell_type": "code",
   "execution_count": 101,
   "metadata": {},
   "outputs": [
    {
     "data": {
      "text/plain": [
       "const                0.000000e+00\n",
       "lowRangeCal         6.970585e-102\n",
       "cardioCal            1.248029e-09\n",
       "restHeart            1.613748e-10\n",
       "lowRangeMins         3.028939e-27\n",
       "fatBurnMins          4.708266e-04\n",
       "efficiency           0.000000e+00\n",
       "restlessDuration     0.000000e+00\n",
       "dtype: float64"
      ]
     },
     "execution_count": 101,
     "metadata": {},
     "output_type": "execute_result"
    }
   ],
   "source": [
    "# remove anything over 0.05: fatBurnCal, peakCal, cardioMins, peakMins\n",
    "X2 = X.drop('fatBurnCal', 1)\n",
    "X2 = X2.drop('peakCal', 1)\n",
    "X2 = X2.drop('cardioMins', 1)\n",
    "X2 = X2.drop('peakMins', 1)\n",
    "X_1 = sm.add_constant(X2)\n",
    "model = sm.OLS(y,X_1).fit()\n",
    "model.pvalues"
   ]
  },
  {
   "cell_type": "code",
   "execution_count": 104,
   "metadata": {},
   "outputs": [
    {
     "name": "stderr",
     "output_type": "stream",
     "text": [
      "/Users/mollygiglia/anaconda3/lib/python3.7/site-packages/sklearn/model_selection/_split.py:1978: FutureWarning: The default value of cv will change from 3 to 5 in version 0.22. Specify it explicitly to silence this warning.\n",
      "  warnings.warn(CV_WARNING, FutureWarning)\n"
     ]
    },
    {
     "name": "stdout",
     "output_type": "stream",
     "text": [
      "Best alpha using built-in LassoCV: 7.735498\n",
      "Best score using built-in LassoCV: 0.294858\n"
     ]
    }
   ],
   "source": [
    "reg = LassoCV()\n",
    "reg.fit(X, y)\n",
    "print(\"Best alpha using built-in LassoCV: %f\" % reg.alpha_)\n",
    "print(\"Best score using built-in LassoCV: %f\" %reg.score(X,y))\n",
    "coef = pd.Series(reg.coef_, index = X.columns)"
   ]
  },
  {
   "cell_type": "code",
   "execution_count": 105,
   "metadata": {},
   "outputs": [
    {
     "name": "stdout",
     "output_type": "stream",
     "text": [
      "Lasso picked 9 variables and eliminated the other 2 variables\n"
     ]
    }
   ],
   "source": [
    "print(\"Lasso picked \" + str(sum(coef != 0)) + \" variables and eliminated the other \" +  str(sum(coef == 0)) + \" variables\")"
   ]
  },
  {
   "cell_type": "code",
   "execution_count": 109,
   "metadata": {},
   "outputs": [
    {
     "data": {
      "text/plain": [
       "Text(0.5, 1.0, 'Feature importance using Lasso Model')"
      ]
     },
     "execution_count": 109,
     "metadata": {},
     "output_type": "execute_result"
    },
    {
     "data": {
      "image/png": "[encoded data removed]",
      "text/plain": [
       "<Figure size 576x720 with 1 Axes>"
      ]
     },
     "metadata": {
      "needs_background": "light"
     },
     "output_type": "display_data"
    }
   ],
   "source": [
    "imp_coef = coef.sort_values()\n",
    "matplotlib.rcParams['figure.figsize'] = (8.0, 10.0)\n",
    "imp_coef.plot(kind = \"barh\")\n",
    "plt.title(\"Feature importance using Lasso Model\")"
   ]
  },
  {
   "cell_type": "code",
   "execution_count": 113,
   "metadata": {},
   "outputs": [
    {
     "data": {
      "image/png": "[encoded data removed]",
      "text/plain": [
       "<Figure size 864x720 with 2 Axes>"
      ]
     },
     "metadata": {
      "needs_background": "light"
     },
     "output_type": "display_data"
    }
   ],
   "source": [
    "X_hr = full_efficiency.drop(\"restHeart\",1)  #Feature Matrix\n",
    "y_hr = full_efficiency[\"restHeart\"]       #Target Variable\n",
    "#Using Pearson Correlation\n",
    "plt.figure(figsize=(12,10))\n",
    "cor = full_efficiency.corr()\n",
    "sns.heatmap(cor, annot=True, cmap=plt.cm.Reds)\n",
    "plt.show()"
   ]
  },
  {
   "cell_type": "code",
   "execution_count": 114,
   "metadata": {},
   "outputs": [
    {
     "data": {
      "text/plain": [
       "lowRangeCal    0.554245\n",
       "restHeart      1.000000\n",
       "Name: restHeart, dtype: float64"
      ]
     },
     "execution_count": 114,
     "metadata": {},
     "output_type": "execute_result"
    }
   ],
   "source": [
    "#Correlation with output variable\n",
    "cor_target = abs(cor[\"restHeart\"])\n",
    "#Selecting highly correlated features\n",
    "relevant_features = cor_target[cor_target>0.5]\n",
    "relevant_features"
   ]
  },
  {
   "cell_type": "code",
   "execution_count": 115,
   "metadata": {},
   "outputs": [
    {
     "name": "stderr",
     "output_type": "stream",
     "text": [
      "/Users/mollygiglia/anaconda3/lib/python3.7/site-packages/numpy/core/fromnumeric.py:2495: FutureWarning: Method .ptp is deprecated and will be removed in a future version. Use numpy.ptp instead.\n",
      "  return ptp(axis=axis, out=out, **kwargs)\n"
     ]
    },
    {
     "data": {
      "text/plain": [
       "const               0.000000e+00\n",
       "minsAsleep          6.889756e-10\n",
       "lowRangeCal         0.000000e+00\n",
       "fatBurnCal          0.000000e+00\n",
       "cardioCal           1.232244e-02\n",
       "peakCal             5.250059e-03\n",
       "lowRangeMins        9.033844e-56\n",
       "fatBurnMins         0.000000e+00\n",
       "cardioMins          2.330473e-14\n",
       "peakMins            3.537244e-03\n",
       "efficiency          2.437482e-02\n",
       "restlessDuration    1.008485e-26\n",
       "dtype: float64"
      ]
     },
     "execution_count": 115,
     "metadata": {},
     "output_type": "execute_result"
    }
   ],
   "source": [
    "#Adding constant column of ones, mandatory for sm.OLS model\n",
    "X_1_hr = sm.add_constant(X_hr)\n",
    "#Fitting sm.OLS model\n",
    "model = sm.OLS(y_hr,X_1_hr).fit()\n",
    "model.pvalues"
   ]
  },
  {
   "cell_type": "code",
   "execution_count": 116,
   "metadata": {},
   "outputs": [
    {
     "name": "stderr",
     "output_type": "stream",
     "text": [
      "/Users/mollygiglia/anaconda3/lib/python3.7/site-packages/sklearn/model_selection/_split.py:1978: FutureWarning: The default value of cv will change from 3 to 5 in version 0.22. Specify it explicitly to silence this warning.\n",
      "  warnings.warn(CV_WARNING, FutureWarning)\n"
     ]
    },
    {
     "name": "stdout",
     "output_type": "stream",
     "text": [
      "Best alpha using built-in LassoCV: 2.631421\n",
      "Best score using built-in LassoCV: 0.421280\n",
      "Lasso picked 7 variables and eliminated the other 4 variables\n"
     ]
    }
   ],
   "source": [
    "reg = LassoCV()\n",
    "reg.fit(X_hr, y_hr)\n",
    "print(\"Best alpha using built-in LassoCV: %f\" % reg.alpha_)\n",
    "print(\"Best score using built-in LassoCV: %f\" %reg.score(X_hr,y_hr))\n",
    "coef_hr = pd.Series(reg.coef_, index = X_hr.columns)\n",
    "print(\"Lasso picked \" + str(sum(coef_hr != 0)) + \" variables and eliminated the other \" +  str(sum(coef_hr == 0)) + \" variables\")"
   ]
  },
  {
   "cell_type": "code",
   "execution_count": 117,
   "metadata": {},
   "outputs": [
    {
     "data": {
      "text/plain": [
       "Text(0.5, 1.0, 'Feature importance using Lasso Model')"
      ]
     },
     "execution_count": 117,
     "metadata": {},
     "output_type": "execute_result"
    },
    {
     "data": {
      "image/png": "[encoded data removed]",
      "text/plain": [
       "<Figure size 576x720 with 1 Axes>"
      ]
     },
     "metadata": {
      "needs_background": "light"
     },
     "output_type": "display_data"
    }
   ],
   "source": [
    "imp_coef = coef_hr.sort_values()\n",
    "matplotlib.rcParams['figure.figsize'] = (8.0, 10.0)\n",
    "imp_coef.plot(kind = \"barh\")\n",
    "plt.title(\"Feature importance using Lasso Model\")"
   ]
  },
  {
   "cell_type": "code",
   "execution_count": null,
   "metadata": {},
   "outputs": [],
   "source": []
  }
 ],
 "metadata": {
  "kernelspec": {
   "display_name": "Python 3",
   "language": "python",
   "name": "python3"
  },
  "language_info": {
   "codemirror_mode": {
    "name": "ipython",
    "version": 3
   },
   "file_extension": ".py",
   "mimetype": "text/x-python",
   "name": "python",
   "nbconvert_exporter": "python",
   "pygments_lexer": "ipython3",
   "version": "3.7.4"
  }
 },
 "nbformat": 4,
 "nbformat_minor": 2
}
