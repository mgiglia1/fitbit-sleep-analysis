{
 "cells": [
  {
   "cell_type": "code",
   "execution_count": 1,
   "metadata": {},
   "outputs": [],
   "source": [
    "import pandas as pd\n",
    "import matplotlib.pyplot as plt\n",
    "import numpy as np\n",
    "%matplotlib inline\n",
    "import statsmodels.api as sm # import statsmodels \n",
    "from sklearn import linear_model\n",
    "from scipy import stats"
   ]
  },
  {
   "cell_type": "code",
   "execution_count": 2,
   "metadata": {},
   "outputs": [],
   "source": [
    "df = pd.read_csv('full.csv')\n",
    "df = df[df['isMainSleep'] == 1]"
   ]
  },
  {
   "cell_type": "code",
   "execution_count": 78,
   "metadata": {},
   "outputs": [
    {
     "data": {
      "text/plain": [
       "195"
      ]
     },
     "execution_count": 78,
     "metadata": {},
     "output_type": "execute_result"
    }
   ],
   "source": [
    "len(df.participID.unique())"
   ]
  },
  {
   "cell_type": "markdown",
   "metadata": {},
   "source": [
    "## Efficiency\n",
    "This notebook will focus on the \"efficiency\" metric given by Fitbit, since it is a measure of sleep quality that is able to be aggregated and averaged (unlike bedtime/wakeup time). According to the Fitbit community page, efficiency is calculated by the following:\n",
    "\n",
    "\n",
    "efficiency = time asleep / (total time in bed - time to fall asleep)"
   ]
  },
  {
   "cell_type": "code",
   "execution_count": 3,
   "metadata": {},
   "outputs": [],
   "source": [
    "eff = df['efficiency']"
   ]
  },
  {
   "cell_type": "code",
   "execution_count": 4,
   "metadata": {},
   "outputs": [
    {
     "data": {
      "image/png": "[encoded data removed]",
      "text/plain": [
       "<Figure size 432x288 with 1 Axes>"
      ]
     },
     "metadata": {
      "needs_background": "light"
     },
     "output_type": "display_data"
    }
   ],
   "source": [
    "eff.hist(bins = 200);"
   ]
  },
  {
   "cell_type": "markdown",
   "metadata": {},
   "source": [
    "## Histogram\n",
    "This is a distribution of all efficiency scores from August to May of the academic year 2015-2016. The distribution is centered around 95-96% efficiency. Although efficiency scores are shown to also commonly be closer to 100 or in the low 90%s, since they're all relatively high, is efficiency enough of a differentiating factor to analyze?"
   ]
  },
  {
   "cell_type": "code",
   "execution_count": 5,
   "metadata": {},
   "outputs": [
    {
     "data": {
      "text/html": [
       "<div>\n",
       "<style scoped>\n",
       "    .dataframe tbody tr th:only-of-type {\n",
       "        vertical-align: middle;\n",
       "    }\n",
       "\n",
       "    .dataframe tbody tr th {\n",
       "        vertical-align: top;\n",
       "    }\n",
       "\n",
       "    .dataframe thead th {\n",
       "        text-align: right;\n",
       "    }\n",
       "</style>\n",
       "<table border=\"1\" class=\"dataframe\">\n",
       "  <thead>\n",
       "    <tr style=\"text-align: right;\">\n",
       "      <th></th>\n",
       "      <th>idStudy</th>\n",
       "      <th>participID</th>\n",
       "      <th>dataDate</th>\n",
       "      <th>dataTime</th>\n",
       "      <th>fetchStamp</th>\n",
       "      <th>overallResultValue</th>\n",
       "      <th>heartMinsFound</th>\n",
       "      <th>sleepMinsFound</th>\n",
       "      <th>calMinsFound</th>\n",
       "      <th>stepMinsFound</th>\n",
       "      <th>...</th>\n",
       "      <th>timeInBed</th>\n",
       "      <th>minsAsleep</th>\n",
       "      <th>awakeDuration</th>\n",
       "      <th>efficiency</th>\n",
       "      <th>restlessCount</th>\n",
       "      <th>durationMS</th>\n",
       "      <th>restlessDuration</th>\n",
       "      <th>awakeCount</th>\n",
       "      <th>minutesAfterWakeup</th>\n",
       "      <th>month</th>\n",
       "    </tr>\n",
       "  </thead>\n",
       "  <tbody>\n",
       "    <tr>\n",
       "      <td>0</td>\n",
       "      <td>6178</td>\n",
       "      <td>3LZGLG</td>\n",
       "      <td>2015-08-25</td>\n",
       "      <td>00:00:00</td>\n",
       "      <td>1441145130</td>\n",
       "      <td>3</td>\n",
       "      <td>1331</td>\n",
       "      <td>440</td>\n",
       "      <td>1440</td>\n",
       "      <td>1440</td>\n",
       "      <td>...</td>\n",
       "      <td>440</td>\n",
       "      <td>423</td>\n",
       "      <td>1</td>\n",
       "      <td>97</td>\n",
       "      <td>10</td>\n",
       "      <td>26400000</td>\n",
       "      <td>16</td>\n",
       "      <td>1</td>\n",
       "      <td>0</td>\n",
       "      <td>08</td>\n",
       "    </tr>\n",
       "    <tr>\n",
       "      <td>1</td>\n",
       "      <td>6179</td>\n",
       "      <td>3LZGLG</td>\n",
       "      <td>2015-08-26</td>\n",
       "      <td>00:00:00</td>\n",
       "      <td>1441145132</td>\n",
       "      <td>3</td>\n",
       "      <td>1424</td>\n",
       "      <td>434</td>\n",
       "      <td>1440</td>\n",
       "      <td>1440</td>\n",
       "      <td>...</td>\n",
       "      <td>434</td>\n",
       "      <td>417</td>\n",
       "      <td>1</td>\n",
       "      <td>96</td>\n",
       "      <td>8</td>\n",
       "      <td>26040000</td>\n",
       "      <td>16</td>\n",
       "      <td>1</td>\n",
       "      <td>0</td>\n",
       "      <td>08</td>\n",
       "    </tr>\n",
       "    <tr>\n",
       "      <td>2</td>\n",
       "      <td>6180</td>\n",
       "      <td>3LZGLG</td>\n",
       "      <td>2015-08-27</td>\n",
       "      <td>00:00:00</td>\n",
       "      <td>1441145134</td>\n",
       "      <td>3</td>\n",
       "      <td>1412</td>\n",
       "      <td>469</td>\n",
       "      <td>1440</td>\n",
       "      <td>1440</td>\n",
       "      <td>...</td>\n",
       "      <td>469</td>\n",
       "      <td>431</td>\n",
       "      <td>2</td>\n",
       "      <td>95</td>\n",
       "      <td>12</td>\n",
       "      <td>28140000</td>\n",
       "      <td>36</td>\n",
       "      <td>1</td>\n",
       "      <td>11</td>\n",
       "      <td>08</td>\n",
       "    </tr>\n",
       "    <tr>\n",
       "      <td>3</td>\n",
       "      <td>6181</td>\n",
       "      <td>3LZGLG</td>\n",
       "      <td>2015-08-28</td>\n",
       "      <td>00:00:00</td>\n",
       "      <td>1441145136</td>\n",
       "      <td>3</td>\n",
       "      <td>1350</td>\n",
       "      <td>354</td>\n",
       "      <td>1440</td>\n",
       "      <td>1440</td>\n",
       "      <td>...</td>\n",
       "      <td>354</td>\n",
       "      <td>339</td>\n",
       "      <td>1</td>\n",
       "      <td>97</td>\n",
       "      <td>8</td>\n",
       "      <td>21240000</td>\n",
       "      <td>14</td>\n",
       "      <td>1</td>\n",
       "      <td>0</td>\n",
       "      <td>08</td>\n",
       "    </tr>\n",
       "    <tr>\n",
       "      <td>4</td>\n",
       "      <td>6182</td>\n",
       "      <td>3LZGLG</td>\n",
       "      <td>2015-08-29</td>\n",
       "      <td>00:00:00</td>\n",
       "      <td>1441145138</td>\n",
       "      <td>3</td>\n",
       "      <td>1417</td>\n",
       "      <td>502</td>\n",
       "      <td>1440</td>\n",
       "      <td>1440</td>\n",
       "      <td>...</td>\n",
       "      <td>435</td>\n",
       "      <td>376</td>\n",
       "      <td>8</td>\n",
       "      <td>90</td>\n",
       "      <td>16</td>\n",
       "      <td>26100000</td>\n",
       "      <td>51</td>\n",
       "      <td>2</td>\n",
       "      <td>0</td>\n",
       "      <td>08</td>\n",
       "    </tr>\n",
       "  </tbody>\n",
       "</table>\n",
       "<p>5 rows × 61 columns</p>\n",
       "</div>"
      ],
      "text/plain": [
       "   idStudy participID    dataDate  dataTime  fetchStamp  overallResultValue  \\\n",
       "0     6178     3LZGLG  2015-08-25  00:00:00  1441145130                   3   \n",
       "1     6179     3LZGLG  2015-08-26  00:00:00  1441145132                   3   \n",
       "2     6180     3LZGLG  2015-08-27  00:00:00  1441145134                   3   \n",
       "3     6181     3LZGLG  2015-08-28  00:00:00  1441145136                   3   \n",
       "4     6182     3LZGLG  2015-08-29  00:00:00  1441145138                   3   \n",
       "\n",
       "   heartMinsFound  sleepMinsFound  calMinsFound  stepMinsFound  ... timeInBed  \\\n",
       "0            1331             440          1440           1440  ...       440   \n",
       "1            1424             434          1440           1440  ...       434   \n",
       "2            1412             469          1440           1440  ...       469   \n",
       "3            1350             354          1440           1440  ...       354   \n",
       "4            1417             502          1440           1440  ...       435   \n",
       "\n",
       "   minsAsleep  awakeDuration efficiency restlessCount durationMS  \\\n",
       "0         423              1         97            10   26400000   \n",
       "1         417              1         96             8   26040000   \n",
       "2         431              2         95            12   28140000   \n",
       "3         339              1         97             8   21240000   \n",
       "4         376              8         90            16   26100000   \n",
       "\n",
       "  restlessDuration awakeCount minutesAfterWakeup month  \n",
       "0               16          1                  0    08  \n",
       "1               16          1                  0    08  \n",
       "2               36          1                 11    08  \n",
       "3               14          1                  0    08  \n",
       "4               51          2                  0    08  \n",
       "\n",
       "[5 rows x 61 columns]"
      ]
     },
     "execution_count": 5,
     "metadata": {},
     "output_type": "execute_result"
    }
   ],
   "source": [
    "df['month'] = df['dataDate'].apply(lambda x: x.split('-')[1])\n",
    "df.head()"
   ]
  },
  {
   "cell_type": "code",
   "execution_count": 6,
   "metadata": {},
   "outputs": [],
   "source": [
    "data = {\n",
    "'08': list(df[df['month'] == '08'].efficiency),\n",
    "'09': list(df[df['month'] == '09'].efficiency),\n",
    "'10': list(df[df['month'] == '10'].efficiency),\n",
    "'11': list(df[df['month'] == '11'].efficiency),\n",
    "'12': list(df[df['month'] == '12'].efficiency),\n",
    "'01': list(df[df['month'] == '01'].efficiency),\n",
    "'02': list(df[df['month'] == '02'].efficiency),\n",
    "'03': list(df[df['month'] == '03'].efficiency),\n",
    "'04': list(df[df['month'] == '04'].efficiency),\n",
    "'05': list(df[df['month'] == '05'].efficiency)\n",
    "       }"
   ]
  },
  {
   "cell_type": "code",
   "execution_count": 7,
   "metadata": {},
   "outputs": [
    {
     "data": {
      "image/png": "[encoded data removed]",
      "text/plain": [
       "<Figure size 432x288 with 1 Axes>"
      ]
     },
     "metadata": {
      "needs_background": "light"
     },
     "output_type": "display_data"
    }
   ],
   "source": [
    "plt.boxplot([data['08'], data['09'], data['10'], data['11'], data['12'], data['01'], data['02'], data['03'], data['04'], data['05']], 0, '');\n",
    "plt.xticks(np.arange(11), ('', 'Aug', 'Sep', 'Oct', 'Nov', 'Dec', 'Jan', 'Feb', 'Mar', 'Apr', 'May'));\n",
    "plt.show()"
   ]
  },
  {
   "cell_type": "markdown",
   "metadata": {},
   "source": [
    "## Boxplots\n",
    "This shows the distribution of efficiency scores throughout the school year. Again, it's hard to tell if the differences seen are significant, but it does apprear that the months of October, November, and January have lower average efficiency scores. Could this have something to do with weather as a contributing factor? Perhaps people aren't as active and therefore sleep worse. Oct/Nov/Dec also show a wider range of efficiencies than the other months. "
   ]
  },
  {
   "cell_type": "markdown",
   "metadata": {},
   "source": [
    "## Connecting to Activity Level\n",
    "I first tried comparing these boxplots to values from the HeartMeta table. I first plotted distributions of cardio minutes over each month, but there wasn't enough data, most months averaged around 0. I would like to connect to step count. However, unlike sleepMeta and heartMeta, which summarizes sleep and heart data into ~1 entry per person per day, the Activity table has updated timestamps every minute with new steps, and I need to figure out how to aggregate into one entry per day with total steps per person. "
   ]
  },
  {
   "cell_type": "code",
   "execution_count": 8,
   "metadata": {},
   "outputs": [
    {
     "data": {
      "text/plain": [
       "<matplotlib.axes._subplots.AxesSubplot at 0x1c273b1750>"
      ]
     },
     "execution_count": 8,
     "metadata": {},
     "output_type": "execute_result"
    },
    {
     "data": {
      "image/png": "[encoded data removed]",
      "text/plain": [
       "<Figure size 432x288 with 1 Axes>"
      ]
     },
     "metadata": {
      "needs_background": "light"
     },
     "output_type": "display_data"
    }
   ],
   "source": [
    "df['cardioMins'].hist(bins = 100)"
   ]
  },
  {
   "cell_type": "code",
   "execution_count": 9,
   "metadata": {},
   "outputs": [
    {
     "data": {
      "text/plain": [
       "<matplotlib.axes._subplots.AxesSubplot at 0x1c22cd2bd0>"
      ]
     },
     "execution_count": 9,
     "metadata": {},
     "output_type": "execute_result"
    },
    {
     "data": {
      "image/png": "[encoded data removed]",
      "text/plain": [
       "<Figure size 432x288 with 1 Axes>"
      ]
     },
     "metadata": {
      "needs_background": "light"
     },
     "output_type": "display_data"
    }
   ],
   "source": [
    "df['fatBurnMins'].hist(bins = 100)"
   ]
  },
  {
   "cell_type": "code",
   "execution_count": 10,
   "metadata": {},
   "outputs": [],
   "source": [
    "data_fatburn = {\n",
    "'08': list(df[df['month'] == '08'].fatBurnMins),\n",
    "'09': list(df[df['month'] == '09'].fatBurnMins),\n",
    "'10': list(df[df['month'] == '10'].fatBurnMins),\n",
    "'11': list(df[df['month'] == '11'].fatBurnMins),\n",
    "'12': list(df[df['month'] == '12'].fatBurnMins),\n",
    "'01': list(df[df['month'] == '01'].fatBurnMins),\n",
    "'02': list(df[df['month'] == '02'].fatBurnMins),\n",
    "'03': list(df[df['month'] == '03'].fatBurnMins),\n",
    "'04': list(df[df['month'] == '04'].fatBurnMins),\n",
    "'05': list(df[df['month'] == '05'].fatBurnMins)\n",
    "       }"
   ]
  },
  {
   "cell_type": "code",
   "execution_count": 11,
   "metadata": {},
   "outputs": [
    {
     "data": {
      "image/png": "[encoded data removed]",
      "text/plain": [
       "<Figure size 432x288 with 1 Axes>"
      ]
     },
     "metadata": {
      "needs_background": "light"
     },
     "output_type": "display_data"
    }
   ],
   "source": [
    "plt.boxplot([data_fatburn['08'], data_fatburn['09'], data_fatburn['10'], data_fatburn['11'], data_fatburn['12'], data_fatburn['01'], data_fatburn['02'], data_fatburn['03'], data_fatburn['04'], data_fatburn['05']], 0, '');\n",
    "plt.xticks(np.arange(11), ('', 'Aug', 'Sep', 'Oct', 'Nov', 'Dec', 'Jan', 'Feb', 'Mar', 'Apr', 'May'));\n",
    "plt.show()"
   ]
  },
  {
   "cell_type": "markdown",
   "metadata": {},
   "source": [
    "## Results\n",
    "Again, it's difficult to tell how much variation is significant, but these boxplots to mirror the slight increase in efficiency from Jan to Feb and from Mar to Apr."
   ]
  },
  {
   "cell_type": "code",
   "execution_count": 12,
   "metadata": {},
   "outputs": [
    {
     "data": {
      "text/plain": [
       "Index(['idStudy', 'participID', 'dataDate', 'dataTime', 'fetchStamp',\n",
       "       'overallResultValue', 'heartMinsFound', 'sleepMinsFound',\n",
       "       'calMinsFound', 'stepMinsFound', 'lastComplyRunDate',\n",
       "       'includeThreshold', 'complyPercent', 'lastSyncDate', 'lastSyncTime',\n",
       "       'currentBattLevel', 'idParticip', 'username', 'pswd', 'oAuthToken',\n",
       "       'oAuthSecret', 'startDate', 'inStudy', 'accessToken', 'refreshToken',\n",
       "       'idHeartMeta', 'studyID_heart', 'lowRangeCal', 'lowRangeMax',\n",
       "       'lowRangeMin', 'lowRangeMins', 'fatBurnCal', 'fatBurnMax', 'fatBurnMin',\n",
       "       'fatBurnMins', 'cardioCal', 'cardioMax', 'cardioMin', 'cardioMins',\n",
       "       'peakCal', 'peakMax', 'peakMin', 'peakMins', 'restHeart', 'idSleepMeta',\n",
       "       'studyID_sleep', 'startTime', 'isMainSleep', 'minToFallAsleep',\n",
       "       'numAwakeTimes', 'minsAwake', 'timeInBed', 'minsAsleep',\n",
       "       'awakeDuration', 'efficiency', 'restlessCount', 'durationMS',\n",
       "       'restlessDuration', 'awakeCount', 'minutesAfterWakeup', 'month'],\n",
       "      dtype='object')"
      ]
     },
     "execution_count": 12,
     "metadata": {},
     "output_type": "execute_result"
    }
   ],
   "source": [
    "df.columns"
   ]
  },
  {
   "cell_type": "code",
   "execution_count": 13,
   "metadata": {},
   "outputs": [],
   "source": [
    "df['calc'] = df.apply(lambda x: 0 if (x.minsAsleep + x.minsAwake) == 0 else x.minsAsleep/(x.minsAsleep + x.minsAwake), axis = 1)"
   ]
  },
  {
   "cell_type": "code",
   "execution_count": 14,
   "metadata": {},
   "outputs": [
    {
     "data": {
      "text/html": [
       "<div>\n",
       "<style scoped>\n",
       "    .dataframe tbody tr th:only-of-type {\n",
       "        vertical-align: middle;\n",
       "    }\n",
       "\n",
       "    .dataframe tbody tr th {\n",
       "        vertical-align: top;\n",
       "    }\n",
       "\n",
       "    .dataframe thead th {\n",
       "        text-align: right;\n",
       "    }\n",
       "</style>\n",
       "<table border=\"1\" class=\"dataframe\">\n",
       "  <thead>\n",
       "    <tr style=\"text-align: right;\">\n",
       "      <th></th>\n",
       "      <th>minToFallAsleep</th>\n",
       "      <th>timeInBed</th>\n",
       "      <th>minsAsleep</th>\n",
       "      <th>efficiency</th>\n",
       "      <th>calc</th>\n",
       "    </tr>\n",
       "  </thead>\n",
       "  <tbody>\n",
       "    <tr>\n",
       "      <td>0</td>\n",
       "      <td>0</td>\n",
       "      <td>440</td>\n",
       "      <td>423</td>\n",
       "      <td>97</td>\n",
       "      <td>0.967963</td>\n",
       "    </tr>\n",
       "    <tr>\n",
       "      <td>1</td>\n",
       "      <td>0</td>\n",
       "      <td>434</td>\n",
       "      <td>417</td>\n",
       "      <td>96</td>\n",
       "      <td>0.963048</td>\n",
       "    </tr>\n",
       "    <tr>\n",
       "      <td>2</td>\n",
       "      <td>0</td>\n",
       "      <td>469</td>\n",
       "      <td>431</td>\n",
       "      <td>95</td>\n",
       "      <td>0.947253</td>\n",
       "    </tr>\n",
       "    <tr>\n",
       "      <td>3</td>\n",
       "      <td>0</td>\n",
       "      <td>354</td>\n",
       "      <td>339</td>\n",
       "      <td>97</td>\n",
       "      <td>0.974138</td>\n",
       "    </tr>\n",
       "    <tr>\n",
       "      <td>4</td>\n",
       "      <td>0</td>\n",
       "      <td>435</td>\n",
       "      <td>376</td>\n",
       "      <td>90</td>\n",
       "      <td>0.897375</td>\n",
       "    </tr>\n",
       "    <tr>\n",
       "      <td>...</td>\n",
       "      <td>...</td>\n",
       "      <td>...</td>\n",
       "      <td>...</td>\n",
       "      <td>...</td>\n",
       "      <td>...</td>\n",
       "    </tr>\n",
       "    <tr>\n",
       "      <td>39459</td>\n",
       "      <td>0</td>\n",
       "      <td>421</td>\n",
       "      <td>385</td>\n",
       "      <td>91</td>\n",
       "      <td>0.914489</td>\n",
       "    </tr>\n",
       "    <tr>\n",
       "      <td>39460</td>\n",
       "      <td>0</td>\n",
       "      <td>418</td>\n",
       "      <td>379</td>\n",
       "      <td>91</td>\n",
       "      <td>0.906699</td>\n",
       "    </tr>\n",
       "    <tr>\n",
       "      <td>39461</td>\n",
       "      <td>0</td>\n",
       "      <td>702</td>\n",
       "      <td>622</td>\n",
       "      <td>89</td>\n",
       "      <td>0.886040</td>\n",
       "    </tr>\n",
       "    <tr>\n",
       "      <td>39462</td>\n",
       "      <td>0</td>\n",
       "      <td>410</td>\n",
       "      <td>380</td>\n",
       "      <td>93</td>\n",
       "      <td>0.933661</td>\n",
       "    </tr>\n",
       "    <tr>\n",
       "      <td>39463</td>\n",
       "      <td>0</td>\n",
       "      <td>322</td>\n",
       "      <td>309</td>\n",
       "      <td>96</td>\n",
       "      <td>0.959627</td>\n",
       "    </tr>\n",
       "  </tbody>\n",
       "</table>\n",
       "<p>33339 rows × 5 columns</p>\n",
       "</div>"
      ],
      "text/plain": [
       "       minToFallAsleep  timeInBed  minsAsleep  efficiency      calc\n",
       "0                    0        440         423          97  0.967963\n",
       "1                    0        434         417          96  0.963048\n",
       "2                    0        469         431          95  0.947253\n",
       "3                    0        354         339          97  0.974138\n",
       "4                    0        435         376          90  0.897375\n",
       "...                ...        ...         ...         ...       ...\n",
       "39459                0        421         385          91  0.914489\n",
       "39460                0        418         379          91  0.906699\n",
       "39461                0        702         622          89  0.886040\n",
       "39462                0        410         380          93  0.933661\n",
       "39463                0        322         309          96  0.959627\n",
       "\n",
       "[33339 rows x 5 columns]"
      ]
     },
     "execution_count": 14,
     "metadata": {},
     "output_type": "execute_result"
    }
   ],
   "source": [
    "df[['minToFallAsleep', 'timeInBed', 'minsAsleep', 'efficiency', 'calc']]"
   ]
  },
  {
   "cell_type": "markdown",
   "metadata": {},
   "source": [
    "## Efficiency?\n",
    "I calculated efficiency based on the formula given in the fitbit community page, and the results were different from the efficiency score. Some are off by ~1%, others off by much more (like the 90% vs. 86%). I got matching efficiency calculations by doing Mins Asleep / (min asleep + mins awake), so how much of your \"sleeping time\" was spent in a sleep stage vs awake"
   ]
  },
  {
   "cell_type": "markdown",
   "metadata": {},
   "source": [
    "## Doing Histograms by Week instead of Month"
   ]
  },
  {
   "cell_type": "code",
   "execution_count": 15,
   "metadata": {},
   "outputs": [],
   "source": [
    "df['week_start'] = pd.to_datetime(df['dataDate']).dt.to_period('W').apply(lambda r: r.start_time)"
   ]
  },
  {
   "cell_type": "code",
   "execution_count": 16,
   "metadata": {},
   "outputs": [],
   "source": [
    "y = df.pivot(columns='week_start', values='efficiency')"
   ]
  },
  {
   "cell_type": "code",
   "execution_count": 17,
   "metadata": {},
   "outputs": [
    {
     "data": {
      "text/plain": [
       "(array([ 1,  2,  3,  4,  5,  6,  7,  8,  9, 10, 11, 12, 13, 14, 15, 16, 17,\n",
       "        18, 19, 20, 21, 22, 23, 24, 25, 26, 27, 28, 29, 30, 31, 32, 33, 34,\n",
       "        35, 36, 37]), <a list of 37 Text xticklabel objects>)"
      ]
     },
     "execution_count": 17,
     "metadata": {},
     "output_type": "execute_result"
    },
    {
     "data": {
      "image/png": "[encoded data removed]",
      "text/plain": [
       "<Figure size 1080x1080 with 1 Axes>"
      ]
     },
     "metadata": {
      "needs_background": "light"
     },
     "output_type": "display_data"
    }
   ],
   "source": [
    "y.boxplot(showfliers = False, figsize= (15, 15))\n",
    "plt.xticks(rotation=90)"
   ]
  },
  {
   "cell_type": "markdown",
   "metadata": {},
   "source": [
    "## Histograms by day of week\n",
    "there doesn't seem to be any change in average efficiency on weekdays vs. weekends, although saturday and sunday (as well as thursday) do have a wider distribution of efficiencies."
   ]
  },
  {
   "cell_type": "code",
   "execution_count": 18,
   "metadata": {},
   "outputs": [],
   "source": [
    "df['dayofweek']= pd.to_datetime(df['dataDate']).dt.day_name()"
   ]
  },
  {
   "cell_type": "code",
   "execution_count": 19,
   "metadata": {},
   "outputs": [],
   "source": [
    "x =df.pivot(columns='dayofweek', values='efficiency')"
   ]
  },
  {
   "cell_type": "code",
   "execution_count": 20,
   "metadata": {},
   "outputs": [
    {
     "data": {
      "text/plain": [
       "<matplotlib.axes._subplots.AxesSubplot at 0x1c22ea58d0>"
      ]
     },
     "execution_count": 20,
     "metadata": {},
     "output_type": "execute_result"
    },
    {
     "data": {
      "image/png": "[encoded data removed]",
      "text/plain": [
       "<Figure size 432x288 with 1 Axes>"
      ]
     },
     "metadata": {
      "needs_background": "light"
     },
     "output_type": "display_data"
    }
   ],
   "source": [
    "x.boxplot(showfliers=False)"
   ]
  },
  {
   "cell_type": "code",
   "execution_count": 21,
   "metadata": {},
   "outputs": [
    {
     "data": {
      "text/html": [
       "<div>\n",
       "<style scoped>\n",
       "    .dataframe tbody tr th:only-of-type {\n",
       "        vertical-align: middle;\n",
       "    }\n",
       "\n",
       "    .dataframe tbody tr th {\n",
       "        vertical-align: top;\n",
       "    }\n",
       "\n",
       "    .dataframe thead th {\n",
       "        text-align: right;\n",
       "    }\n",
       "</style>\n",
       "<table border=\"1\" class=\"dataframe\">\n",
       "  <thead>\n",
       "    <tr style=\"text-align: right;\">\n",
       "      <th></th>\n",
       "      <th>idStudy</th>\n",
       "      <th>participID</th>\n",
       "      <th>dataDate</th>\n",
       "      <th>dataTime</th>\n",
       "      <th>fetchStamp</th>\n",
       "      <th>overallResultValue</th>\n",
       "      <th>heartMinsFound</th>\n",
       "      <th>sleepMinsFound</th>\n",
       "      <th>calMinsFound</th>\n",
       "      <th>stepMinsFound</th>\n",
       "      <th>...</th>\n",
       "      <th>efficiency</th>\n",
       "      <th>restlessCount</th>\n",
       "      <th>durationMS</th>\n",
       "      <th>restlessDuration</th>\n",
       "      <th>awakeCount</th>\n",
       "      <th>minutesAfterWakeup</th>\n",
       "      <th>month</th>\n",
       "      <th>calc</th>\n",
       "      <th>week_start</th>\n",
       "      <th>dayofweek</th>\n",
       "    </tr>\n",
       "  </thead>\n",
       "  <tbody>\n",
       "    <tr>\n",
       "      <td>0</td>\n",
       "      <td>6178</td>\n",
       "      <td>3LZGLG</td>\n",
       "      <td>2015-08-25</td>\n",
       "      <td>00:00:00</td>\n",
       "      <td>1441145130</td>\n",
       "      <td>3</td>\n",
       "      <td>1331</td>\n",
       "      <td>440</td>\n",
       "      <td>1440</td>\n",
       "      <td>1440</td>\n",
       "      <td>...</td>\n",
       "      <td>97</td>\n",
       "      <td>10</td>\n",
       "      <td>26400000</td>\n",
       "      <td>16</td>\n",
       "      <td>1</td>\n",
       "      <td>0</td>\n",
       "      <td>08</td>\n",
       "      <td>0.967963</td>\n",
       "      <td>2015-08-24</td>\n",
       "      <td>Tuesday</td>\n",
       "    </tr>\n",
       "    <tr>\n",
       "      <td>1</td>\n",
       "      <td>6179</td>\n",
       "      <td>3LZGLG</td>\n",
       "      <td>2015-08-26</td>\n",
       "      <td>00:00:00</td>\n",
       "      <td>1441145132</td>\n",
       "      <td>3</td>\n",
       "      <td>1424</td>\n",
       "      <td>434</td>\n",
       "      <td>1440</td>\n",
       "      <td>1440</td>\n",
       "      <td>...</td>\n",
       "      <td>96</td>\n",
       "      <td>8</td>\n",
       "      <td>26040000</td>\n",
       "      <td>16</td>\n",
       "      <td>1</td>\n",
       "      <td>0</td>\n",
       "      <td>08</td>\n",
       "      <td>0.963048</td>\n",
       "      <td>2015-08-24</td>\n",
       "      <td>Wednesday</td>\n",
       "    </tr>\n",
       "    <tr>\n",
       "      <td>2</td>\n",
       "      <td>6180</td>\n",
       "      <td>3LZGLG</td>\n",
       "      <td>2015-08-27</td>\n",
       "      <td>00:00:00</td>\n",
       "      <td>1441145134</td>\n",
       "      <td>3</td>\n",
       "      <td>1412</td>\n",
       "      <td>469</td>\n",
       "      <td>1440</td>\n",
       "      <td>1440</td>\n",
       "      <td>...</td>\n",
       "      <td>95</td>\n",
       "      <td>12</td>\n",
       "      <td>28140000</td>\n",
       "      <td>36</td>\n",
       "      <td>1</td>\n",
       "      <td>11</td>\n",
       "      <td>08</td>\n",
       "      <td>0.947253</td>\n",
       "      <td>2015-08-24</td>\n",
       "      <td>Thursday</td>\n",
       "    </tr>\n",
       "    <tr>\n",
       "      <td>3</td>\n",
       "      <td>6181</td>\n",
       "      <td>3LZGLG</td>\n",
       "      <td>2015-08-28</td>\n",
       "      <td>00:00:00</td>\n",
       "      <td>1441145136</td>\n",
       "      <td>3</td>\n",
       "      <td>1350</td>\n",
       "      <td>354</td>\n",
       "      <td>1440</td>\n",
       "      <td>1440</td>\n",
       "      <td>...</td>\n",
       "      <td>97</td>\n",
       "      <td>8</td>\n",
       "      <td>21240000</td>\n",
       "      <td>14</td>\n",
       "      <td>1</td>\n",
       "      <td>0</td>\n",
       "      <td>08</td>\n",
       "      <td>0.974138</td>\n",
       "      <td>2015-08-24</td>\n",
       "      <td>Friday</td>\n",
       "    </tr>\n",
       "    <tr>\n",
       "      <td>4</td>\n",
       "      <td>6182</td>\n",
       "      <td>3LZGLG</td>\n",
       "      <td>2015-08-29</td>\n",
       "      <td>00:00:00</td>\n",
       "      <td>1441145138</td>\n",
       "      <td>3</td>\n",
       "      <td>1417</td>\n",
       "      <td>502</td>\n",
       "      <td>1440</td>\n",
       "      <td>1440</td>\n",
       "      <td>...</td>\n",
       "      <td>90</td>\n",
       "      <td>16</td>\n",
       "      <td>26100000</td>\n",
       "      <td>51</td>\n",
       "      <td>2</td>\n",
       "      <td>0</td>\n",
       "      <td>08</td>\n",
       "      <td>0.897375</td>\n",
       "      <td>2015-08-24</td>\n",
       "      <td>Saturday</td>\n",
       "    </tr>\n",
       "    <tr>\n",
       "      <td>...</td>\n",
       "      <td>...</td>\n",
       "      <td>...</td>\n",
       "      <td>...</td>\n",
       "      <td>...</td>\n",
       "      <td>...</td>\n",
       "      <td>...</td>\n",
       "      <td>...</td>\n",
       "      <td>...</td>\n",
       "      <td>...</td>\n",
       "      <td>...</td>\n",
       "      <td>...</td>\n",
       "      <td>...</td>\n",
       "      <td>...</td>\n",
       "      <td>...</td>\n",
       "      <td>...</td>\n",
       "      <td>...</td>\n",
       "      <td>...</td>\n",
       "      <td>...</td>\n",
       "      <td>...</td>\n",
       "      <td>...</td>\n",
       "      <td>...</td>\n",
       "    </tr>\n",
       "    <tr>\n",
       "      <td>39459</td>\n",
       "      <td>109693</td>\n",
       "      <td>4GM577</td>\n",
       "      <td>2016-05-02</td>\n",
       "      <td>00:00:00</td>\n",
       "      <td>1462336876</td>\n",
       "      <td>3</td>\n",
       "      <td>1376</td>\n",
       "      <td>421</td>\n",
       "      <td>1440</td>\n",
       "      <td>1440</td>\n",
       "      <td>...</td>\n",
       "      <td>91</td>\n",
       "      <td>18</td>\n",
       "      <td>25260000</td>\n",
       "      <td>33</td>\n",
       "      <td>1</td>\n",
       "      <td>0</td>\n",
       "      <td>05</td>\n",
       "      <td>0.914489</td>\n",
       "      <td>2016-05-02</td>\n",
       "      <td>Monday</td>\n",
       "    </tr>\n",
       "    <tr>\n",
       "      <td>39460</td>\n",
       "      <td>110680</td>\n",
       "      <td>4GM577</td>\n",
       "      <td>2016-05-03</td>\n",
       "      <td>00:00:00</td>\n",
       "      <td>1462509302</td>\n",
       "      <td>3</td>\n",
       "      <td>1306</td>\n",
       "      <td>418</td>\n",
       "      <td>1440</td>\n",
       "      <td>1440</td>\n",
       "      <td>...</td>\n",
       "      <td>91</td>\n",
       "      <td>17</td>\n",
       "      <td>25080000</td>\n",
       "      <td>37</td>\n",
       "      <td>2</td>\n",
       "      <td>0</td>\n",
       "      <td>05</td>\n",
       "      <td>0.906699</td>\n",
       "      <td>2016-05-02</td>\n",
       "      <td>Tuesday</td>\n",
       "    </tr>\n",
       "    <tr>\n",
       "      <td>39461</td>\n",
       "      <td>110681</td>\n",
       "      <td>4GM577</td>\n",
       "      <td>2016-05-04</td>\n",
       "      <td>00:00:00</td>\n",
       "      <td>1462509306</td>\n",
       "      <td>3</td>\n",
       "      <td>1318</td>\n",
       "      <td>702</td>\n",
       "      <td>1440</td>\n",
       "      <td>1440</td>\n",
       "      <td>...</td>\n",
       "      <td>89</td>\n",
       "      <td>22</td>\n",
       "      <td>42120000</td>\n",
       "      <td>40</td>\n",
       "      <td>7</td>\n",
       "      <td>0</td>\n",
       "      <td>05</td>\n",
       "      <td>0.886040</td>\n",
       "      <td>2016-05-02</td>\n",
       "      <td>Wednesday</td>\n",
       "    </tr>\n",
       "    <tr>\n",
       "      <td>39462</td>\n",
       "      <td>111759</td>\n",
       "      <td>4GM577</td>\n",
       "      <td>2016-05-05</td>\n",
       "      <td>00:00:00</td>\n",
       "      <td>1462767919</td>\n",
       "      <td>2</td>\n",
       "      <td>1268</td>\n",
       "      <td>410</td>\n",
       "      <td>1440</td>\n",
       "      <td>1440</td>\n",
       "      <td>...</td>\n",
       "      <td>93</td>\n",
       "      <td>16</td>\n",
       "      <td>24600000</td>\n",
       "      <td>30</td>\n",
       "      <td>0</td>\n",
       "      <td>3</td>\n",
       "      <td>05</td>\n",
       "      <td>0.933661</td>\n",
       "      <td>2016-05-02</td>\n",
       "      <td>Thursday</td>\n",
       "    </tr>\n",
       "    <tr>\n",
       "      <td>39463</td>\n",
       "      <td>111760</td>\n",
       "      <td>4GM577</td>\n",
       "      <td>2016-05-06</td>\n",
       "      <td>00:00:00</td>\n",
       "      <td>1462767922</td>\n",
       "      <td>3</td>\n",
       "      <td>1402</td>\n",
       "      <td>322</td>\n",
       "      <td>1440</td>\n",
       "      <td>1440</td>\n",
       "      <td>...</td>\n",
       "      <td>96</td>\n",
       "      <td>9</td>\n",
       "      <td>19320000</td>\n",
       "      <td>13</td>\n",
       "      <td>0</td>\n",
       "      <td>0</td>\n",
       "      <td>05</td>\n",
       "      <td>0.959627</td>\n",
       "      <td>2016-05-02</td>\n",
       "      <td>Friday</td>\n",
       "    </tr>\n",
       "  </tbody>\n",
       "</table>\n",
       "<p>33339 rows × 64 columns</p>\n",
       "</div>"
      ],
      "text/plain": [
       "       idStudy participID    dataDate  dataTime  fetchStamp  \\\n",
       "0         6178     3LZGLG  2015-08-25  00:00:00  1441145130   \n",
       "1         6179     3LZGLG  2015-08-26  00:00:00  1441145132   \n",
       "2         6180     3LZGLG  2015-08-27  00:00:00  1441145134   \n",
       "3         6181     3LZGLG  2015-08-28  00:00:00  1441145136   \n",
       "4         6182     3LZGLG  2015-08-29  00:00:00  1441145138   \n",
       "...        ...        ...         ...       ...         ...   \n",
       "39459   109693     4GM577  2016-05-02  00:00:00  1462336876   \n",
       "39460   110680     4GM577  2016-05-03  00:00:00  1462509302   \n",
       "39461   110681     4GM577  2016-05-04  00:00:00  1462509306   \n",
       "39462   111759     4GM577  2016-05-05  00:00:00  1462767919   \n",
       "39463   111760     4GM577  2016-05-06  00:00:00  1462767922   \n",
       "\n",
       "       overallResultValue  heartMinsFound  sleepMinsFound  calMinsFound  \\\n",
       "0                       3            1331             440          1440   \n",
       "1                       3            1424             434          1440   \n",
       "2                       3            1412             469          1440   \n",
       "3                       3            1350             354          1440   \n",
       "4                       3            1417             502          1440   \n",
       "...                   ...             ...             ...           ...   \n",
       "39459                   3            1376             421          1440   \n",
       "39460                   3            1306             418          1440   \n",
       "39461                   3            1318             702          1440   \n",
       "39462                   2            1268             410          1440   \n",
       "39463                   3            1402             322          1440   \n",
       "\n",
       "       stepMinsFound  ... efficiency  restlessCount  durationMS  \\\n",
       "0               1440  ...         97             10    26400000   \n",
       "1               1440  ...         96              8    26040000   \n",
       "2               1440  ...         95             12    28140000   \n",
       "3               1440  ...         97              8    21240000   \n",
       "4               1440  ...         90             16    26100000   \n",
       "...              ...  ...        ...            ...         ...   \n",
       "39459           1440  ...         91             18    25260000   \n",
       "39460           1440  ...         91             17    25080000   \n",
       "39461           1440  ...         89             22    42120000   \n",
       "39462           1440  ...         93             16    24600000   \n",
       "39463           1440  ...         96              9    19320000   \n",
       "\n",
       "      restlessDuration awakeCount minutesAfterWakeup month      calc  \\\n",
       "0                   16          1                  0    08  0.967963   \n",
       "1                   16          1                  0    08  0.963048   \n",
       "2                   36          1                 11    08  0.947253   \n",
       "3                   14          1                  0    08  0.974138   \n",
       "4                   51          2                  0    08  0.897375   \n",
       "...                ...        ...                ...   ...       ...   \n",
       "39459               33          1                  0    05  0.914489   \n",
       "39460               37          2                  0    05  0.906699   \n",
       "39461               40          7                  0    05  0.886040   \n",
       "39462               30          0                  3    05  0.933661   \n",
       "39463               13          0                  0    05  0.959627   \n",
       "\n",
       "      week_start  dayofweek  \n",
       "0     2015-08-24    Tuesday  \n",
       "1     2015-08-24  Wednesday  \n",
       "2     2015-08-24   Thursday  \n",
       "3     2015-08-24     Friday  \n",
       "4     2015-08-24   Saturday  \n",
       "...          ...        ...  \n",
       "39459 2016-05-02     Monday  \n",
       "39460 2016-05-02    Tuesday  \n",
       "39461 2016-05-02  Wednesday  \n",
       "39462 2016-05-02   Thursday  \n",
       "39463 2016-05-02     Friday  \n",
       "\n",
       "[33339 rows x 64 columns]"
      ]
     },
     "execution_count": 21,
     "metadata": {},
     "output_type": "execute_result"
    }
   ],
   "source": [
    "df"
   ]
  },
  {
   "cell_type": "code",
   "execution_count": 22,
   "metadata": {},
   "outputs": [
    {
     "data": {
      "text/plain": [
       "(array([ 1,  2,  3,  4,  5,  6,  7,  8,  9, 10, 11, 12, 13, 14, 15, 16, 17,\n",
       "        18, 19, 20, 21, 22, 23, 24, 25, 26, 27, 28, 29, 30, 31, 32, 33, 34,\n",
       "        35, 36, 37]), <a list of 37 Text xticklabel objects>)"
      ]
     },
     "execution_count": 22,
     "metadata": {},
     "output_type": "execute_result"
    },
    {
     "data": {
      "image/png": "[encoded data removed]",
      "text/plain": [
       "<Figure size 1080x1080 with 1 Axes>"
      ]
     },
     "metadata": {
      "needs_background": "light"
     },
     "output_type": "display_data"
    }
   ],
   "source": [
    "z = df.pivot(columns='week_start', values='fatBurnMins')\n",
    "z.boxplot(showfliers = False, figsize= (15, 15))\n",
    "plt.xticks(rotation=90)"
   ]
  },
  {
   "cell_type": "code",
   "execution_count": 23,
   "metadata": {},
   "outputs": [
    {
     "name": "stderr",
     "output_type": "stream",
     "text": [
      "/Users/mollygiglia/anaconda3/lib/python3.7/site-packages/numpy/core/fromnumeric.py:2495: FutureWarning: Method .ptp is deprecated and will be removed in a future version. Use numpy.ptp instead.\n",
      "  return ptp(axis=axis, out=out, **kwargs)\n"
     ]
    },
    {
     "data": {
      "text/html": [
       "<table class=\"simpletable\">\n",
       "<caption>OLS Regression Results</caption>\n",
       "<tr>\n",
       "  <th>Dep. Variable:</th>       <td>efficiency</td>    <th>  R-squared:         </th>  <td>   0.000</td>  \n",
       "</tr>\n",
       "<tr>\n",
       "  <th>Model:</th>                   <td>OLS</td>       <th>  Adj. R-squared:    </th>  <td>  -0.000</td>  \n",
       "</tr>\n",
       "<tr>\n",
       "  <th>Method:</th>             <td>Least Squares</td>  <th>  F-statistic:       </th>  <td> 0.01712</td>  \n",
       "</tr>\n",
       "<tr>\n",
       "  <th>Date:</th>             <td>Wed, 01 Apr 2020</td> <th>  Prob (F-statistic):</th>   <td> 0.896</td>   \n",
       "</tr>\n",
       "<tr>\n",
       "  <th>Time:</th>                 <td>21:00:05</td>     <th>  Log-Likelihood:    </th> <td>-1.0719e+05</td>\n",
       "</tr>\n",
       "<tr>\n",
       "  <th>No. Observations:</th>      <td> 33339</td>      <th>  AIC:               </th>  <td>2.144e+05</td> \n",
       "</tr>\n",
       "<tr>\n",
       "  <th>Df Residuals:</th>          <td> 33337</td>      <th>  BIC:               </th>  <td>2.144e+05</td> \n",
       "</tr>\n",
       "<tr>\n",
       "  <th>Df Model:</th>              <td>     1</td>      <th>                     </th>      <td> </td>     \n",
       "</tr>\n",
       "<tr>\n",
       "  <th>Covariance Type:</th>      <td>nonrobust</td>    <th>                     </th>      <td> </td>     \n",
       "</tr>\n",
       "</table>\n",
       "<table class=\"simpletable\">\n",
       "<tr>\n",
       "       <td></td>          <th>coef</th>     <th>std err</th>      <th>t</th>      <th>P>|t|</th>  <th>[0.025</th>    <th>0.975]</th>  \n",
       "</tr>\n",
       "<tr>\n",
       "  <th>const</th>       <td>   93.5280</td> <td>    0.050</td> <td> 1871.149</td> <td> 0.000</td> <td>   93.430</td> <td>   93.626</td>\n",
       "</tr>\n",
       "<tr>\n",
       "  <th>fatBurnMins</th> <td>  3.97e-05</td> <td>    0.000</td> <td>    0.131</td> <td> 0.896</td> <td>   -0.001</td> <td>    0.001</td>\n",
       "</tr>\n",
       "</table>\n",
       "<table class=\"simpletable\">\n",
       "<tr>\n",
       "  <th>Omnibus:</th>       <td>43171.777</td> <th>  Durbin-Watson:     </th>  <td>   0.891</td>  \n",
       "</tr>\n",
       "<tr>\n",
       "  <th>Prob(Omnibus):</th>  <td> 0.000</td>   <th>  Jarque-Bera (JB):  </th> <td>9962519.149</td>\n",
       "</tr>\n",
       "<tr>\n",
       "  <th>Skew:</th>           <td>-7.218</td>   <th>  Prob(JB):          </th>  <td>    0.00</td>  \n",
       "</tr>\n",
       "<tr>\n",
       "  <th>Kurtosis:</th>       <td>86.447</td>   <th>  Cond. No.          </th>  <td>    249.</td>  \n",
       "</tr>\n",
       "</table><br/><br/>Warnings:<br/>[1] Standard Errors assume that the covariance matrix of the errors is correctly specified."
      ],
      "text/plain": [
       "<class 'statsmodels.iolib.summary.Summary'>\n",
       "\"\"\"\n",
       "                            OLS Regression Results                            \n",
       "==============================================================================\n",
       "Dep. Variable:             efficiency   R-squared:                       0.000\n",
       "Model:                            OLS   Adj. R-squared:                 -0.000\n",
       "Method:                 Least Squares   F-statistic:                   0.01712\n",
       "Date:                Wed, 01 Apr 2020   Prob (F-statistic):              0.896\n",
       "Time:                        21:00:05   Log-Likelihood:            -1.0719e+05\n",
       "No. Observations:               33339   AIC:                         2.144e+05\n",
       "Df Residuals:                   33337   BIC:                         2.144e+05\n",
       "Df Model:                           1                                         \n",
       "Covariance Type:            nonrobust                                         \n",
       "===============================================================================\n",
       "                  coef    std err          t      P>|t|      [0.025      0.975]\n",
       "-------------------------------------------------------------------------------\n",
       "const          93.5280      0.050   1871.149      0.000      93.430      93.626\n",
       "fatBurnMins   3.97e-05      0.000      0.131      0.896      -0.001       0.001\n",
       "==============================================================================\n",
       "Omnibus:                    43171.777   Durbin-Watson:                   0.891\n",
       "Prob(Omnibus):                  0.000   Jarque-Bera (JB):          9962519.149\n",
       "Skew:                          -7.218   Prob(JB):                         0.00\n",
       "Kurtosis:                      86.447   Cond. No.                         249.\n",
       "==============================================================================\n",
       "\n",
       "Warnings:\n",
       "[1] Standard Errors assume that the covariance matrix of the errors is correctly specified.\n",
       "\"\"\""
      ]
     },
     "execution_count": 23,
     "metadata": {},
     "output_type": "execute_result"
    }
   ],
   "source": [
    "A = df[\"fatBurnMins\"] ## X usually means our input variables (or independent variables)\n",
    "B = df[\"efficiency\"] ## Y usually means our output/dependent variable\n",
    "A = sm.add_constant(A) ## let's add an intercept (beta_0) to our model\n",
    "\n",
    "# Note the difference in argument order\n",
    "model = sm.OLS(B, A).fit() ## sm.OLS(output, input)\n",
    "#predictions = model.predict(A)\n",
    "\n",
    "# Print out the statistics\n",
    "model.summary()"
   ]
  },
  {
   "cell_type": "code",
   "execution_count": 24,
   "metadata": {},
   "outputs": [
    {
     "data": {
      "text/plain": [
       "array(['2015-08-24T00:00:00.000000000', '2015-08-31T00:00:00.000000000',\n",
       "       '2015-09-07T00:00:00.000000000', '2015-09-14T00:00:00.000000000',\n",
       "       '2015-09-21T00:00:00.000000000', '2015-09-28T00:00:00.000000000',\n",
       "       '2015-10-05T00:00:00.000000000', '2015-10-12T00:00:00.000000000',\n",
       "       '2015-10-19T00:00:00.000000000', '2015-10-26T00:00:00.000000000',\n",
       "       '2015-11-02T00:00:00.000000000', '2015-11-09T00:00:00.000000000',\n",
       "       '2015-11-16T00:00:00.000000000', '2015-11-23T00:00:00.000000000',\n",
       "       '2015-11-30T00:00:00.000000000', '2015-12-07T00:00:00.000000000',\n",
       "       '2015-12-14T00:00:00.000000000', '2015-12-21T00:00:00.000000000',\n",
       "       '2015-12-28T00:00:00.000000000', '2016-01-04T00:00:00.000000000',\n",
       "       '2016-01-11T00:00:00.000000000', '2016-01-18T00:00:00.000000000',\n",
       "       '2016-01-25T00:00:00.000000000', '2016-02-01T00:00:00.000000000',\n",
       "       '2016-02-08T00:00:00.000000000', '2016-02-15T00:00:00.000000000',\n",
       "       '2016-02-22T00:00:00.000000000', '2016-02-29T00:00:00.000000000',\n",
       "       '2016-03-07T00:00:00.000000000', '2016-03-14T00:00:00.000000000',\n",
       "       '2016-03-21T00:00:00.000000000', '2016-03-28T00:00:00.000000000',\n",
       "       '2016-04-04T00:00:00.000000000', '2016-04-11T00:00:00.000000000',\n",
       "       '2016-04-18T00:00:00.000000000', '2016-04-25T00:00:00.000000000',\n",
       "       '2016-05-02T00:00:00.000000000'], dtype='datetime64[ns]')"
      ]
     },
     "execution_count": 24,
     "metadata": {},
     "output_type": "execute_result"
    }
   ],
   "source": [
    "df.week_start.unique()"
   ]
  },
  {
   "cell_type": "code",
   "execution_count": 25,
   "metadata": {},
   "outputs": [],
   "source": [
    "before = df[df['week_start'] == '2015-08-24T00:00:00.000000000']['efficiency']\n",
    "after = df[df['week_start'] == '2015-10-19T00:00:00.000000000']['efficiency']"
   ]
  },
  {
   "cell_type": "code",
   "execution_count": 118,
   "metadata": {},
   "outputs": [
    {
     "data": {
      "text/plain": [
       "0        97\n",
       "1        96\n",
       "2        95\n",
       "3        97\n",
       "4        90\n",
       "         ..\n",
       "32664    94\n",
       "32665    93\n",
       "32666    92\n",
       "33314    97\n",
       "33315    97\n",
       "Name: efficiency, Length: 667, dtype: int64"
      ]
     },
     "execution_count": 118,
     "metadata": {},
     "output_type": "execute_result"
    }
   ],
   "source": [
    "before"
   ]
  },
  {
   "cell_type": "code",
   "execution_count": 26,
   "metadata": {},
   "outputs": [
    {
     "name": "stdout",
     "output_type": "stream",
     "text": [
      "0.00016284569459524696\n",
      "reject null hypothesis\n"
     ]
    }
   ],
   "source": [
    "ttest,pval = stats.ttest_ind(before, after)\n",
    "print(pval)\n",
    "if pval<0.05:\n",
    "    print(\"reject null hypothesis\")\n",
    "else:\n",
    "    print(\"accept null hypothesis\")"
   ]
  },
  {
   "cell_type": "code",
   "execution_count": 142,
   "metadata": {},
   "outputs": [],
   "source": [
    "grouped = df.groupby(['participID', 'week_start'], as_index=False)['efficiency'].mean()"
   ]
  },
  {
   "cell_type": "code",
   "execution_count": 143,
   "metadata": {},
   "outputs": [
    {
     "data": {
      "text/plain": [
       "154    3QQQC4\n",
       "25     3MBWWX\n",
       "116    3NDT7M\n",
       "149    3P64V9\n",
       "127    3NRZSK\n",
       "        ...  \n",
       "138    3P2SYM\n",
       "137    3P2SHF\n",
       "136    3NZRMJ\n",
       "79     3N2WQW\n",
       "0      3LZGLG\n",
       "Name: participID, Length: 131, dtype: object"
      ]
     },
     "execution_count": 143,
     "metadata": {},
     "output_type": "execute_result"
    }
   ],
   "source": [
    "a = grouped.groupby('participID', as_index=False).count().sort_values(by='week_start')\n",
    "a[a['week_start']>29]['participID']"
   ]
  },
  {
   "cell_type": "code",
   "execution_count": 73,
   "metadata": {},
   "outputs": [],
   "source": [
    "#195 participants\n",
    "#68 have all 37 weeks of data\n",
    "#91 have 36 or higher\n",
    "#107 have 35 or higher\n",
    "#118 have 34 or higher\n",
    "#131 have 30 or more weeks of data"
   ]
  },
  {
   "cell_type": "code",
   "execution_count": 105,
   "metadata": {},
   "outputs": [
    {
     "data": {
      "text/html": [
       "<div>\n",
       "<style scoped>\n",
       "    .dataframe tbody tr th:only-of-type {\n",
       "        vertical-align: middle;\n",
       "    }\n",
       "\n",
       "    .dataframe tbody tr th {\n",
       "        vertical-align: top;\n",
       "    }\n",
       "\n",
       "    .dataframe thead th {\n",
       "        text-align: right;\n",
       "    }\n",
       "</style>\n",
       "<table border=\"1\" class=\"dataframe\">\n",
       "  <thead>\n",
       "    <tr style=\"text-align: right;\">\n",
       "      <th></th>\n",
       "      <th>participID</th>\n",
       "      <th>week_start</th>\n",
       "      <th>efficiency</th>\n",
       "    </tr>\n",
       "  </thead>\n",
       "  <tbody>\n",
       "    <tr>\n",
       "      <td>0</td>\n",
       "      <td>3LZGLG</td>\n",
       "      <td>2015-08-24</td>\n",
       "      <td>95.500000</td>\n",
       "    </tr>\n",
       "    <tr>\n",
       "      <td>1</td>\n",
       "      <td>3LZGLG</td>\n",
       "      <td>2015-08-31</td>\n",
       "      <td>96.142857</td>\n",
       "    </tr>\n",
       "    <tr>\n",
       "      <td>2</td>\n",
       "      <td>3LZGLG</td>\n",
       "      <td>2015-09-07</td>\n",
       "      <td>97.142857</td>\n",
       "    </tr>\n",
       "    <tr>\n",
       "      <td>3</td>\n",
       "      <td>3LZGLG</td>\n",
       "      <td>2015-09-14</td>\n",
       "      <td>95.428571</td>\n",
       "    </tr>\n",
       "    <tr>\n",
       "      <td>4</td>\n",
       "      <td>3LZGLG</td>\n",
       "      <td>2015-09-21</td>\n",
       "      <td>96.714286</td>\n",
       "    </tr>\n",
       "    <tr>\n",
       "      <td>...</td>\n",
       "      <td>...</td>\n",
       "      <td>...</td>\n",
       "      <td>...</td>\n",
       "    </tr>\n",
       "    <tr>\n",
       "      <td>5145</td>\n",
       "      <td>3PJ5MT</td>\n",
       "      <td>2016-04-04</td>\n",
       "      <td>93.666667</td>\n",
       "    </tr>\n",
       "    <tr>\n",
       "      <td>5146</td>\n",
       "      <td>3PJ5MT</td>\n",
       "      <td>2016-04-11</td>\n",
       "      <td>94.000000</td>\n",
       "    </tr>\n",
       "    <tr>\n",
       "      <td>5147</td>\n",
       "      <td>3PJ5MT</td>\n",
       "      <td>2016-04-18</td>\n",
       "      <td>93.285714</td>\n",
       "    </tr>\n",
       "    <tr>\n",
       "      <td>5148</td>\n",
       "      <td>3PJ5MT</td>\n",
       "      <td>2016-04-25</td>\n",
       "      <td>94.285714</td>\n",
       "    </tr>\n",
       "    <tr>\n",
       "      <td>5149</td>\n",
       "      <td>3PJ5MT</td>\n",
       "      <td>2016-05-02</td>\n",
       "      <td>96.200000</td>\n",
       "    </tr>\n",
       "  </tbody>\n",
       "</table>\n",
       "<p>2516 rows × 3 columns</p>\n",
       "</div>"
      ],
      "text/plain": [
       "     participID week_start  efficiency\n",
       "0        3LZGLG 2015-08-24   95.500000\n",
       "1        3LZGLG 2015-08-31   96.142857\n",
       "2        3LZGLG 2015-09-07   97.142857\n",
       "3        3LZGLG 2015-09-14   95.428571\n",
       "4        3LZGLG 2015-09-21   96.714286\n",
       "...         ...        ...         ...\n",
       "5145     3PJ5MT 2016-04-04   93.666667\n",
       "5146     3PJ5MT 2016-04-11   94.000000\n",
       "5147     3PJ5MT 2016-04-18   93.285714\n",
       "5148     3PJ5MT 2016-04-25   94.285714\n",
       "5149     3PJ5MT 2016-05-02   96.200000\n",
       "\n",
       "[2516 rows x 3 columns]"
      ]
     },
     "execution_count": 105,
     "metadata": {},
     "output_type": "execute_result"
    }
   ],
   "source": [
    "grouped = grouped[grouped['participID'].isin(a[a['week_start']==37]['participID'])]\n",
    "# 68 subjects\n",
    "grouped"
   ]
  },
  {
   "cell_type": "code",
   "execution_count": 140,
   "metadata": {},
   "outputs": [
    {
     "data": {
      "text/plain": [
       "<matplotlib.axes._subplots.AxesSubplot at 0x1c2697de90>"
      ]
     },
     "execution_count": 140,
     "metadata": {},
     "output_type": "execute_result"
    },
    {
     "data": {
      "image/png": "[encoded data removed]",
      "text/plain": [
       "<Figure size 432x288 with 1 Axes>"
      ]
     },
     "metadata": {
      "needs_background": "light"
     },
     "output_type": "display_data"
    }
   ],
   "source": [
    "grouped[grouped['week_start'] == '2015-10-12T00:00:00.000000000'].efficiency.plot(kind='box')"
   ]
  },
  {
   "cell_type": "code",
   "execution_count": 141,
   "metadata": {},
   "outputs": [
    {
     "data": {
      "text/plain": [
       "<matplotlib.axes._subplots.AxesSubplot at 0x1c27139450>"
      ]
     },
     "execution_count": 141,
     "metadata": {},
     "output_type": "execute_result"
    },
    {
     "data": {
      "image/png": "[encoded data removed]",
      "text/plain": [
       "<Figure size 432x288 with 1 Axes>"
      ]
     },
     "metadata": {
      "needs_background": "light"
     },
     "output_type": "display_data"
    }
   ],
   "source": [
    "grouped[grouped['week_start'] == '2015-10-19T00:00:00.000000000'].efficiency.plot(kind='box')"
   ]
  },
  {
   "cell_type": "code",
   "execution_count": 133,
   "metadata": {},
   "outputs": [],
   "source": [
    "def paired_t_test(before, after):\n",
    "    ttest,pval = stats.ttest_rel(before, after)\n",
    "    #print(pval)\n",
    "    if pval<0.05:\n",
    "        print(\"reject null hypothesis\")\n",
    "    #else:\n",
    "    #    print(\"accept null hypothesis\")"
   ]
  },
  {
   "cell_type": "code",
   "execution_count": 139,
   "metadata": {},
   "outputs": [
    {
     "name": "stdout",
     "output_type": "stream",
     "text": [
      "2015-08-31T00:00:00.000000000\n",
      "2015-09-07T00:00:00.000000000\n",
      "2015-09-14T00:00:00.000000000\n",
      "2015-09-21T00:00:00.000000000\n",
      "2015-09-28T00:00:00.000000000\n",
      "2015-10-05T00:00:00.000000000\n",
      "2015-10-12T00:00:00.000000000\n",
      "2015-10-19T00:00:00.000000000\n",
      "reject null hypothesis\n",
      "2015-10-26T00:00:00.000000000\n",
      "2015-11-02T00:00:00.000000000\n",
      "2015-11-09T00:00:00.000000000\n",
      "2015-11-16T00:00:00.000000000\n",
      "2015-11-23T00:00:00.000000000\n",
      "2015-11-30T00:00:00.000000000\n",
      "2015-12-07T00:00:00.000000000\n",
      "2015-12-14T00:00:00.000000000\n",
      "2015-12-21T00:00:00.000000000\n",
      "2015-12-28T00:00:00.000000000\n",
      "2016-01-04T00:00:00.000000000\n",
      "2016-01-11T00:00:00.000000000\n",
      "2016-01-18T00:00:00.000000000\n",
      "2016-01-25T00:00:00.000000000\n",
      "2016-02-01T00:00:00.000000000\n",
      "2016-02-08T00:00:00.000000000\n",
      "2016-02-15T00:00:00.000000000\n",
      "2016-02-22T00:00:00.000000000\n",
      "2016-02-29T00:00:00.000000000\n",
      "2016-03-07T00:00:00.000000000\n",
      "2016-03-14T00:00:00.000000000\n",
      "reject null hypothesis\n",
      "2016-03-21T00:00:00.000000000\n",
      "2016-03-28T00:00:00.000000000\n",
      "2016-04-04T00:00:00.000000000\n",
      "2016-04-11T00:00:00.000000000\n",
      "2016-04-18T00:00:00.000000000\n",
      "2016-04-25T00:00:00.000000000\n",
      "reject null hypothesis\n",
      "2016-05-02T00:00:00.000000000\n"
     ]
    }
   ],
   "source": [
    "weeks = grouped.week_start.unique()\n",
    "l = len(weeks)\n",
    "for index, obj in enumerate(weeks):\n",
    "    if index < (l - 1):\n",
    "        print(weeks[index+1])\n",
    "        this_week = grouped[grouped['week_start'] == weeks[index]].efficiency\n",
    "        next_week = grouped[grouped['week_start'] == weeks[index+1]].efficiency\n",
    "        paired_t_test(this_week, next_week)"
   ]
  },
  {
   "cell_type": "code",
   "execution_count": null,
   "metadata": {},
   "outputs": [],
   "source": []
  },
  {
   "cell_type": "code",
   "execution_count": null,
   "metadata": {},
   "outputs": [],
   "source": []
  }
 ],
 "metadata": {
  "kernelspec": {
   "display_name": "Python 3",
   "language": "python",
   "name": "python3"
  },
  "language_info": {
   "codemirror_mode": {
    "name": "ipython",
    "version": 3
   },
   "file_extension": ".py",
   "mimetype": "text/x-python",
   "name": "python",
   "nbconvert_exporter": "python",
   "pygments_lexer": "ipython3",
   "version": "3.7.4"
  }
 },
 "nbformat": 4,
 "nbformat_minor": 2
}
